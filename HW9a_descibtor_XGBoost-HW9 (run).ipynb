{
 "cells": [
  {
   "cell_type": "markdown",
   "metadata": {},
   "source": [
    "**Homework 9:**\n",
    "\n"
   ]
  },
  {
   "cell_type": "markdown",
   "metadata": {},
   "source": [
    "# Setup"
   ]
  },
  {
   "cell_type": "markdown",
   "metadata": {},
   "source": [
    "First, let's import a few common modules, ensure MatplotLib plots figures inline and prepare a function to save the figures. We also check that Python 3.5 or later is installed (although Python 2.x may work, it is deprecated so we strongly recommend you use Python 3 instead), as well as Scikit-Learn ≥0.20."
   ]
  },
  {
   "cell_type": "code",
   "execution_count": 1,
   "metadata": {},
   "outputs": [],
   "source": [
    "# Python ≥3.5 is required\n",
    "import sys\n",
    "assert sys.version_info >= (3, 5)\n",
    "\n",
    "# Scikit-Learn ≥0.20 is required\n",
    "import sklearn\n",
    "assert sklearn.__version__ >= \"0.20\"\n",
    "\n",
    "# Common imports\n",
    "import numpy as np\n",
    "import pandas as pd\n",
    "import os\n",
    "\n",
    "# to make this notebook's output stable across runs\n",
    "np.random.seed(42)\n",
    "\n",
    "# To plot pretty figures\n",
    "%matplotlib inline\n",
    "import matplotlib as mpl\n",
    "import matplotlib.pyplot as plt\n",
    "mpl.rc('axes', labelsize=14)\n",
    "mpl.rc('xtick', labelsize=12)\n",
    "mpl.rc('ytick', labelsize=12)\n",
    "\n",
    "# Where to save the figures\n",
    "PROJECT_ROOT_DIR = \".\"\n",
    "CHAPTER_ID = \"HW9a\"\n",
    "IMAGES_PATH = os.path.join(PROJECT_ROOT_DIR, \"images\", CHAPTER_ID)\n",
    "os.makedirs(IMAGES_PATH, exist_ok=True)\n",
    "\n",
    "def save_fig(fig_id, tight_layout=True, fig_extension=\"png\", resolution=300):\n",
    "    path = os.path.join(IMAGES_PATH, fig_id + \".\" + fig_extension)\n",
    "    print(\"Saving figure\", fig_id)\n",
    "    if tight_layout:\n",
    "        plt.tight_layout()\n",
    "    plt.savefig(path, format=fig_extension, dpi=resolution)"
   ]
  },
  {
   "cell_type": "code",
   "execution_count": 2,
   "metadata": {},
   "outputs": [],
   "source": [
    "import rdkit\n",
    "from rdkit import Chem\n",
    "from rdkit.Chem import AllChem\n",
    "\n",
    "from rdkit.Chem import Draw\n",
    "from rdkit.Chem.Draw import IPythonConsole\n",
    "from rdkit import DataStructs\n",
    "from rdkit.DataStructs import ConvertToNumpyArray\n",
    "\n",
    "from rdkit.Chem import PandasTools"
   ]
  },
  {
   "cell_type": "markdown",
   "metadata": {},
   "source": [
    "# Load the data"
   ]
  },
  {
   "cell_type": "code",
   "execution_count": 3,
   "metadata": {},
   "outputs": [
    {
     "data": {
      "text/html": [
       "<div>\n",
       "<style scoped>\n",
       "    .dataframe tbody tr th:only-of-type {\n",
       "        vertical-align: middle;\n",
       "    }\n",
       "\n",
       "    .dataframe tbody tr th {\n",
       "        vertical-align: top;\n",
       "    }\n",
       "\n",
       "    .dataframe thead th {\n",
       "        text-align: right;\n",
       "    }\n",
       "</style>\n",
       "<table border=\"1\" class=\"dataframe\">\n",
       "  <thead>\n",
       "    <tr style=\"text-align: right;\">\n",
       "      <th></th>\n",
       "      <th>cano_smiles</th>\n",
       "      <th>activity</th>\n",
       "      <th>group</th>\n",
       "    </tr>\n",
       "  </thead>\n",
       "  <tbody>\n",
       "    <tr>\n",
       "      <th>0</th>\n",
       "      <td>Cc1occc1C(=O)Nc1ccccc1</td>\n",
       "      <td>-3.30</td>\n",
       "      <td>train</td>\n",
       "    </tr>\n",
       "    <tr>\n",
       "      <th>1</th>\n",
       "      <td>CC(C)=CCCC(C)=CC=O</td>\n",
       "      <td>-2.06</td>\n",
       "      <td>train</td>\n",
       "    </tr>\n",
       "    <tr>\n",
       "      <th>2</th>\n",
       "      <td>c1ccc2c(c1)ccc1c2ccc2c3ccccc3ccc21</td>\n",
       "      <td>-7.87</td>\n",
       "      <td>train</td>\n",
       "    </tr>\n",
       "    <tr>\n",
       "      <th>3</th>\n",
       "      <td>c1ccsc1</td>\n",
       "      <td>-1.33</td>\n",
       "      <td>train</td>\n",
       "    </tr>\n",
       "    <tr>\n",
       "      <th>4</th>\n",
       "      <td>c1ccc2scnc2c1</td>\n",
       "      <td>-1.50</td>\n",
       "      <td>train</td>\n",
       "    </tr>\n",
       "  </tbody>\n",
       "</table>\n",
       "</div>"
      ],
      "text/plain": [
       "                          cano_smiles  activity  group\n",
       "0              Cc1occc1C(=O)Nc1ccccc1     -3.30  train\n",
       "1                  CC(C)=CCCC(C)=CC=O     -2.06  train\n",
       "2  c1ccc2c(c1)ccc1c2ccc2c3ccccc3ccc21     -7.87  train\n",
       "3                             c1ccsc1     -1.33  train\n",
       "4                       c1ccc2scnc2c1     -1.50  train"
      ]
     },
     "execution_count": 3,
     "metadata": {},
     "output_type": "execute_result"
    }
   ],
   "source": [
    "#\n",
    "datapath = os.path.join(\"data/raw\", \"esol.csv\")\n",
    "esol_data = pd.read_csv(datapath)\n",
    "esol_data.head()"
   ]
  },
  {
   "cell_type": "markdown",
   "metadata": {},
   "source": [
    "## Data preprocessing"
   ]
  },
  {
   "cell_type": "code",
   "execution_count": 4,
   "metadata": {},
   "outputs": [
    {
     "data": {
      "text/html": [
       "<div>\n",
       "<style scoped>\n",
       "    .dataframe tbody tr th:only-of-type {\n",
       "        vertical-align: middle;\n",
       "    }\n",
       "\n",
       "    .dataframe tbody tr th {\n",
       "        vertical-align: top;\n",
       "    }\n",
       "\n",
       "    .dataframe thead th {\n",
       "        text-align: right;\n",
       "    }\n",
       "</style>\n",
       "<table border=\"1\" class=\"dataframe\">\n",
       "  <thead>\n",
       "    <tr style=\"text-align: right;\">\n",
       "      <th></th>\n",
       "      <th>activity</th>\n",
       "    </tr>\n",
       "  </thead>\n",
       "  <tbody>\n",
       "    <tr>\n",
       "      <th>count</th>\n",
       "      <td>1127.000000</td>\n",
       "    </tr>\n",
       "    <tr>\n",
       "      <th>mean</th>\n",
       "      <td>-3.052010</td>\n",
       "    </tr>\n",
       "    <tr>\n",
       "      <th>std</th>\n",
       "      <td>2.096392</td>\n",
       "    </tr>\n",
       "    <tr>\n",
       "      <th>min</th>\n",
       "      <td>-11.600000</td>\n",
       "    </tr>\n",
       "    <tr>\n",
       "      <th>25%</th>\n",
       "      <td>-4.321000</td>\n",
       "    </tr>\n",
       "    <tr>\n",
       "      <th>50%</th>\n",
       "      <td>-2.860000</td>\n",
       "    </tr>\n",
       "    <tr>\n",
       "      <th>75%</th>\n",
       "      <td>-1.600000</td>\n",
       "    </tr>\n",
       "    <tr>\n",
       "      <th>max</th>\n",
       "      <td>1.580000</td>\n",
       "    </tr>\n",
       "  </tbody>\n",
       "</table>\n",
       "</div>"
      ],
      "text/plain": [
       "          activity\n",
       "count  1127.000000\n",
       "mean     -3.052010\n",
       "std       2.096392\n",
       "min     -11.600000\n",
       "25%      -4.321000\n",
       "50%      -2.860000\n",
       "75%      -1.600000\n",
       "max       1.580000"
      ]
     },
     "execution_count": 4,
     "metadata": {},
     "output_type": "execute_result"
    }
   ],
   "source": [
    "esol_data.describe()"
   ]
  },
  {
   "cell_type": "code",
   "execution_count": 5,
   "metadata": {},
   "outputs": [
    {
     "name": "stdout",
     "output_type": "stream",
     "text": [
      "<class 'pandas.core.frame.DataFrame'>\n",
      "RangeIndex: 1127 entries, 0 to 1126\n",
      "Data columns (total 3 columns):\n",
      " #   Column       Non-Null Count  Dtype  \n",
      "---  ------       --------------  -----  \n",
      " 0   cano_smiles  1127 non-null   object \n",
      " 1   activity     1127 non-null   float64\n",
      " 2   group        1127 non-null   object \n",
      "dtypes: float64(1), object(2)\n",
      "memory usage: 26.5+ KB\n"
     ]
    }
   ],
   "source": [
    "#Generate data exploration\n",
    "esol_data.info()"
   ]
  },
  {
   "cell_type": "markdown",
   "metadata": {},
   "source": [
    "## Molecule genaration"
   ]
  },
  {
   "cell_type": "code",
   "execution_count": 19,
   "metadata": {},
   "outputs": [],
   "source": [
    "# Create Mol rdkit objects for each smile\n",
    "PandasTools.AddMoleculeColumnToFrame(frame=esol_data, smilesCol='cano_smiles', molCol='Molecule')"
   ]
  },
  {
   "cell_type": "markdown",
   "metadata": {},
   "source": [
    "There are a couple of SMILES that could be parsed by RDKit. For wrong SMILES, rdkit would return 'None'."
   ]
  },
  {
   "cell_type": "code",
   "execution_count": 20,
   "metadata": {},
   "outputs": [
    {
     "data": {
      "text/plain": [
       "0"
      ]
     },
     "execution_count": 20,
     "metadata": {},
     "output_type": "execute_result"
    }
   ],
   "source": [
    "sum(esol_data['Molecule'].map(lambda x: x is None))"
   ]
  },
  {
   "cell_type": "code",
   "execution_count": 21,
   "metadata": {},
   "outputs": [
    {
     "data": {
      "text/html": [
       "<div>\n",
       "<style scoped>\n",
       "    .dataframe tbody tr th:only-of-type {\n",
       "        vertical-align: middle;\n",
       "    }\n",
       "\n",
       "    .dataframe tbody tr th {\n",
       "        vertical-align: top;\n",
       "    }\n",
       "\n",
       "    .dataframe thead th {\n",
       "        text-align: right;\n",
       "    }\n",
       "</style>\n",
       "<table border=\"1\" class=\"dataframe\">\n",
       "  <thead>\n",
       "    <tr style=\"text-align: right;\">\n",
       "      <th></th>\n",
       "      <th>cano_smiles</th>\n",
       "      <th>activity</th>\n",
       "      <th>group</th>\n",
       "      <th>Molecule</th>\n",
       "      <th>MorgFP</th>\n",
       "    </tr>\n",
       "  </thead>\n",
       "  <tbody>\n",
       "    <tr>\n",
       "      <th>0</th>\n",
       "      <td>Cc1occc1C(=O)Nc1ccccc1</td>\n",
       "      <td>-3.3</td>\n",
       "      <td>train</td>\n",
       "      <td><img data-content=\"rdkit/molecule\" src=\"data:image/png;base64,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\" alt=\"Mol\"/></td>\n",
       "      <td>[1, 1, 1, 0, 1, 0, 1, 0, 0, 0, 0, 0, 0, 0, 0, ...</td>\n",
       "    </tr>\n",
       "  </tbody>\n",
       "</table>\n",
       "</div>"
      ],
      "text/plain": [
       "              cano_smiles  activity  group  \\\n",
       "0  Cc1occc1C(=O)Nc1ccccc1      -3.3  train   \n",
       "\n",
       "                                            Molecule  \\\n",
       "0  <img data-content=\"rdkit/molecule\" src=\"data:i...   \n",
       "\n",
       "                                              MorgFP  \n",
       "0  [1, 1, 1, 0, 1, 0, 1, 0, 0, 0, 0, 0, 0, 0, 0, ...  "
      ]
     },
     "execution_count": 21,
     "metadata": {},
     "output_type": "execute_result"
    }
   ],
   "source": [
    "esol_data.head(1)"
   ]
  },
  {
   "cell_type": "code",
   "execution_count": 32,
   "metadata": {},
   "outputs": [
    {
     "data": {
      "text/plain": [
       "Text(0.5, 0, 'Heavy atom')"
      ]
     },
     "execution_count": 32,
     "metadata": {},
     "output_type": "execute_result"
    },
    {
     "data": {
      "image/png": "[encoded data removed]",
      "text/plain": [
       "<Figure size 432x288 with 1 Axes>"
      ]
     },
     "metadata": {
      "needs_background": "light"
     },
     "output_type": "display_data"
    }
   ],
   "source": [
    "import rdkit\n",
    "# (esol_data[\"Molecule\"][0]).GetNumHeavyAtoms()\n",
    "\n",
    "n_heavys = [x.GetNumHeavyAtoms() for x in esol_data[\"Molecule\"]]\n",
    "import matplotlib.pyplot as plt\n",
    "plt.hist(n_heavys, bins=range(0, 56))\n",
    "plt.title(\"Heavy atom distribution\")\n",
    "plt.ylabel(\"count\")\n",
    "plt.xlabel(\"Heavy atom\")"
   ]
  },
  {
   "cell_type": "code",
   "execution_count": 9,
   "metadata": {},
   "outputs": [
    {
     "name": "stdout",
     "output_type": "stream",
     "text": [
      "<class 'pandas.core.frame.DataFrame'>\n",
      "RangeIndex: 1127 entries, 0 to 1126\n",
      "Data columns (total 4 columns):\n",
      " #   Column       Non-Null Count  Dtype  \n",
      "---  ------       --------------  -----  \n",
      " 0   cano_smiles  1127 non-null   object \n",
      " 1   activity     1127 non-null   float64\n",
      " 2   group        1127 non-null   object \n",
      " 3   Molecule     1127 non-null   object \n",
      "dtypes: float64(1), object(3)\n",
      "memory usage: 35.3+ KB\n"
     ]
    }
   ],
   "source": [
    "#Generate data exploration\n",
    "esol_data.info()"
   ]
  },
  {
   "cell_type": "markdown",
   "metadata": {},
   "source": [
    "### Morgan Fingerprint generation\n",
    "A fingerprint is generated for each compound in the \"Molecule\" column with a radius of 2 and a bit length of 2048."
   ]
  },
  {
   "cell_type": "code",
   "execution_count": 10,
   "metadata": {},
   "outputs": [],
   "source": [
    "#create a column for Morgan fingerprints\n",
    "n_Bits = 2048\n",
    "esol_data[\"MorgFP\"] = [AllChem.GetMorganFingerprintAsBitVect(m, 2, nBits = n_Bits, useFeatures=True) for m in esol_data['Molecule']]## Molecule genaration"
   ]
  },
  {
   "cell_type": "code",
   "execution_count": 11,
   "metadata": {},
   "outputs": [
    {
     "data": {
      "text/plain": [
       "0    [1, 1, 1, 0, 1, 0, 1, 0, 0, 0, 0, 0, 0, 0, 0, ...\n",
       "1    [1, 0, 1, 0, 0, 0, 0, 0, 0, 0, 0, 0, 0, 0, 0, ...\n",
       "2    [0, 0, 0, 0, 1, 0, 0, 0, 0, 0, 0, 0, 0, 0, 0, ...\n",
       "3    [0, 0, 0, 0, 1, 0, 1, 0, 0, 0, 0, 0, 0, 0, 0, ...\n",
       "4    [0, 0, 0, 0, 1, 0, 1, 0, 0, 0, 0, 0, 0, 0, 0, ...\n",
       "Name: MorgFP, dtype: object"
      ]
     },
     "execution_count": 11,
     "metadata": {},
     "output_type": "execute_result"
    }
   ],
   "source": [
    "esol_data[\"MorgFP\"].head()"
   ]
  },
  {
   "cell_type": "code",
   "execution_count": 12,
   "metadata": {},
   "outputs": [
    {
     "data": {
      "text/plain": [
       "pandas.core.series.Series"
      ]
     },
     "execution_count": 12,
     "metadata": {},
     "output_type": "execute_result"
    }
   ],
   "source": [
    "type(esol_data[\"MorgFP\"])"
   ]
  },
  {
   "cell_type": "code",
   "execution_count": 13,
   "metadata": {},
   "outputs": [
    {
     "name": "stdout",
     "output_type": "stream",
     "text": [
      "<class 'pandas.core.frame.DataFrame'>\n",
      "RangeIndex: 1127 entries, 0 to 1126\n",
      "Data columns (total 5 columns):\n",
      " #   Column       Non-Null Count  Dtype  \n",
      "---  ------       --------------  -----  \n",
      " 0   cano_smiles  1127 non-null   object \n",
      " 1   activity     1127 non-null   float64\n",
      " 2   group        1127 non-null   object \n",
      " 3   Molecule     1127 non-null   object \n",
      " 4   MorgFP       1127 non-null   object \n",
      "dtypes: float64(1), object(4)\n",
      "memory usage: 44.1+ KB\n"
     ]
    }
   ],
   "source": [
    "esol_data.info()"
   ]
  },
  {
   "cell_type": "code",
   "execution_count": 18,
   "metadata": {},
   "outputs": [
    {
     "data": {
      "text/plain": [
       "array([[<AxesSubplot:title={'center':'activity'}>]], dtype=object)"
      ]
     },
     "execution_count": 18,
     "metadata": {},
     "output_type": "execute_result"
    },
    {
     "data": {
      "image/png": "[encoded data removed]",
      "text/plain": [
       "<Figure size 432x288 with 1 Axes>"
      ]
     },
     "metadata": {
      "needs_background": "light"
     },
     "output_type": "display_data"
    }
   ],
   "source": [
    "esol_data.hist(bins=25)"
   ]
  },
  {
   "cell_type": "markdown",
   "metadata": {},
   "source": [
    "## Obtain descriptors"
   ]
  },
  {
   "cell_type": "markdown",
   "metadata": {},
   "source": [
    "**- DescriptorCalculator(): Various bits and pieces for calculating descriptors.**\n",
    "**- CalcDescriptors(): "
   ]
  },
  {
   "cell_type": "code",
   "execution_count": 14,
   "metadata": {
    "scrolled": true
   },
   "outputs": [
    {
     "name": "stdout",
     "output_type": "stream",
     "text": [
      "['MaxEStateIndex' 'MinEStateIndex' 'MaxAbsEStateIndex' 'MinAbsEStateIndex'\n",
      " 'qed' 'MolWt' 'HeavyAtomMolWt' 'ExactMolWt' 'NumValenceElectrons'\n",
      " 'NumRadicalElectrons' 'MaxPartialCharge' 'MinPartialCharge'\n",
      " 'MaxAbsPartialCharge' 'MinAbsPartialCharge' 'FpDensityMorgan1'\n",
      " 'FpDensityMorgan2' 'FpDensityMorgan3' 'BCUT2D_MWHI' 'BCUT2D_MWLOW'\n",
      " 'BCUT2D_CHGHI' 'BCUT2D_CHGLO' 'BCUT2D_LOGPHI' 'BCUT2D_LOGPLOW'\n",
      " 'BCUT2D_MRHI' 'BCUT2D_MRLOW' 'BalabanJ' 'BertzCT' 'Chi0' 'Chi0n' 'Chi0v'\n",
      " 'Chi1' 'Chi1n' 'Chi1v' 'Chi2n' 'Chi2v' 'Chi3n' 'Chi3v' 'Chi4n' 'Chi4v'\n",
      " 'HallKierAlpha' 'Ipc' 'Kappa1' 'Kappa2' 'Kappa3' 'LabuteASA' 'PEOE_VSA1'\n",
      " 'PEOE_VSA10' 'PEOE_VSA11' 'PEOE_VSA12' 'PEOE_VSA13' 'PEOE_VSA14'\n",
      " 'PEOE_VSA2' 'PEOE_VSA3' 'PEOE_VSA4' 'PEOE_VSA5' 'PEOE_VSA6' 'PEOE_VSA7'\n",
      " 'PEOE_VSA8' 'PEOE_VSA9' 'SMR_VSA1' 'SMR_VSA10' 'SMR_VSA2' 'SMR_VSA3'\n",
      " 'SMR_VSA4' 'SMR_VSA5' 'SMR_VSA6' 'SMR_VSA7' 'SMR_VSA8' 'SMR_VSA9'\n",
      " 'SlogP_VSA1' 'SlogP_VSA10' 'SlogP_VSA11' 'SlogP_VSA12' 'SlogP_VSA2'\n",
      " 'SlogP_VSA3' 'SlogP_VSA4' 'SlogP_VSA5' 'SlogP_VSA6' 'SlogP_VSA7'\n",
      " 'SlogP_VSA8' 'SlogP_VSA9' 'TPSA' 'EState_VSA1' 'EState_VSA10'\n",
      " 'EState_VSA11' 'EState_VSA2' 'EState_VSA3' 'EState_VSA4' 'EState_VSA5'\n",
      " 'EState_VSA6' 'EState_VSA7' 'EState_VSA8' 'EState_VSA9' 'VSA_EState1'\n",
      " 'VSA_EState10' 'VSA_EState2' 'VSA_EState3' 'VSA_EState4' 'VSA_EState5'\n",
      " 'VSA_EState6' 'VSA_EState7' 'VSA_EState8' 'VSA_EState9' 'FractionCSP3'\n",
      " 'HeavyAtomCount' 'NHOHCount' 'NOCount' 'NumAliphaticCarbocycles'\n",
      " 'NumAliphaticHeterocycles' 'NumAliphaticRings' 'NumAromaticCarbocycles'\n",
      " 'NumAromaticHeterocycles' 'NumAromaticRings' 'NumHAcceptors' 'NumHDonors'\n",
      " 'NumHeteroatoms' 'NumRotatableBonds' 'NumSaturatedCarbocycles'\n",
      " 'NumSaturatedHeterocycles' 'NumSaturatedRings' 'RingCount' 'MolLogP'\n",
      " 'MolMR' 'fr_Al_COO' 'fr_Al_OH' 'fr_Al_OH_noTert' 'fr_ArN' 'fr_Ar_COO'\n",
      " 'fr_Ar_N' 'fr_Ar_NH' 'fr_Ar_OH' 'fr_COO' 'fr_COO2' 'fr_C_O'\n",
      " 'fr_C_O_noCOO' 'fr_C_S' 'fr_HOCCN' 'fr_Imine' 'fr_NH0' 'fr_NH1' 'fr_NH2'\n",
      " 'fr_N_O' 'fr_Ndealkylation1' 'fr_Ndealkylation2' 'fr_Nhpyrrole' 'fr_SH'\n",
      " 'fr_aldehyde' 'fr_alkyl_carbamate' 'fr_alkyl_halide' 'fr_allylic_oxid'\n",
      " 'fr_amide' 'fr_amidine' 'fr_aniline' 'fr_aryl_methyl' 'fr_azide' 'fr_azo'\n",
      " 'fr_barbitur' 'fr_benzene' 'fr_benzodiazepine' 'fr_bicyclic' 'fr_diazo'\n",
      " 'fr_dihydropyridine' 'fr_epoxide' 'fr_ester' 'fr_ether' 'fr_furan'\n",
      " 'fr_guanido' 'fr_halogen' 'fr_hdrzine' 'fr_hdrzone' 'fr_imidazole'\n",
      " 'fr_imide' 'fr_isocyan' 'fr_isothiocyan' 'fr_ketone' 'fr_ketone_Topliss'\n",
      " 'fr_lactam' 'fr_lactone' 'fr_methoxy' 'fr_morpholine' 'fr_nitrile'\n",
      " 'fr_nitro' 'fr_nitro_arom' 'fr_nitro_arom_nonortho' 'fr_nitroso'\n",
      " 'fr_oxazole' 'fr_oxime' 'fr_para_hydroxylation' 'fr_phenol'\n",
      " 'fr_phenol_noOrthoHbond' 'fr_phos_acid' 'fr_phos_ester' 'fr_piperdine'\n",
      " 'fr_piperzine' 'fr_priamide' 'fr_prisulfonamd' 'fr_pyridine' 'fr_quatN'\n",
      " 'fr_sulfide' 'fr_sulfonamd' 'fr_sulfone' 'fr_term_acetylene'\n",
      " 'fr_tetrazole' 'fr_thiazole' 'fr_thiocyan' 'fr_thiophene'\n",
      " 'fr_unbrch_alkane' 'fr_urea']\n"
     ]
    }
   ],
   "source": [
    "from rdkit.Chem import Descriptors\n",
    "from rdkit.ML.Descriptors import MoleculeDescriptors\n",
    "descriptors = list(np.array(Descriptors._descList)[:,0])\n",
    "print(np.array(Descriptors._descList)[:,0])"
   ]
  },
  {
   "cell_type": "code",
   "execution_count": 15,
   "metadata": {},
   "outputs": [],
   "source": [
    "calculator = MoleculeDescriptors.MolecularDescriptorCalculator(descriptors)\n",
    "# Define a custom function to calculate molecular descriptors\n",
    "def computeDescriptors(mol, calculator):\n",
    "    res = list(calculator.CalcDescriptors(mol))\n",
    "    if not np.all(np.isfinite(res)):\n",
    "        return None  \n",
    "# Make it's easier to identify problematic molecules (e.g.: infinty descriptor values) later \n",
    "    return res"
   ]
  },
  {
   "cell_type": "code",
   "execution_count": 16,
   "metadata": {
    "scrolled": false
   },
   "outputs": [
    {
     "data": {
      "text/html": [
       "<div>\n",
       "<style scoped>\n",
       "    .dataframe tbody tr th:only-of-type {\n",
       "        vertical-align: middle;\n",
       "    }\n",
       "\n",
       "    .dataframe tbody tr th {\n",
       "        vertical-align: top;\n",
       "    }\n",
       "\n",
       "    .dataframe thead th {\n",
       "        text-align: right;\n",
       "    }\n",
       "</style>\n",
       "<table border=\"1\" class=\"dataframe\">\n",
       "  <thead>\n",
       "    <tr style=\"text-align: right;\">\n",
       "      <th></th>\n",
       "      <th>cano_smiles</th>\n",
       "      <th>activity</th>\n",
       "      <th>group</th>\n",
       "      <th>Molecule</th>\n",
       "      <th>MorgFP</th>\n",
       "      <th>Descriptors</th>\n",
       "    </tr>\n",
       "  </thead>\n",
       "  <tbody>\n",
       "    <tr>\n",
       "      <th>0</th>\n",
       "      <td>Cc1occc1C(=O)Nc1ccccc1</td>\n",
       "      <td>-3.30</td>\n",
       "      <td>train</td>\n",
       "      <td><img data-content=\"rdkit/molecule\" src=\"data:image/png;base64,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\" alt=\"Mol\"/></td>\n",
       "      <td>[1, 1, 1, 0, 1, 0, 1, 0, 0, 0, 0, 0, 0, 0, 0, ...</td>\n",
       "      <td>[11.724911186696902, -0.14587962962962941, 11....</td>\n",
       "    </tr>\n",
       "    <tr>\n",
       "      <th>1</th>\n",
       "      <td>CC(C)=CCCC(C)=CC=O</td>\n",
       "      <td>-2.06</td>\n",
       "      <td>train</td>\n",
       "      <td><img data-content=\"rdkit/molecule\" src=\"data:image/png;base64,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\" alt=\"Mol\"/></td>\n",
       "      <td>[1, 0, 1, 0, 0, 0, 0, 0, 0, 0, 0, 0, 0, 0, 0, ...</td>\n",
       "      <td>[10.020497606449988, 0.8450897581254724, 10.02...</td>\n",
       "    </tr>\n",
       "    <tr>\n",
       "      <th>2</th>\n",
       "      <td>c1ccc2c(c1)ccc1c2ccc2c3ccccc3ccc21</td>\n",
       "      <td>-7.87</td>\n",
       "      <td>train</td>\n",
       "      <td><img data-content=\"rdkit/molecule\" src=\"data:image/png;base64,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\" alt=\"Mol\"/></td>\n",
       "      <td>[0, 0, 0, 0, 1, 0, 0, 0, 0, 0, 0, 0, 0, 0, 0, ...</td>\n",
       "      <td>[2.270277777777778, 1.3010547891996307, 2.2702...</td>\n",
       "    </tr>\n",
       "    <tr>\n",
       "      <th>3</th>\n",
       "      <td>c1ccsc1</td>\n",
       "      <td>-1.33</td>\n",
       "      <td>train</td>\n",
       "      <td><img data-content=\"rdkit/molecule\" src=\"data:image/png;base64,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\" alt=\"Mol\"/></td>\n",
       "      <td>[0, 0, 0, 0, 1, 0, 1, 0, 0, 0, 0, 0, 0, 0, 0, ...</td>\n",
       "      <td>[2.0416666666666665, 1.7129629629629628, 2.041...</td>\n",
       "    </tr>\n",
       "    <tr>\n",
       "      <th>4</th>\n",
       "      <td>c1ccc2scnc2c1</td>\n",
       "      <td>-1.50</td>\n",
       "      <td>train</td>\n",
       "      <td><img data-content=\"rdkit/molecule\" src=\"data:image/png;base64,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\" alt=\"Mol\"/></td>\n",
       "      <td>[0, 0, 0, 0, 1, 0, 1, 0, 0, 0, 0, 0, 0, 0, 0, ...</td>\n",
       "      <td>[4.137222222222222, 1.0995370370370372, 4.1372...</td>\n",
       "    </tr>\n",
       "  </tbody>\n",
       "</table>\n",
       "</div>"
      ],
      "text/plain": [
       "                          cano_smiles  activity  group  \\\n",
       "0              Cc1occc1C(=O)Nc1ccccc1     -3.30  train   \n",
       "1                  CC(C)=CCCC(C)=CC=O     -2.06  train   \n",
       "2  c1ccc2c(c1)ccc1c2ccc2c3ccccc3ccc21     -7.87  train   \n",
       "3                             c1ccsc1     -1.33  train   \n",
       "4                       c1ccc2scnc2c1     -1.50  train   \n",
       "\n",
       "                                            Molecule  \\\n",
       "0  <img data-content=\"rdkit/molecule\" src=\"data:i...   \n",
       "1  <img data-content=\"rdkit/molecule\" src=\"data:i...   \n",
       "2  <img data-content=\"rdkit/molecule\" src=\"data:i...   \n",
       "3  <img data-content=\"rdkit/molecule\" src=\"data:i...   \n",
       "4  <img data-content=\"rdkit/molecule\" src=\"data:i...   \n",
       "\n",
       "                                              MorgFP  \\\n",
       "0  [1, 1, 1, 0, 1, 0, 1, 0, 0, 0, 0, 0, 0, 0, 0, ...   \n",
       "1  [1, 0, 1, 0, 0, 0, 0, 0, 0, 0, 0, 0, 0, 0, 0, ...   \n",
       "2  [0, 0, 0, 0, 1, 0, 0, 0, 0, 0, 0, 0, 0, 0, 0, ...   \n",
       "3  [0, 0, 0, 0, 1, 0, 1, 0, 0, 0, 0, 0, 0, 0, 0, ...   \n",
       "4  [0, 0, 0, 0, 1, 0, 1, 0, 0, 0, 0, 0, 0, 0, 0, ...   \n",
       "\n",
       "                                         Descriptors  \n",
       "0  [11.724911186696902, -0.14587962962962941, 11....  \n",
       "1  [10.020497606449988, 0.8450897581254724, 10.02...  \n",
       "2  [2.270277777777778, 1.3010547891996307, 2.2702...  \n",
       "3  [2.0416666666666665, 1.7129629629629628, 2.041...  \n",
       "4  [4.137222222222222, 1.0995370370370372, 4.1372...  "
      ]
     },
     "execution_count": 16,
     "metadata": {},
     "output_type": "execute_result"
    }
   ],
   "source": [
    "# Compute the descriptors\n",
    "esol_data['Descriptors'] = esol_data['Molecule'].map(lambda x: computeDescriptors(x,calculator))\n",
    "# Remove rows with non-finite descriptor values (seems to be only 1 by comparing the counts)\n",
    "esol_data = esol_data[esol_data['Descriptors'].map(lambda x: x is not None)]\n",
    "esol_data.head()"
   ]
  },
  {
   "cell_type": "code",
   "execution_count": 17,
   "metadata": {},
   "outputs": [
    {
     "data": {
      "text/html": [
       "<div>\n",
       "<style scoped>\n",
       "    .dataframe tbody tr th:only-of-type {\n",
       "        vertical-align: middle;\n",
       "    }\n",
       "\n",
       "    .dataframe tbody tr th {\n",
       "        vertical-align: top;\n",
       "    }\n",
       "\n",
       "    .dataframe thead th {\n",
       "        text-align: right;\n",
       "    }\n",
       "</style>\n",
       "<table border=\"1\" class=\"dataframe\">\n",
       "  <thead>\n",
       "    <tr style=\"text-align: right;\">\n",
       "      <th></th>\n",
       "      <th>desc_name</th>\n",
       "    </tr>\n",
       "  </thead>\n",
       "  <tbody>\n",
       "    <tr>\n",
       "      <th>0</th>\n",
       "      <td>MaxEStateIndex</td>\n",
       "    </tr>\n",
       "    <tr>\n",
       "      <th>1</th>\n",
       "      <td>MinEStateIndex</td>\n",
       "    </tr>\n",
       "    <tr>\n",
       "      <th>2</th>\n",
       "      <td>MaxAbsEStateIndex</td>\n",
       "    </tr>\n",
       "    <tr>\n",
       "      <th>3</th>\n",
       "      <td>MinAbsEStateIndex</td>\n",
       "    </tr>\n",
       "    <tr>\n",
       "      <th>4</th>\n",
       "      <td>qed</td>\n",
       "    </tr>\n",
       "    <tr>\n",
       "      <th>...</th>\n",
       "      <td>...</td>\n",
       "    </tr>\n",
       "    <tr>\n",
       "      <th>203</th>\n",
       "      <td>fr_thiazole</td>\n",
       "    </tr>\n",
       "    <tr>\n",
       "      <th>204</th>\n",
       "      <td>fr_thiocyan</td>\n",
       "    </tr>\n",
       "    <tr>\n",
       "      <th>205</th>\n",
       "      <td>fr_thiophene</td>\n",
       "    </tr>\n",
       "    <tr>\n",
       "      <th>206</th>\n",
       "      <td>fr_unbrch_alkane</td>\n",
       "    </tr>\n",
       "    <tr>\n",
       "      <th>207</th>\n",
       "      <td>fr_urea</td>\n",
       "    </tr>\n",
       "  </tbody>\n",
       "</table>\n",
       "<p>208 rows × 1 columns</p>\n",
       "</div>"
      ],
      "text/plain": [
       "             desc_name\n",
       "0       MaxEStateIndex\n",
       "1       MinEStateIndex\n",
       "2    MaxAbsEStateIndex\n",
       "3    MinAbsEStateIndex\n",
       "4                  qed\n",
       "..                 ...\n",
       "203        fr_thiazole\n",
       "204        fr_thiocyan\n",
       "205       fr_thiophene\n",
       "206   fr_unbrch_alkane\n",
       "207            fr_urea\n",
       "\n",
       "[208 rows x 1 columns]"
      ]
     },
     "execution_count": 17,
     "metadata": {},
     "output_type": "execute_result"
    }
   ],
   "source": [
    "df_descriptors = pd.DataFrame(descriptors, columns=['desc_name'])\n",
    "df_descriptors"
   ]
  },
  {
   "cell_type": "code",
   "execution_count": 18,
   "metadata": {
    "scrolled": true
   },
   "outputs": [
    {
     "data": {
      "text/html": [
       "<div>\n",
       "<style scoped>\n",
       "    .dataframe tbody tr th:only-of-type {\n",
       "        vertical-align: middle;\n",
       "    }\n",
       "\n",
       "    .dataframe tbody tr th {\n",
       "        vertical-align: top;\n",
       "    }\n",
       "\n",
       "    .dataframe thead th {\n",
       "        text-align: right;\n",
       "    }\n",
       "</style>\n",
       "<table border=\"1\" class=\"dataframe\">\n",
       "  <thead>\n",
       "    <tr style=\"text-align: right;\">\n",
       "      <th></th>\n",
       "      <th>MaxEStateIndex</th>\n",
       "      <th>MinEStateIndex</th>\n",
       "      <th>MaxAbsEStateIndex</th>\n",
       "      <th>MinAbsEStateIndex</th>\n",
       "      <th>qed</th>\n",
       "      <th>MolWt</th>\n",
       "      <th>HeavyAtomMolWt</th>\n",
       "      <th>ExactMolWt</th>\n",
       "      <th>NumValenceElectrons</th>\n",
       "      <th>NumRadicalElectrons</th>\n",
       "      <th>...</th>\n",
       "      <th>fr_sulfide</th>\n",
       "      <th>fr_sulfonamd</th>\n",
       "      <th>fr_sulfone</th>\n",
       "      <th>fr_term_acetylene</th>\n",
       "      <th>fr_tetrazole</th>\n",
       "      <th>fr_thiazole</th>\n",
       "      <th>fr_thiocyan</th>\n",
       "      <th>fr_thiophene</th>\n",
       "      <th>fr_unbrch_alkane</th>\n",
       "      <th>fr_urea</th>\n",
       "    </tr>\n",
       "  </thead>\n",
       "  <tbody>\n",
       "    <tr>\n",
       "      <th>0</th>\n",
       "      <td>11.724911</td>\n",
       "      <td>-0.145880</td>\n",
       "      <td>11.724911</td>\n",
       "      <td>0.145880</td>\n",
       "      <td>0.811283</td>\n",
       "      <td>201.225</td>\n",
       "      <td>190.137</td>\n",
       "      <td>201.078979</td>\n",
       "      <td>76</td>\n",
       "      <td>0</td>\n",
       "      <td>...</td>\n",
       "      <td>0</td>\n",
       "      <td>0</td>\n",
       "      <td>0</td>\n",
       "      <td>0</td>\n",
       "      <td>0</td>\n",
       "      <td>0</td>\n",
       "      <td>0</td>\n",
       "      <td>0</td>\n",
       "      <td>0</td>\n",
       "      <td>0</td>\n",
       "    </tr>\n",
       "    <tr>\n",
       "      <th>1</th>\n",
       "      <td>10.020498</td>\n",
       "      <td>0.845090</td>\n",
       "      <td>10.020498</td>\n",
       "      <td>0.845090</td>\n",
       "      <td>0.343706</td>\n",
       "      <td>152.237</td>\n",
       "      <td>136.109</td>\n",
       "      <td>152.120115</td>\n",
       "      <td>62</td>\n",
       "      <td>0</td>\n",
       "      <td>...</td>\n",
       "      <td>0</td>\n",
       "      <td>0</td>\n",
       "      <td>0</td>\n",
       "      <td>0</td>\n",
       "      <td>0</td>\n",
       "      <td>0</td>\n",
       "      <td>0</td>\n",
       "      <td>0</td>\n",
       "      <td>0</td>\n",
       "      <td>0</td>\n",
       "    </tr>\n",
       "    <tr>\n",
       "      <th>2</th>\n",
       "      <td>2.270278</td>\n",
       "      <td>1.301055</td>\n",
       "      <td>2.270278</td>\n",
       "      <td>1.301055</td>\n",
       "      <td>0.291526</td>\n",
       "      <td>278.354</td>\n",
       "      <td>264.242</td>\n",
       "      <td>278.109550</td>\n",
       "      <td>102</td>\n",
       "      <td>0</td>\n",
       "      <td>...</td>\n",
       "      <td>0</td>\n",
       "      <td>0</td>\n",
       "      <td>0</td>\n",
       "      <td>0</td>\n",
       "      <td>0</td>\n",
       "      <td>0</td>\n",
       "      <td>0</td>\n",
       "      <td>0</td>\n",
       "      <td>0</td>\n",
       "      <td>0</td>\n",
       "    </tr>\n",
       "    <tr>\n",
       "      <th>3</th>\n",
       "      <td>2.041667</td>\n",
       "      <td>1.712963</td>\n",
       "      <td>2.041667</td>\n",
       "      <td>1.712963</td>\n",
       "      <td>0.448927</td>\n",
       "      <td>84.143</td>\n",
       "      <td>80.111</td>\n",
       "      <td>84.003371</td>\n",
       "      <td>26</td>\n",
       "      <td>0</td>\n",
       "      <td>...</td>\n",
       "      <td>0</td>\n",
       "      <td>0</td>\n",
       "      <td>0</td>\n",
       "      <td>0</td>\n",
       "      <td>0</td>\n",
       "      <td>0</td>\n",
       "      <td>0</td>\n",
       "      <td>1</td>\n",
       "      <td>0</td>\n",
       "      <td>0</td>\n",
       "    </tr>\n",
       "    <tr>\n",
       "      <th>4</th>\n",
       "      <td>4.137222</td>\n",
       "      <td>1.099537</td>\n",
       "      <td>4.137222</td>\n",
       "      <td>1.099537</td>\n",
       "      <td>0.539774</td>\n",
       "      <td>135.191</td>\n",
       "      <td>130.151</td>\n",
       "      <td>135.014270</td>\n",
       "      <td>44</td>\n",
       "      <td>0</td>\n",
       "      <td>...</td>\n",
       "      <td>0</td>\n",
       "      <td>0</td>\n",
       "      <td>0</td>\n",
       "      <td>0</td>\n",
       "      <td>0</td>\n",
       "      <td>1</td>\n",
       "      <td>0</td>\n",
       "      <td>0</td>\n",
       "      <td>0</td>\n",
       "      <td>0</td>\n",
       "    </tr>\n",
       "  </tbody>\n",
       "</table>\n",
       "<p>5 rows × 208 columns</p>\n",
       "</div>"
      ],
      "text/plain": [
       "   MaxEStateIndex  MinEStateIndex  MaxAbsEStateIndex  MinAbsEStateIndex  \\\n",
       "0       11.724911       -0.145880          11.724911           0.145880   \n",
       "1       10.020498        0.845090          10.020498           0.845090   \n",
       "2        2.270278        1.301055           2.270278           1.301055   \n",
       "3        2.041667        1.712963           2.041667           1.712963   \n",
       "4        4.137222        1.099537           4.137222           1.099537   \n",
       "\n",
       "        qed    MolWt  HeavyAtomMolWt  ExactMolWt  NumValenceElectrons  \\\n",
       "0  0.811283  201.225         190.137  201.078979                   76   \n",
       "1  0.343706  152.237         136.109  152.120115                   62   \n",
       "2  0.291526  278.354         264.242  278.109550                  102   \n",
       "3  0.448927   84.143          80.111   84.003371                   26   \n",
       "4  0.539774  135.191         130.151  135.014270                   44   \n",
       "\n",
       "   NumRadicalElectrons  ...  fr_sulfide  fr_sulfonamd  fr_sulfone  \\\n",
       "0                    0  ...           0             0           0   \n",
       "1                    0  ...           0             0           0   \n",
       "2                    0  ...           0             0           0   \n",
       "3                    0  ...           0             0           0   \n",
       "4                    0  ...           0             0           0   \n",
       "\n",
       "   fr_term_acetylene  fr_tetrazole  fr_thiazole  fr_thiocyan  fr_thiophene  \\\n",
       "0                  0             0            0            0             0   \n",
       "1                  0             0            0            0             0   \n",
       "2                  0             0            0            0             0   \n",
       "3                  0             0            0            0             1   \n",
       "4                  0             0            1            0             0   \n",
       "\n",
       "   fr_unbrch_alkane  fr_urea  \n",
       "0                 0        0  \n",
       "1                 0        0  \n",
       "2                 0        0  \n",
       "3                 0        0  \n",
       "4                 0        0  \n",
       "\n",
       "[5 rows x 208 columns]"
      ]
     },
     "execution_count": 18,
     "metadata": {},
     "output_type": "execute_result"
    }
   ],
   "source": [
    "desc_name = [df_descriptors['desc_name'][i] for i in range(len(df_descriptors))]\n",
    "desc_val = [list(l) for l in esol_data['Descriptors']]\n",
    "df_desc = pd.DataFrame(desc_val, index = esol_data.index, columns=desc_name)\n",
    "df_desc.head()"
   ]
  },
  {
   "cell_type": "code",
   "execution_count": 19,
   "metadata": {},
   "outputs": [],
   "source": [
    "esol = pd.concat([esol_data, df_desc], axis= 1, ignore_index=False)\n"
   ]
  },
  {
   "cell_type": "code",
   "execution_count": 20,
   "metadata": {},
   "outputs": [
    {
     "data": {
      "text/plain": [
       "(1127, 214)"
      ]
     },
     "execution_count": 20,
     "metadata": {},
     "output_type": "execute_result"
    }
   ],
   "source": [
    "esol.shape"
   ]
  },
  {
   "cell_type": "code",
   "execution_count": 21,
   "metadata": {
    "scrolled": true
   },
   "outputs": [
    {
     "data": {
      "text/html": [
       "<div>\n",
       "<style scoped>\n",
       "    .dataframe tbody tr th:only-of-type {\n",
       "        vertical-align: middle;\n",
       "    }\n",
       "\n",
       "    .dataframe tbody tr th {\n",
       "        vertical-align: top;\n",
       "    }\n",
       "\n",
       "    .dataframe thead th {\n",
       "        text-align: right;\n",
       "    }\n",
       "</style>\n",
       "<table border=\"1\" class=\"dataframe\">\n",
       "  <thead>\n",
       "    <tr style=\"text-align: right;\">\n",
       "      <th></th>\n",
       "      <th>cano_smiles</th>\n",
       "      <th>activity</th>\n",
       "      <th>group</th>\n",
       "      <th>Molecule</th>\n",
       "      <th>MorgFP</th>\n",
       "      <th>Descriptors</th>\n",
       "      <th>MaxEStateIndex</th>\n",
       "      <th>MinEStateIndex</th>\n",
       "      <th>MaxAbsEStateIndex</th>\n",
       "      <th>MinAbsEStateIndex</th>\n",
       "      <th>...</th>\n",
       "      <th>fr_sulfide</th>\n",
       "      <th>fr_sulfonamd</th>\n",
       "      <th>fr_sulfone</th>\n",
       "      <th>fr_term_acetylene</th>\n",
       "      <th>fr_tetrazole</th>\n",
       "      <th>fr_thiazole</th>\n",
       "      <th>fr_thiocyan</th>\n",
       "      <th>fr_thiophene</th>\n",
       "      <th>fr_unbrch_alkane</th>\n",
       "      <th>fr_urea</th>\n",
       "    </tr>\n",
       "  </thead>\n",
       "  <tbody>\n",
       "    <tr>\n",
       "      <th>0</th>\n",
       "      <td>Cc1occc1C(=O)Nc1ccccc1</td>\n",
       "      <td>-3.30</td>\n",
       "      <td>train</td>\n",
       "      <td><img data-content=\"rdkit/molecule\" src=\"data:image/png;base64,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\" alt=\"Mol\"/></td>\n",
       "      <td>[1, 1, 1, 0, 1, 0, 1, 0, 0, 0, 0, 0, 0, 0, 0, ...</td>\n",
       "      <td>[11.724911186696902, -0.14587962962962941, 11....</td>\n",
       "      <td>11.724911</td>\n",
       "      <td>-0.145880</td>\n",
       "      <td>11.724911</td>\n",
       "      <td>0.145880</td>\n",
       "      <td>...</td>\n",
       "      <td>0</td>\n",
       "      <td>0</td>\n",
       "      <td>0</td>\n",
       "      <td>0</td>\n",
       "      <td>0</td>\n",
       "      <td>0</td>\n",
       "      <td>0</td>\n",
       "      <td>0</td>\n",
       "      <td>0</td>\n",
       "      <td>0</td>\n",
       "    </tr>\n",
       "    <tr>\n",
       "      <th>1</th>\n",
       "      <td>CC(C)=CCCC(C)=CC=O</td>\n",
       "      <td>-2.06</td>\n",
       "      <td>train</td>\n",
       "      <td><img data-content=\"rdkit/molecule\" src=\"data:image/png;base64,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\" alt=\"Mol\"/></td>\n",
       "      <td>[1, 0, 1, 0, 0, 0, 0, 0, 0, 0, 0, 0, 0, 0, 0, ...</td>\n",
       "      <td>[10.020497606449988, 0.8450897581254724, 10.02...</td>\n",
       "      <td>10.020498</td>\n",
       "      <td>0.845090</td>\n",
       "      <td>10.020498</td>\n",
       "      <td>0.845090</td>\n",
       "      <td>...</td>\n",
       "      <td>0</td>\n",
       "      <td>0</td>\n",
       "      <td>0</td>\n",
       "      <td>0</td>\n",
       "      <td>0</td>\n",
       "      <td>0</td>\n",
       "      <td>0</td>\n",
       "      <td>0</td>\n",
       "      <td>0</td>\n",
       "      <td>0</td>\n",
       "    </tr>\n",
       "    <tr>\n",
       "      <th>2</th>\n",
       "      <td>c1ccc2c(c1)ccc1c2ccc2c3ccccc3ccc21</td>\n",
       "      <td>-7.87</td>\n",
       "      <td>train</td>\n",
       "      <td><img data-content=\"rdkit/molecule\" src=\"data:image/png;base64,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\" alt=\"Mol\"/></td>\n",
       "      <td>[0, 0, 0, 0, 1, 0, 0, 0, 0, 0, 0, 0, 0, 0, 0, ...</td>\n",
       "      <td>[2.270277777777778, 1.3010547891996307, 2.2702...</td>\n",
       "      <td>2.270278</td>\n",
       "      <td>1.301055</td>\n",
       "      <td>2.270278</td>\n",
       "      <td>1.301055</td>\n",
       "      <td>...</td>\n",
       "      <td>0</td>\n",
       "      <td>0</td>\n",
       "      <td>0</td>\n",
       "      <td>0</td>\n",
       "      <td>0</td>\n",
       "      <td>0</td>\n",
       "      <td>0</td>\n",
       "      <td>0</td>\n",
       "      <td>0</td>\n",
       "      <td>0</td>\n",
       "    </tr>\n",
       "    <tr>\n",
       "      <th>3</th>\n",
       "      <td>c1ccsc1</td>\n",
       "      <td>-1.33</td>\n",
       "      <td>train</td>\n",
       "      <td><img data-content=\"rdkit/molecule\" src=\"data:image/png;base64,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\" alt=\"Mol\"/></td>\n",
       "      <td>[0, 0, 0, 0, 1, 0, 1, 0, 0, 0, 0, 0, 0, 0, 0, ...</td>\n",
       "      <td>[2.0416666666666665, 1.7129629629629628, 2.041...</td>\n",
       "      <td>2.041667</td>\n",
       "      <td>1.712963</td>\n",
       "      <td>2.041667</td>\n",
       "      <td>1.712963</td>\n",
       "      <td>...</td>\n",
       "      <td>0</td>\n",
       "      <td>0</td>\n",
       "      <td>0</td>\n",
       "      <td>0</td>\n",
       "      <td>0</td>\n",
       "      <td>0</td>\n",
       "      <td>0</td>\n",
       "      <td>1</td>\n",
       "      <td>0</td>\n",
       "      <td>0</td>\n",
       "    </tr>\n",
       "    <tr>\n",
       "      <th>4</th>\n",
       "      <td>c1ccc2scnc2c1</td>\n",
       "      <td>-1.50</td>\n",
       "      <td>train</td>\n",
       "      <td><img data-content=\"rdkit/molecule\" src=\"data:image/png;base64,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\" alt=\"Mol\"/></td>\n",
       "      <td>[0, 0, 0, 0, 1, 0, 1, 0, 0, 0, 0, 0, 0, 0, 0, ...</td>\n",
       "      <td>[4.137222222222222, 1.0995370370370372, 4.1372...</td>\n",
       "      <td>4.137222</td>\n",
       "      <td>1.099537</td>\n",
       "      <td>4.137222</td>\n",
       "      <td>1.099537</td>\n",
       "      <td>...</td>\n",
       "      <td>0</td>\n",
       "      <td>0</td>\n",
       "      <td>0</td>\n",
       "      <td>0</td>\n",
       "      <td>0</td>\n",
       "      <td>1</td>\n",
       "      <td>0</td>\n",
       "      <td>0</td>\n",
       "      <td>0</td>\n",
       "      <td>0</td>\n",
       "    </tr>\n",
       "  </tbody>\n",
       "</table>\n",
       "<p>5 rows × 214 columns</p>\n",
       "</div>"
      ],
      "text/plain": [
       "                          cano_smiles  activity  group  \\\n",
       "0              Cc1occc1C(=O)Nc1ccccc1     -3.30  train   \n",
       "1                  CC(C)=CCCC(C)=CC=O     -2.06  train   \n",
       "2  c1ccc2c(c1)ccc1c2ccc2c3ccccc3ccc21     -7.87  train   \n",
       "3                             c1ccsc1     -1.33  train   \n",
       "4                       c1ccc2scnc2c1     -1.50  train   \n",
       "\n",
       "                                            Molecule  \\\n",
       "0  <img data-content=\"rdkit/molecule\" src=\"data:i...   \n",
       "1  <img data-content=\"rdkit/molecule\" src=\"data:i...   \n",
       "2  <img data-content=\"rdkit/molecule\" src=\"data:i...   \n",
       "3  <img data-content=\"rdkit/molecule\" src=\"data:i...   \n",
       "4  <img data-content=\"rdkit/molecule\" src=\"data:i...   \n",
       "\n",
       "                                              MorgFP  \\\n",
       "0  [1, 1, 1, 0, 1, 0, 1, 0, 0, 0, 0, 0, 0, 0, 0, ...   \n",
       "1  [1, 0, 1, 0, 0, 0, 0, 0, 0, 0, 0, 0, 0, 0, 0, ...   \n",
       "2  [0, 0, 0, 0, 1, 0, 0, 0, 0, 0, 0, 0, 0, 0, 0, ...   \n",
       "3  [0, 0, 0, 0, 1, 0, 1, 0, 0, 0, 0, 0, 0, 0, 0, ...   \n",
       "4  [0, 0, 0, 0, 1, 0, 1, 0, 0, 0, 0, 0, 0, 0, 0, ...   \n",
       "\n",
       "                                         Descriptors  MaxEStateIndex  \\\n",
       "0  [11.724911186696902, -0.14587962962962941, 11....       11.724911   \n",
       "1  [10.020497606449988, 0.8450897581254724, 10.02...       10.020498   \n",
       "2  [2.270277777777778, 1.3010547891996307, 2.2702...        2.270278   \n",
       "3  [2.0416666666666665, 1.7129629629629628, 2.041...        2.041667   \n",
       "4  [4.137222222222222, 1.0995370370370372, 4.1372...        4.137222   \n",
       "\n",
       "   MinEStateIndex  MaxAbsEStateIndex  MinAbsEStateIndex  ...  fr_sulfide  \\\n",
       "0       -0.145880          11.724911           0.145880  ...           0   \n",
       "1        0.845090          10.020498           0.845090  ...           0   \n",
       "2        1.301055           2.270278           1.301055  ...           0   \n",
       "3        1.712963           2.041667           1.712963  ...           0   \n",
       "4        1.099537           4.137222           1.099537  ...           0   \n",
       "\n",
       "   fr_sulfonamd  fr_sulfone  fr_term_acetylene  fr_tetrazole  fr_thiazole  \\\n",
       "0             0           0                  0             0            0   \n",
       "1             0           0                  0             0            0   \n",
       "2             0           0                  0             0            0   \n",
       "3             0           0                  0             0            0   \n",
       "4             0           0                  0             0            1   \n",
       "\n",
       "   fr_thiocyan  fr_thiophene  fr_unbrch_alkane  fr_urea  \n",
       "0            0             0                 0        0  \n",
       "1            0             0                 0        0  \n",
       "2            0             0                 0        0  \n",
       "3            0             1                 0        0  \n",
       "4            0             0                 0        0  \n",
       "\n",
       "[5 rows x 214 columns]"
      ]
     },
     "execution_count": 21,
     "metadata": {},
     "output_type": "execute_result"
    }
   ],
   "source": [
    "esol.head()"
   ]
  },
  {
   "cell_type": "code",
   "execution_count": 22,
   "metadata": {
    "scrolled": true
   },
   "outputs": [
    {
     "data": {
      "text/plain": [
       "1127"
      ]
     },
     "execution_count": 22,
     "metadata": {},
     "output_type": "execute_result"
    }
   ],
   "source": [
    "len(esol)"
   ]
  },
  {
   "cell_type": "code",
   "execution_count": 23,
   "metadata": {
    "scrolled": true
   },
   "outputs": [
    {
     "name": "stdout",
     "output_type": "stream",
     "text": [
      "<class 'pandas.core.frame.DataFrame'>\n",
      "Int64Index: 1127 entries, 0 to 1126\n",
      "Columns: 214 entries, cano_smiles to fr_urea\n",
      "dtypes: float64(105), int64(104), object(5)\n",
      "memory usage: 1.8+ MB\n"
     ]
    }
   ],
   "source": [
    "esol.info()"
   ]
  },
  {
   "cell_type": "code",
   "execution_count": 24,
   "metadata": {},
   "outputs": [
    {
     "data": {
      "text/html": [
       "<div>\n",
       "<style scoped>\n",
       "    .dataframe tbody tr th:only-of-type {\n",
       "        vertical-align: middle;\n",
       "    }\n",
       "\n",
       "    .dataframe tbody tr th {\n",
       "        vertical-align: top;\n",
       "    }\n",
       "\n",
       "    .dataframe thead th {\n",
       "        text-align: right;\n",
       "    }\n",
       "</style>\n",
       "<table border=\"1\" class=\"dataframe\">\n",
       "  <thead>\n",
       "    <tr style=\"text-align: right;\">\n",
       "      <th></th>\n",
       "      <th>cano_smiles</th>\n",
       "      <th>activity</th>\n",
       "      <th>group</th>\n",
       "      <th>Molecule</th>\n",
       "      <th>MorgFP</th>\n",
       "      <th>Descriptors</th>\n",
       "      <th>MaxEStateIndex</th>\n",
       "      <th>MinEStateIndex</th>\n",
       "      <th>MaxAbsEStateIndex</th>\n",
       "      <th>MinAbsEStateIndex</th>\n",
       "      <th>...</th>\n",
       "      <th>fr_sulfide</th>\n",
       "      <th>fr_sulfonamd</th>\n",
       "      <th>fr_sulfone</th>\n",
       "      <th>fr_term_acetylene</th>\n",
       "      <th>fr_tetrazole</th>\n",
       "      <th>fr_thiazole</th>\n",
       "      <th>fr_thiocyan</th>\n",
       "      <th>fr_thiophene</th>\n",
       "      <th>fr_unbrch_alkane</th>\n",
       "      <th>fr_urea</th>\n",
       "    </tr>\n",
       "  </thead>\n",
       "  <tbody>\n",
       "  </tbody>\n",
       "</table>\n",
       "<p>0 rows × 214 columns</p>\n",
       "</div>"
      ],
      "text/plain": [
       "Empty DataFrame\n",
       "Columns: [cano_smiles, activity, group, Molecule, MorgFP, Descriptors, MaxEStateIndex, MinEStateIndex, MaxAbsEStateIndex, MinAbsEStateIndex, qed, MolWt, HeavyAtomMolWt, ExactMolWt, NumValenceElectrons, NumRadicalElectrons, MaxPartialCharge, MinPartialCharge, MaxAbsPartialCharge, MinAbsPartialCharge, FpDensityMorgan1, FpDensityMorgan2, FpDensityMorgan3, BCUT2D_MWHI, BCUT2D_MWLOW, BCUT2D_CHGHI, BCUT2D_CHGLO, BCUT2D_LOGPHI, BCUT2D_LOGPLOW, BCUT2D_MRHI, BCUT2D_MRLOW, BalabanJ, BertzCT, Chi0, Chi0n, Chi0v, Chi1, Chi1n, Chi1v, Chi2n, Chi2v, Chi3n, Chi3v, Chi4n, Chi4v, HallKierAlpha, Ipc, Kappa1, Kappa2, Kappa3, LabuteASA, PEOE_VSA1, PEOE_VSA10, PEOE_VSA11, PEOE_VSA12, PEOE_VSA13, PEOE_VSA14, PEOE_VSA2, PEOE_VSA3, PEOE_VSA4, PEOE_VSA5, PEOE_VSA6, PEOE_VSA7, PEOE_VSA8, PEOE_VSA9, SMR_VSA1, SMR_VSA10, SMR_VSA2, SMR_VSA3, SMR_VSA4, SMR_VSA5, SMR_VSA6, SMR_VSA7, SMR_VSA8, SMR_VSA9, SlogP_VSA1, SlogP_VSA10, SlogP_VSA11, SlogP_VSA12, SlogP_VSA2, SlogP_VSA3, SlogP_VSA4, SlogP_VSA5, SlogP_VSA6, SlogP_VSA7, SlogP_VSA8, SlogP_VSA9, TPSA, EState_VSA1, EState_VSA10, EState_VSA11, EState_VSA2, EState_VSA3, EState_VSA4, EState_VSA5, EState_VSA6, EState_VSA7, EState_VSA8, EState_VSA9, VSA_EState1, ...]\n",
       "Index: []\n",
       "\n",
       "[0 rows x 214 columns]"
      ]
     },
     "execution_count": 24,
     "metadata": {},
     "output_type": "execute_result"
    }
   ],
   "source": [
    "#Finds Null data in any row if any\n",
    "sample_incomplete_rows = esol[esol.isnull().any(axis=1)]\n",
    "sample_incomplete_rows.head(len(sample_incomplete_rows))"
   ]
  },
  {
   "cell_type": "code",
   "execution_count": 25,
   "metadata": {},
   "outputs": [
    {
     "data": {
      "text/html": [
       "<div>\n",
       "<style scoped>\n",
       "    .dataframe tbody tr th:only-of-type {\n",
       "        vertical-align: middle;\n",
       "    }\n",
       "\n",
       "    .dataframe tbody tr th {\n",
       "        vertical-align: top;\n",
       "    }\n",
       "\n",
       "    .dataframe thead th {\n",
       "        text-align: right;\n",
       "    }\n",
       "</style>\n",
       "<table border=\"1\" class=\"dataframe\">\n",
       "  <thead>\n",
       "    <tr style=\"text-align: right;\">\n",
       "      <th></th>\n",
       "      <th>activity</th>\n",
       "      <th>MaxEStateIndex</th>\n",
       "      <th>MinEStateIndex</th>\n",
       "      <th>MaxAbsEStateIndex</th>\n",
       "      <th>MinAbsEStateIndex</th>\n",
       "      <th>qed</th>\n",
       "      <th>MolWt</th>\n",
       "      <th>HeavyAtomMolWt</th>\n",
       "      <th>ExactMolWt</th>\n",
       "      <th>NumValenceElectrons</th>\n",
       "      <th>...</th>\n",
       "      <th>fr_sulfide</th>\n",
       "      <th>fr_sulfonamd</th>\n",
       "      <th>fr_sulfone</th>\n",
       "      <th>fr_term_acetylene</th>\n",
       "      <th>fr_tetrazole</th>\n",
       "      <th>fr_thiazole</th>\n",
       "      <th>fr_thiocyan</th>\n",
       "      <th>fr_thiophene</th>\n",
       "      <th>fr_unbrch_alkane</th>\n",
       "      <th>fr_urea</th>\n",
       "    </tr>\n",
       "  </thead>\n",
       "  <tbody>\n",
       "    <tr>\n",
       "      <th>count</th>\n",
       "      <td>1127.000000</td>\n",
       "      <td>1127.000000</td>\n",
       "      <td>1127.000000</td>\n",
       "      <td>1127.000000</td>\n",
       "      <td>1.127000e+03</td>\n",
       "      <td>1127.000000</td>\n",
       "      <td>1127.000000</td>\n",
       "      <td>1127.000000</td>\n",
       "      <td>1127.000000</td>\n",
       "      <td>1127.000000</td>\n",
       "      <td>...</td>\n",
       "      <td>1127.000000</td>\n",
       "      <td>1127.000000</td>\n",
       "      <td>1127.000000</td>\n",
       "      <td>1127.000000</td>\n",
       "      <td>1127.0</td>\n",
       "      <td>1127.000000</td>\n",
       "      <td>1127.0</td>\n",
       "      <td>1127.000000</td>\n",
       "      <td>1127.000000</td>\n",
       "      <td>1127.000000</td>\n",
       "    </tr>\n",
       "    <tr>\n",
       "      <th>mean</th>\n",
       "      <td>-3.052010</td>\n",
       "      <td>8.244967</td>\n",
       "      <td>-0.181956</td>\n",
       "      <td>8.244967</td>\n",
       "      <td>4.878957e-01</td>\n",
       "      <td>0.553054</td>\n",
       "      <td>204.103795</td>\n",
       "      <td>191.650031</td>\n",
       "      <td>203.628466</td>\n",
       "      <td>72.113576</td>\n",
       "      <td>...</td>\n",
       "      <td>0.030169</td>\n",
       "      <td>0.021295</td>\n",
       "      <td>0.003549</td>\n",
       "      <td>0.013310</td>\n",
       "      <td>0.0</td>\n",
       "      <td>0.006211</td>\n",
       "      <td>0.0</td>\n",
       "      <td>0.001775</td>\n",
       "      <td>0.301686</td>\n",
       "      <td>0.073647</td>\n",
       "    </tr>\n",
       "    <tr>\n",
       "      <th>std</th>\n",
       "      <td>2.096392</td>\n",
       "      <td>3.701188</td>\n",
       "      <td>1.295477</td>\n",
       "      <td>3.701188</td>\n",
       "      <td>4.904214e-01</td>\n",
       "      <td>0.149158</td>\n",
       "      <td>102.630917</td>\n",
       "      <td>99.215618</td>\n",
       "      <td>102.296535</td>\n",
       "      <td>36.119417</td>\n",
       "      <td>...</td>\n",
       "      <td>0.171127</td>\n",
       "      <td>0.167228</td>\n",
       "      <td>0.059496</td>\n",
       "      <td>0.114648</td>\n",
       "      <td>0.0</td>\n",
       "      <td>0.078601</td>\n",
       "      <td>0.0</td>\n",
       "      <td>0.042108</td>\n",
       "      <td>1.408370</td>\n",
       "      <td>0.274569</td>\n",
       "    </tr>\n",
       "    <tr>\n",
       "      <th>min</th>\n",
       "      <td>-11.600000</td>\n",
       "      <td>1.500000</td>\n",
       "      <td>-5.573220</td>\n",
       "      <td>1.500000</td>\n",
       "      <td>2.220446e-16</td>\n",
       "      <td>0.146432</td>\n",
       "      <td>26.038000</td>\n",
       "      <td>24.022000</td>\n",
       "      <td>26.015650</td>\n",
       "      <td>10.000000</td>\n",
       "      <td>...</td>\n",
       "      <td>0.000000</td>\n",
       "      <td>0.000000</td>\n",
       "      <td>0.000000</td>\n",
       "      <td>0.000000</td>\n",
       "      <td>0.0</td>\n",
       "      <td>0.000000</td>\n",
       "      <td>0.0</td>\n",
       "      <td>0.000000</td>\n",
       "      <td>0.000000</td>\n",
       "      <td>0.000000</td>\n",
       "    </tr>\n",
       "    <tr>\n",
       "      <th>25%</th>\n",
       "      <td>-4.321000</td>\n",
       "      <td>5.057006</td>\n",
       "      <td>-0.608382</td>\n",
       "      <td>5.057006</td>\n",
       "      <td>1.076259e-01</td>\n",
       "      <td>0.451039</td>\n",
       "      <td>121.651500</td>\n",
       "      <td>112.087000</td>\n",
       "      <td>121.531131</td>\n",
       "      <td>44.000000</td>\n",
       "      <td>...</td>\n",
       "      <td>0.000000</td>\n",
       "      <td>0.000000</td>\n",
       "      <td>0.000000</td>\n",
       "      <td>0.000000</td>\n",
       "      <td>0.0</td>\n",
       "      <td>0.000000</td>\n",
       "      <td>0.0</td>\n",
       "      <td>0.000000</td>\n",
       "      <td>0.000000</td>\n",
       "      <td>0.000000</td>\n",
       "    </tr>\n",
       "    <tr>\n",
       "      <th>50%</th>\n",
       "      <td>-2.860000</td>\n",
       "      <td>9.188226</td>\n",
       "      <td>-0.046343</td>\n",
       "      <td>9.188226</td>\n",
       "      <td>3.078704e-01</td>\n",
       "      <td>0.533979</td>\n",
       "      <td>182.179000</td>\n",
       "      <td>172.103000</td>\n",
       "      <td>182.079038</td>\n",
       "      <td>64.000000</td>\n",
       "      <td>...</td>\n",
       "      <td>0.000000</td>\n",
       "      <td>0.000000</td>\n",
       "      <td>0.000000</td>\n",
       "      <td>0.000000</td>\n",
       "      <td>0.0</td>\n",
       "      <td>0.000000</td>\n",
       "      <td>0.0</td>\n",
       "      <td>0.000000</td>\n",
       "      <td>0.000000</td>\n",
       "      <td>0.000000</td>\n",
       "    </tr>\n",
       "    <tr>\n",
       "      <th>75%</th>\n",
       "      <td>-1.600000</td>\n",
       "      <td>11.483477</td>\n",
       "      <td>0.738474</td>\n",
       "      <td>11.483477</td>\n",
       "      <td>7.945370e-01</td>\n",
       "      <td>0.648945</td>\n",
       "      <td>270.372000</td>\n",
       "      <td>257.068000</td>\n",
       "      <td>270.161980</td>\n",
       "      <td>94.000000</td>\n",
       "      <td>...</td>\n",
       "      <td>0.000000</td>\n",
       "      <td>0.000000</td>\n",
       "      <td>0.000000</td>\n",
       "      <td>0.000000</td>\n",
       "      <td>0.0</td>\n",
       "      <td>0.000000</td>\n",
       "      <td>0.0</td>\n",
       "      <td>0.000000</td>\n",
       "      <td>0.000000</td>\n",
       "      <td>0.000000</td>\n",
       "    </tr>\n",
       "    <tr>\n",
       "      <th>max</th>\n",
       "      <td>1.580000</td>\n",
       "      <td>17.262020</td>\n",
       "      <td>4.000000</td>\n",
       "      <td>17.262020</td>\n",
       "      <td>4.000000e+00</td>\n",
       "      <td>0.934235</td>\n",
       "      <td>780.949000</td>\n",
       "      <td>716.437000</td>\n",
       "      <td>780.429607</td>\n",
       "      <td>312.000000</td>\n",
       "      <td>...</td>\n",
       "      <td>1.000000</td>\n",
       "      <td>2.000000</td>\n",
       "      <td>1.000000</td>\n",
       "      <td>1.000000</td>\n",
       "      <td>0.0</td>\n",
       "      <td>1.000000</td>\n",
       "      <td>0.0</td>\n",
       "      <td>1.000000</td>\n",
       "      <td>21.000000</td>\n",
       "      <td>2.000000</td>\n",
       "    </tr>\n",
       "  </tbody>\n",
       "</table>\n",
       "<p>8 rows × 209 columns</p>\n",
       "</div>"
      ],
      "text/plain": [
       "          activity  MaxEStateIndex  MinEStateIndex  MaxAbsEStateIndex  \\\n",
       "count  1127.000000     1127.000000     1127.000000        1127.000000   \n",
       "mean     -3.052010        8.244967       -0.181956           8.244967   \n",
       "std       2.096392        3.701188        1.295477           3.701188   \n",
       "min     -11.600000        1.500000       -5.573220           1.500000   \n",
       "25%      -4.321000        5.057006       -0.608382           5.057006   \n",
       "50%      -2.860000        9.188226       -0.046343           9.188226   \n",
       "75%      -1.600000       11.483477        0.738474          11.483477   \n",
       "max       1.580000       17.262020        4.000000          17.262020   \n",
       "\n",
       "       MinAbsEStateIndex          qed        MolWt  HeavyAtomMolWt  \\\n",
       "count       1.127000e+03  1127.000000  1127.000000     1127.000000   \n",
       "mean        4.878957e-01     0.553054   204.103795      191.650031   \n",
       "std         4.904214e-01     0.149158   102.630917       99.215618   \n",
       "min         2.220446e-16     0.146432    26.038000       24.022000   \n",
       "25%         1.076259e-01     0.451039   121.651500      112.087000   \n",
       "50%         3.078704e-01     0.533979   182.179000      172.103000   \n",
       "75%         7.945370e-01     0.648945   270.372000      257.068000   \n",
       "max         4.000000e+00     0.934235   780.949000      716.437000   \n",
       "\n",
       "        ExactMolWt  NumValenceElectrons  ...   fr_sulfide  fr_sulfonamd  \\\n",
       "count  1127.000000          1127.000000  ...  1127.000000   1127.000000   \n",
       "mean    203.628466            72.113576  ...     0.030169      0.021295   \n",
       "std     102.296535            36.119417  ...     0.171127      0.167228   \n",
       "min      26.015650            10.000000  ...     0.000000      0.000000   \n",
       "25%     121.531131            44.000000  ...     0.000000      0.000000   \n",
       "50%     182.079038            64.000000  ...     0.000000      0.000000   \n",
       "75%     270.161980            94.000000  ...     0.000000      0.000000   \n",
       "max     780.429607           312.000000  ...     1.000000      2.000000   \n",
       "\n",
       "        fr_sulfone  fr_term_acetylene  fr_tetrazole  fr_thiazole  fr_thiocyan  \\\n",
       "count  1127.000000        1127.000000        1127.0  1127.000000       1127.0   \n",
       "mean      0.003549           0.013310           0.0     0.006211          0.0   \n",
       "std       0.059496           0.114648           0.0     0.078601          0.0   \n",
       "min       0.000000           0.000000           0.0     0.000000          0.0   \n",
       "25%       0.000000           0.000000           0.0     0.000000          0.0   \n",
       "50%       0.000000           0.000000           0.0     0.000000          0.0   \n",
       "75%       0.000000           0.000000           0.0     0.000000          0.0   \n",
       "max       1.000000           1.000000           0.0     1.000000          0.0   \n",
       "\n",
       "       fr_thiophene  fr_unbrch_alkane      fr_urea  \n",
       "count   1127.000000       1127.000000  1127.000000  \n",
       "mean       0.001775          0.301686     0.073647  \n",
       "std        0.042108          1.408370     0.274569  \n",
       "min        0.000000          0.000000     0.000000  \n",
       "25%        0.000000          0.000000     0.000000  \n",
       "50%        0.000000          0.000000     0.000000  \n",
       "75%        0.000000          0.000000     0.000000  \n",
       "max        1.000000         21.000000     2.000000  \n",
       "\n",
       "[8 rows x 209 columns]"
      ]
     },
     "execution_count": 25,
     "metadata": {},
     "output_type": "execute_result"
    }
   ],
   "source": [
    "esol.describe()"
   ]
  },
  {
   "cell_type": "code",
   "execution_count": 26,
   "metadata": {},
   "outputs": [],
   "source": [
    "esol.to_csv(\"data/processed/esol_full.csv\")"
   ]
  },
  {
   "cell_type": "markdown",
   "metadata": {},
   "source": [
    "### Splitting and Visualizing the data"
   ]
  },
  {
   "cell_type": "code",
   "execution_count": 27,
   "metadata": {},
   "outputs": [
    {
     "data": {
      "text/html": [
       "<div>\n",
       "<style scoped>\n",
       "    .dataframe tbody tr th:only-of-type {\n",
       "        vertical-align: middle;\n",
       "    }\n",
       "\n",
       "    .dataframe tbody tr th {\n",
       "        vertical-align: top;\n",
       "    }\n",
       "\n",
       "    .dataframe thead th {\n",
       "        text-align: right;\n",
       "    }\n",
       "</style>\n",
       "<table border=\"1\" class=\"dataframe\">\n",
       "  <thead>\n",
       "    <tr style=\"text-align: right;\">\n",
       "      <th></th>\n",
       "      <th>cano_smiles</th>\n",
       "      <th>activity</th>\n",
       "      <th>group</th>\n",
       "      <th>Molecule</th>\n",
       "      <th>MorgFP</th>\n",
       "      <th>Descriptors</th>\n",
       "      <th>MaxEStateIndex</th>\n",
       "      <th>MinEStateIndex</th>\n",
       "      <th>MaxAbsEStateIndex</th>\n",
       "      <th>MinAbsEStateIndex</th>\n",
       "      <th>...</th>\n",
       "      <th>fr_sulfide</th>\n",
       "      <th>fr_sulfonamd</th>\n",
       "      <th>fr_sulfone</th>\n",
       "      <th>fr_term_acetylene</th>\n",
       "      <th>fr_tetrazole</th>\n",
       "      <th>fr_thiazole</th>\n",
       "      <th>fr_thiocyan</th>\n",
       "      <th>fr_thiophene</th>\n",
       "      <th>fr_unbrch_alkane</th>\n",
       "      <th>fr_urea</th>\n",
       "    </tr>\n",
       "  </thead>\n",
       "  <tbody>\n",
       "  </tbody>\n",
       "</table>\n",
       "<p>0 rows × 214 columns</p>\n",
       "</div>"
      ],
      "text/plain": [
       "Empty DataFrame\n",
       "Columns: [cano_smiles, activity, group, Molecule, MorgFP, Descriptors, MaxEStateIndex, MinEStateIndex, MaxAbsEStateIndex, MinAbsEStateIndex, qed, MolWt, HeavyAtomMolWt, ExactMolWt, NumValenceElectrons, NumRadicalElectrons, MaxPartialCharge, MinPartialCharge, MaxAbsPartialCharge, MinAbsPartialCharge, FpDensityMorgan1, FpDensityMorgan2, FpDensityMorgan3, BCUT2D_MWHI, BCUT2D_MWLOW, BCUT2D_CHGHI, BCUT2D_CHGLO, BCUT2D_LOGPHI, BCUT2D_LOGPLOW, BCUT2D_MRHI, BCUT2D_MRLOW, BalabanJ, BertzCT, Chi0, Chi0n, Chi0v, Chi1, Chi1n, Chi1v, Chi2n, Chi2v, Chi3n, Chi3v, Chi4n, Chi4v, HallKierAlpha, Ipc, Kappa1, Kappa2, Kappa3, LabuteASA, PEOE_VSA1, PEOE_VSA10, PEOE_VSA11, PEOE_VSA12, PEOE_VSA13, PEOE_VSA14, PEOE_VSA2, PEOE_VSA3, PEOE_VSA4, PEOE_VSA5, PEOE_VSA6, PEOE_VSA7, PEOE_VSA8, PEOE_VSA9, SMR_VSA1, SMR_VSA10, SMR_VSA2, SMR_VSA3, SMR_VSA4, SMR_VSA5, SMR_VSA6, SMR_VSA7, SMR_VSA8, SMR_VSA9, SlogP_VSA1, SlogP_VSA10, SlogP_VSA11, SlogP_VSA12, SlogP_VSA2, SlogP_VSA3, SlogP_VSA4, SlogP_VSA5, SlogP_VSA6, SlogP_VSA7, SlogP_VSA8, SlogP_VSA9, TPSA, EState_VSA1, EState_VSA10, EState_VSA11, EState_VSA2, EState_VSA3, EState_VSA4, EState_VSA5, EState_VSA6, EState_VSA7, EState_VSA8, EState_VSA9, VSA_EState1, ...]\n",
       "Index: []\n",
       "\n",
       "[0 rows x 214 columns]"
      ]
     },
     "execution_count": 27,
     "metadata": {},
     "output_type": "execute_result"
    }
   ],
   "source": [
    "#Finds Null data in any row if any\n",
    "sample_incomplete_rows = esol[esol_data.isnull().any(axis=1)]\n",
    "sample_incomplete_rows.head(len(sample_incomplete_rows))"
   ]
  },
  {
   "cell_type": "code",
   "execution_count": 28,
   "metadata": {},
   "outputs": [
    {
     "data": {
      "text/plain": [
       "1116"
      ]
     },
     "execution_count": 28,
     "metadata": {},
     "output_type": "execute_result"
    }
   ],
   "source": [
    "#Returns number of unique values in the specifed column to make sure that no duplications there\n",
    "esol['cano_smiles'].nunique()"
   ]
  },
  {
   "cell_type": "code",
   "execution_count": 29,
   "metadata": {},
   "outputs": [
    {
     "data": {
      "text/plain": [
       "1127"
      ]
     },
     "execution_count": 29,
     "metadata": {},
     "output_type": "execute_result"
    }
   ],
   "source": [
    "#Returns number of total rows\n",
    "esol['cano_smiles'].count()"
   ]
  },
  {
   "cell_type": "code",
   "execution_count": 30,
   "metadata": {},
   "outputs": [],
   "source": [
    "#Drops the duplicated ones\n",
    "esol = esol.drop_duplicates(['cano_smiles'])"
   ]
  },
  {
   "cell_type": "code",
   "execution_count": 31,
   "metadata": {},
   "outputs": [
    {
     "name": "stdout",
     "output_type": "stream",
     "text": [
      "<class 'pandas.core.frame.DataFrame'>\n",
      "Int64Index: 1116 entries, 0 to 1126\n",
      "Columns: 214 entries, cano_smiles to fr_urea\n",
      "dtypes: float64(105), int64(104), object(5)\n",
      "memory usage: 1.8+ MB\n"
     ]
    }
   ],
   "source": [
    "esol.info()"
   ]
  },
  {
   "cell_type": "markdown",
   "metadata": {},
   "source": [
    "# Splite the data\n"
   ]
  },
  {
   "cell_type": "code",
   "execution_count": 32,
   "metadata": {},
   "outputs": [
    {
     "data": {
      "text/plain": [
       "893"
      ]
     },
     "execution_count": 32,
     "metadata": {},
     "output_type": "execute_result"
    }
   ],
   "source": [
    "#Returns the training set\n",
    "train = esol[esol[\"group\"]==\"train\"]\n",
    "len(train)"
   ]
  },
  {
   "cell_type": "code",
   "execution_count": 33,
   "metadata": {},
   "outputs": [
    {
     "data": {
      "text/plain": [
       "112"
      ]
     },
     "execution_count": 33,
     "metadata": {},
     "output_type": "execute_result"
    }
   ],
   "source": [
    "#Returns the test set\n",
    "test = esol[esol[\"group\"]==\"test\"]\n",
    "len(test)"
   ]
  },
  {
   "cell_type": "code",
   "execution_count": 34,
   "metadata": {},
   "outputs": [
    {
     "data": {
      "text/plain": [
       "111"
      ]
     },
     "execution_count": 34,
     "metadata": {},
     "output_type": "execute_result"
    }
   ],
   "source": [
    "#Returns the valid set\n",
    "valid = esol[esol[\"group\"]==\"valid\"]\n",
    "len(valid)"
   ]
  },
  {
   "cell_type": "code",
   "execution_count": 35,
   "metadata": {},
   "outputs": [
    {
     "data": {
      "text/html": [
       "<div>\n",
       "<style scoped>\n",
       "    .dataframe tbody tr th:only-of-type {\n",
       "        vertical-align: middle;\n",
       "    }\n",
       "\n",
       "    .dataframe tbody tr th {\n",
       "        vertical-align: top;\n",
       "    }\n",
       "\n",
       "    .dataframe thead th {\n",
       "        text-align: right;\n",
       "    }\n",
       "</style>\n",
       "<table border=\"1\" class=\"dataframe\">\n",
       "  <thead>\n",
       "    <tr style=\"text-align: right;\">\n",
       "      <th></th>\n",
       "      <th>cano_smiles</th>\n",
       "      <th>activity</th>\n",
       "      <th>group</th>\n",
       "      <th>Molecule</th>\n",
       "      <th>MorgFP</th>\n",
       "      <th>Descriptors</th>\n",
       "      <th>MaxEStateIndex</th>\n",
       "      <th>MinEStateIndex</th>\n",
       "      <th>MaxAbsEStateIndex</th>\n",
       "      <th>MinAbsEStateIndex</th>\n",
       "      <th>...</th>\n",
       "      <th>fr_sulfide</th>\n",
       "      <th>fr_sulfonamd</th>\n",
       "      <th>fr_sulfone</th>\n",
       "      <th>fr_term_acetylene</th>\n",
       "      <th>fr_tetrazole</th>\n",
       "      <th>fr_thiazole</th>\n",
       "      <th>fr_thiocyan</th>\n",
       "      <th>fr_thiophene</th>\n",
       "      <th>fr_unbrch_alkane</th>\n",
       "      <th>fr_urea</th>\n",
       "    </tr>\n",
       "  </thead>\n",
       "  <tbody>\n",
       "    <tr>\n",
       "      <th>0</th>\n",
       "      <td>Cc1occc1C(=O)Nc1ccccc1</td>\n",
       "      <td>-3.300</td>\n",
       "      <td>train</td>\n",
       "      <td><img data-content=\"rdkit/molecule\" src=\"data:image/png;base64,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\" alt=\"Mol\"/></td>\n",
       "      <td>[1, 1, 1, 0, 1, 0, 1, 0, 0, 0, 0, 0, 0, 0, 0, ...</td>\n",
       "      <td>[11.724911186696902, -0.14587962962962941, 11....</td>\n",
       "      <td>11.724911</td>\n",
       "      <td>-0.145880</td>\n",
       "      <td>11.724911</td>\n",
       "      <td>0.145880</td>\n",
       "      <td>...</td>\n",
       "      <td>0</td>\n",
       "      <td>0</td>\n",
       "      <td>0</td>\n",
       "      <td>0</td>\n",
       "      <td>0</td>\n",
       "      <td>0</td>\n",
       "      <td>0</td>\n",
       "      <td>0</td>\n",
       "      <td>0</td>\n",
       "      <td>0</td>\n",
       "    </tr>\n",
       "    <tr>\n",
       "      <th>1</th>\n",
       "      <td>CC(C)=CCCC(C)=CC=O</td>\n",
       "      <td>-2.060</td>\n",
       "      <td>train</td>\n",
       "      <td><img data-content=\"rdkit/molecule\" src=\"data:image/png;base64,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\" alt=\"Mol\"/></td>\n",
       "      <td>[1, 0, 1, 0, 0, 0, 0, 0, 0, 0, 0, 0, 0, 0, 0, ...</td>\n",
       "      <td>[10.020497606449988, 0.8450897581254724, 10.02...</td>\n",
       "      <td>10.020498</td>\n",
       "      <td>0.845090</td>\n",
       "      <td>10.020498</td>\n",
       "      <td>0.845090</td>\n",
       "      <td>...</td>\n",
       "      <td>0</td>\n",
       "      <td>0</td>\n",
       "      <td>0</td>\n",
       "      <td>0</td>\n",
       "      <td>0</td>\n",
       "      <td>0</td>\n",
       "      <td>0</td>\n",
       "      <td>0</td>\n",
       "      <td>0</td>\n",
       "      <td>0</td>\n",
       "    </tr>\n",
       "    <tr>\n",
       "      <th>2</th>\n",
       "      <td>c1ccc2c(c1)ccc1c2ccc2c3ccccc3ccc21</td>\n",
       "      <td>-7.870</td>\n",
       "      <td>train</td>\n",
       "      <td><img data-content=\"rdkit/molecule\" src=\"data:image/png;base64,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\" alt=\"Mol\"/></td>\n",
       "      <td>[0, 0, 0, 0, 1, 0, 0, 0, 0, 0, 0, 0, 0, 0, 0, ...</td>\n",
       "      <td>[2.270277777777778, 1.3010547891996307, 2.2702...</td>\n",
       "      <td>2.270278</td>\n",
       "      <td>1.301055</td>\n",
       "      <td>2.270278</td>\n",
       "      <td>1.301055</td>\n",
       "      <td>...</td>\n",
       "      <td>0</td>\n",
       "      <td>0</td>\n",
       "      <td>0</td>\n",
       "      <td>0</td>\n",
       "      <td>0</td>\n",
       "      <td>0</td>\n",
       "      <td>0</td>\n",
       "      <td>0</td>\n",
       "      <td>0</td>\n",
       "      <td>0</td>\n",
       "    </tr>\n",
       "    <tr>\n",
       "      <th>3</th>\n",
       "      <td>c1ccsc1</td>\n",
       "      <td>-1.330</td>\n",
       "      <td>train</td>\n",
       "      <td><img data-content=\"rdkit/molecule\" src=\"data:image/png;base64,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\" alt=\"Mol\"/></td>\n",
       "      <td>[0, 0, 0, 0, 1, 0, 1, 0, 0, 0, 0, 0, 0, 0, 0, ...</td>\n",
       "      <td>[2.0416666666666665, 1.7129629629629628, 2.041...</td>\n",
       "      <td>2.041667</td>\n",
       "      <td>1.712963</td>\n",
       "      <td>2.041667</td>\n",
       "      <td>1.712963</td>\n",
       "      <td>...</td>\n",
       "      <td>0</td>\n",
       "      <td>0</td>\n",
       "      <td>0</td>\n",
       "      <td>0</td>\n",
       "      <td>0</td>\n",
       "      <td>0</td>\n",
       "      <td>0</td>\n",
       "      <td>1</td>\n",
       "      <td>0</td>\n",
       "      <td>0</td>\n",
       "    </tr>\n",
       "    <tr>\n",
       "      <th>4</th>\n",
       "      <td>c1ccc2scnc2c1</td>\n",
       "      <td>-1.500</td>\n",
       "      <td>train</td>\n",
       "      <td><img data-content=\"rdkit/molecule\" src=\"data:image/png;base64,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\" alt=\"Mol\"/></td>\n",
       "      <td>[0, 0, 0, 0, 1, 0, 1, 0, 0, 0, 0, 0, 0, 0, 0, ...</td>\n",
       "      <td>[4.137222222222222, 1.0995370370370372, 4.1372...</td>\n",
       "      <td>4.137222</td>\n",
       "      <td>1.099537</td>\n",
       "      <td>4.137222</td>\n",
       "      <td>1.099537</td>\n",
       "      <td>...</td>\n",
       "      <td>0</td>\n",
       "      <td>0</td>\n",
       "      <td>0</td>\n",
       "      <td>0</td>\n",
       "      <td>0</td>\n",
       "      <td>1</td>\n",
       "      <td>0</td>\n",
       "      <td>0</td>\n",
       "      <td>0</td>\n",
       "      <td>0</td>\n",
       "    </tr>\n",
       "    <tr>\n",
       "      <th>...</th>\n",
       "      <td>...</td>\n",
       "      <td>...</td>\n",
       "      <td>...</td>\n",
       "      <td>...</td>\n",
       "      <td>...</td>\n",
       "      <td>...</td>\n",
       "      <td>...</td>\n",
       "      <td>...</td>\n",
       "      <td>...</td>\n",
       "      <td>...</td>\n",
       "      <td>...</td>\n",
       "      <td>...</td>\n",
       "      <td>...</td>\n",
       "      <td>...</td>\n",
       "      <td>...</td>\n",
       "      <td>...</td>\n",
       "      <td>...</td>\n",
       "      <td>...</td>\n",
       "      <td>...</td>\n",
       "      <td>...</td>\n",
       "      <td>...</td>\n",
       "    </tr>\n",
       "    <tr>\n",
       "      <th>896</th>\n",
       "      <td>FC(F)(F)C(Cl)Br</td>\n",
       "      <td>-1.710</td>\n",
       "      <td>train</td>\n",
       "      <td><img data-content=\"rdkit/molecule\" src=\"data:image/png;base64,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\" alt=\"Mol\"/></td>\n",
       "      <td>[1, 0, 0, 0, 0, 0, 0, 0, 1, 0, 0, 0, 0, 0, 0, ...</td>\n",
       "      <td>[10.999421296296298, -4.317901234567901, 10.99...</td>\n",
       "      <td>10.999421</td>\n",
       "      <td>-4.317901</td>\n",
       "      <td>10.999421</td>\n",
       "      <td>1.916667</td>\n",
       "      <td>...</td>\n",
       "      <td>0</td>\n",
       "      <td>0</td>\n",
       "      <td>0</td>\n",
       "      <td>0</td>\n",
       "      <td>0</td>\n",
       "      <td>0</td>\n",
       "      <td>0</td>\n",
       "      <td>0</td>\n",
       "      <td>0</td>\n",
       "      <td>0</td>\n",
       "    </tr>\n",
       "    <tr>\n",
       "      <th>897</th>\n",
       "      <td>CNC(=O)ON=C(SC)C(=O)N(C)C</td>\n",
       "      <td>0.106</td>\n",
       "      <td>train</td>\n",
       "      <td><img data-content=\"rdkit/molecule\" src=\"data:image/png;base64,iVBORw0KGgoAAAANSUhEUgAAAMgAAADICAIAAAAiOjnJAAAABmJLR0QA/wD/AP+gvaeTAAATQklEQVR4nO3de1RTV74H8F9CgCS8wkMpaFBRRBCrrBar1fro9cFqrWMfseNUZNW2gXWdyyxcS7G97aWzXL1lTWtFO7WTttpFnVneMmpbZrRVlBlsi9bWVgUfyKuggMgjPBJCnr/7x4lEeZNkc07091n9Q7cn5/x6+GbvfXY4JyJEBELcTcx3AeTeRMEiTFCwCBMULMIEBYswQcEiTFCwCBMULMIEBYswQcEiTFCwCBMULMIEBYswQcEiTFCwCBMULMIEBYswQcEiTFCwCBMULMIEBYswQcEiTFCwCBMULMIEBYswQcEiTFCwCBMULMIEBYswQcEiTFCwCBMULMIEBYswQcEiTFCwCBMULMIEBYswQcEiTFCwCBMULMIEBYswQcEiTFCwCBMULMIEBYswQcEiTFCwCBMULMIEBYswQcEiTFCwCBMULMIEBYsw4RnBMpvNn332mdls5rsQMlKeEax9+/alpqbGxMR89NFHVquV73LI8DwjWEqlMi4urra2Ni0t7cEHHzx48CAi8l0UGRJ6CKvVmp+fHxMTw5WdkJCQn59vs9n4rosMzGOCxTGZTHl5eVOmTOHiNW/evBMnTvBdFBmAhwWLYzQaNRpNREQEF68FCxYUFxfzXRS5iwg9drKi0+l279797rvvarXayMgHiormKZXZcvkcvusiAAAeHCxOe3v7jh07goPPLF58AkAUHKyKjPyjVDqD77rudx4fLI7F0trU9M6tW7ttNgOAODj42QkT/tfXdxrfdd2/7pFgcSyWW01N7zU15SIaRSLv0NAXIyP/x9t7At91eZ6enp7u7m6pVCqXy53bg2esY42QRDJ+woSchIRrYWFqAGxp+ai0NLq2Ns1svsltYDBcqq//77q6Tc3NH1itXfxWK2Tr168PDQ09evSo03u4p4LF8fGJmjRJEx9fGhy8FtHS0vJRWVlMQ8PrBsOl8vKFEokiIGCxyXQdwMJ3pcLl7+8PADqdzuk9SNxXjLBIpTOioz83GC41Nv5Rqz2o052RSMb7+c0ND98CAMHBa/kuUNAoWMOQyWZGR+fr9WfEYrnZ3FBfv625WRMa+oJY7M93aYLm5+cHAHq93uk93INDYX9+fvNksgcDA5MnTdrX2vrpxYuR9fWvAdj4rku4XA/WPd5j9RES8tuQkN8aDGUVFStlsviQkPV8VyRQgh4Km5ubv/76a4VCsXr1anZHcYJMluDvP99kque7EOESdI9VXV2dmpo6d+5cgQSrpWWv0Vgpl88xGms6OwsjIrL5rki4XO+xGM6xXC/OvYKCkr29I3W676zWztjY72WyWXxXJFyCnrwLLVje3hPGj/8vsdivp6dcLPbjuxxBE3SP5XrqWejqKmpvP2yxNPNdiKAJevIutB6Lw61g2WzCqkpoAgLGJSS8HB7u/Kf4DIMllUolEonRaDSbzd7e3uwONCrcIGi1UrCGIpdPLSv72JU+ge0CqQBHQy8vrscSUEkC5OcHAODKz41tsAQ4GtJQOBL+/gAA1GONAjcUUo81NJkMxGIwGMDpmzjvux6LGwppjjU0kcjV0fC+Cxb1WCPkYrDYfgidkLBJJFpjNEYzPcqo3A6WgLIuTC5Os9j2WM3Na4uLM9vblUyPMirc5N1qpR5rGIIeCrnihDQS9i43CKkmQRJ0j8UVJ6SLQvjll8BnnlFs3mzguxCh84BgCazHktXVtWu1nXwXInSCnry7voDrdtzSmqAuVIUpORnGjYNoZ6+7xmKOJahgcSsgglqzFZqCAli/Htatg7/8BRIT4ZtvYPduKCyE7dsd2/z6K2zYMNRO2PZYAhwKBbi0JjRXr8Lf/w7h4bBjBwBARQWcPQtyOfzwg2Objg44dmyondynQ6GweqyGBvjqK2htBaUSnnkGAgL4LghUKjhwADZsgNmzndzDfTd5F1yPdfIkzJwJpaXg5wf/+AfEx0NlJd81gUIBb74J6elgu+MeuZYWOH7c/t/p08Ps4b4bCr29vX18fEwmk9Fo9PX17W0vKSmZNWtWwBj3FlYrbNwIu3bZJyyZmZCRAZs3Q0HBmJYxkJdfhr174eOPHS03bsD+/fY/a7XDvPy+GwoBwN/fv62tTafT9Qaro6PjqaeeEolEW7ZsycjIkMlkY1RKTQ00NcELLzhaXnkFFiwYo6MPpPfXGcRi2LMHnnwSNm2yt8yZ4wjWhQuwYsVQ+2E7FMbGwj//Cbt2MT3IqPWfZjU3N8fHx7e2tm7btm3atGl79uwxmUxjUcr16/DAA+Dl5WiZOBG6uobvEBjo6IA//AHWrXO0PPQQPPssvP++M3tjFSyLBUQiyM6GJ5+EefMAAHx94eZNRkcbnf7TrGnTpn377beFhYVJSUkNDQ2bNm3inilvsTB+Ik14OLS23tXS3AxSKQQFsT1uP4cOQVwc7N4NBQXQ0uJof/ttkDg3qjF6tqnZjACoVOKPP9pbfHywsZHR0UbhyJEjCoUiNDT00Ucf/eWXX/r8q81mO3z4cEJCAndykpLmf/45Wq0M6jAa8fRp7OlBhQKLihzt776LCxagVosJCZibiz09DI59l4YGfO45BEAAfPRRvHQJr17Fn392bPDzz3jmDFZW4r//7WjUavHw4aF2yzZYe/fiQw+hxYIogGDdvHnz+eef5xLj4+MDAGKxeP369ZWVlX225J4pP3369CVL3gbAmTMxPx/d+Uj5khKcORPlcqyqwj17cMIE/Otf8ccfcedODA7GU6dw5077jzo6GvPy7GfQ3Ww2zMvDkBAEwMBAzM1151uIbbC6u3HhQty1C5HvYOXn54eFhQGAXC7PyclpbGzMysqSSqUA4O3tnZKSUlVV1eclZrN5376eqCj7j/iRR7Cw0OU6Ojvx979HsRgBcPp0PHcOEfHoUfzd73DZMlSr8fx5+5aFhTh7tv3YM2ZgXp57e86KCnz8cfvuV63Cujo37huRdbAMBrxwAUNCsLGRt2BVVVUtX76c66iSk5Nramp6/6murk6tVkskEq4PU6vVDQ0NfV5uNKJGgxER9p/BggX4r385W8qRI8jlVCLBjAzU6YbZ3mrF/HyMibEfOyHBLT2nyYQ5OSiVIgCGh2Nenov7GxiTYJ075wgWImZm4ksvoY8PVlXhE0/gsWMsjjkAs9mcm5vLTdWDg4M1Gs2Am9XU1KjVai8vL64/y8jIaGpq6rONToc5OfZRAwDz80dZSlMTpqTYXzxnDv700yheazJhXh5OmeLoOQsKRnl4h9OnT69ZUwSAIhG+/DJqtU7vaRhuDlZbG6rVKBLh5587gtXZiUolikSYnW0/OYsW4alT7j1yX+fPn09KSuI6KpVKdevWraG3Ly0tXbNmjUgkAoCgoKDc3HOdnX236erCnByMi0O9fqRl2Gx45f/O2yPp54c7dzo5YTIYMDcXw8O5M3j1pZdKSkpGtQO9Xp+VleXl5RUZGTV7dqfz/e7IuDNYf/sbjh+PACiT4QcfOIKFiAcOIADW1qJG03tycNkyPHvWjce36+7uzs7O5u69njx58jfffDPy1168eFGlUimVU3x8jKGhmJMzQIZGPtWprsbly9HPD6uVi3DJErx2beSVDEynw9xc24QJi5RKAFi2bNlPI+v8jhw5MmnSJACQSCQZGRm6YUdhl7knWPX1+PTT9rg89hheuYKI2NZ213ygrc3+I+He9wqFI153Xty6qLi4ODY2lrviU6vVXV1dTuykpKRt0SJ7eRER+Oc/o9E4uj2YzfinP6FcjgAYFoYn81ucKGMw+vb2N954g/v0SSQSqVSqy5cvD7ZxU1NTSkoK13PPmTPnx97lH8ZcDZbVihoNBgQgACoUqNGMdHLZ2orZ2RgYiAAoFqNKheXlLlWi1WrVajU3ls2aNeuHH35waXeIhYWYlGSPl1KJGg2azSN64fnzjheqVDjcIOyklpaWrKws7gH/YrFYpVJVVFT02ab3Wlgmk+Xk5FjYLFsMyKVglZbivHmOS9YbN0a9h5s3MSMDfX3tl0rp6Zba2lonKikoKIiMjAQAqVSanZ1tHG0PM7jCQkxMtP8/Tp6MGo19jtTcjHdeQba0YFsbdndjdjZ6e9s3Hs0g7KRbt271WTeprq5GxOrq6hW3P8xbsmTJNddH4VFyMljcJauPj32wOHjQpSKuX7fHa/Hic9xlf319/QhfW19f//TTT3Nn8LHHHrvCDcNuZbNhfj5On26PF7demp6OcjlWV9u3yczEtDSMjkYA9PLCzMzhFxPcqKam5sUXX+TWTaRS6dKlS7meLCwsbP/+/WNXxx2cCdZ33323cOF/BAVpRSJUq7Gjwz2lVFSgWv2aWCzmLvu3bt3a0jLU1MRms2k0Gm6qERQUlJuba2Xy4Ysdt6g0dSoCYFQUvvIKxsbiqlX2f83MxKwsVCpx1ix0eRB2hl6v//LLL9esWePl5TVjxgwAWLp06bZt2/j6otDRBau9vT0tLY2bxzz33Jvff+/+gi5fvqxSqbhD+Pv7Z2VlaQdabCktLZ3HfbgNsGrVquvXr7u/lIEYjfj++3jgAKan49tvY3w8HjqEiJiZiW+8geXlaDKNTSF9Xbp0CQDi4uIuXLhQWlpaXFz81ltvAcCrr77KSz2jCFZBQYFSqeTG8qysrB6Wn49yl/1cbkJCQrKzsztvLyuZTKacnBzuV6kiIiIOujgMOys9Hd95B0+cQKUSOzvtweLRr7/+CgBRUVG9Lbm5uQCQkZHBSz0jClZjY2PvJev8+fPLyspYl8UpKSl5/PHHueOOGzcuJyenqKgoPj6eu8xOSUlpbW0dm0r644KFiOvW4ZYt/AerpaWFexP2tnzyyScAsHHjRl7qGSZYNpstLy8vNDS09+Pbsbxk5Rw/fnzu3LlcvLhlz7i4uGPHjjGdUQ2rN1j19RgWhqtX8xwsg8HAfeLZ23LgwAEAWLt2LS/1DPVLXFVVVWlpaSdPngSAJ5544sMPP4yKihpie0aqq6u9vLwyMzNLSkpWrlwJAPv371+5cmVlZeXUqVPHvp4+IiPh9dchM9P5G1rcQiqVent7m0ym3ie+8nsH5aDBOnv27OLFi3t6esLDw3ft2tX7m0xj78aNG6dPn05OTj5z5gzX8sUXXwDfd9qEhYFCYf/zpk1QUADBwTyWAwAgl8s7Ojr0er1CoQC+70caNFgPP/xwYmLixIkT9+zZw63e8qX/r6gL4W7mO28Llkjg5En+SrnN39+/o6NDp9NxweL3DspBgyUWi4uKirglXX71j5Hg7g0Uhj6PpeD3LA11M4UQUgUDnSAh3s0sAH3egfw+/sQDvghzsKGQeqw++pwWficMHhCs/jGiYA2ozztQoJN34aChcIT+MzZ2o14/7fattj4+PrULF/oajWg0iu54mMDY8IBg0VA4Qqva2+HUKUhN7W2JKiuD9nbQ62HMg+WRQyH1WAPr/8hX/h4C6wHB6h8jCtbA+j/ch7/H/XhAsPr3WFODg1Pj4x8WxmqIgPR/uA9/j/vxgDlWoJ+fTaEQdXUBIohEALDS13fl5csQG8t3aQLTP0bUYw1BJJGIenrAaoWeHnuTMJ+7xbv+MeLvGxw8IFgA/ZIkwCcFCkH/GNHkfRh9kkQ91oAGuyqkHmtQfU4Q9VgDGmwopB5rUDQUjgRN3keNhsKREFKP5QHLDQD9TpCfH4hEoNf3LkAQAAClEjQaiIgAAPuZSU+Hdetg/Pixr8UzeyyxGGQyQITubh6LEpzAQFCrITAQkpJAoYCAAHj+eTAY7GdvbHlmsAZsIQBw7RqsXg1bt0J7O2i1sGIFLFsG7e1jX4iHBEtIH1YI2r59sHo1qFQgEoFEAlu3glIJhw6NfSEeMsdSKiE2FgIDHS2pqdDaao8X6XX1KixdelfL3LlQXj72hXhIsDZvhs2b4eZNeO89aGyE0FBISXH+SxrvYRbLXd9zAQASCYzNt2zczUOGQgA4fx4SEuDaNYiPh9ZWSEyE48f5rkl4pk2Dy5fvaikrg5gYHirh5f5rZyxciNu3O/766ac4eTKbL43wZGfOYGAgXrxo/+vRoxgQgCN+2JgbiRCRhziPlsUCcjmUl8OUKfYWsxlkMqipAaWS18qE55NP4LXXIC4OjEaor4ePP4bk5LGvwkOC1dgIkZHQ3Q13fuHbAw/AF1/A/Pn8lSVUBgNcvQpeXhAf7+x3LLnKQ4JlsYBMBlVV0PtUkv4tREg8ZPIukUBiIhw+7Gj56isID4eJE/mriQzFQ5YbAGDHDvjNb0Cvh0cegUuXYPt20GhA7CFvjPuPhwyFnCtXYO9eqKuD8HDYsAFuf6MJESCPChbxHDSUECYoWIQJChZhgoJFmKBgESYoWIQJChZhgoJFmKBgESYoWIQJChZhgoJFmKBgESYoWIQJChZhgoJFmKBgESYoWIQJChZhgoJFmKBgESYoWIQJChZhgoJFmKBgESYoWIQJChZhgoJFmKBgESYoWIQJChZhgoJFmKBgESYoWIQJChZhgoJFmKBgESYoWIQJChZhgoJFmKBgESYoWIQJChZhgoJFmKBgESYoWIQJChZhgoJFmKBgESYoWIQJChZhgoJFmKBgESYoWISJ/wc973LRW9kIkgAAAR56VFh0cmRraXRQS0wgcmRraXQgMjAyMC4wOS4xAAB4nHu/b+09BiDgAWJGBgjgA2JeIG5gZGNIAIkzszNkAGlmJqCABojBwgGhmWA0O4RmhskLMCgAaSaYfnRtCOUweQjNDXQDI5MCE7MGExOLAgurAiubBhMbOwM7BwMbpwInlwYTJ7cCNw8DNy+DCIM4zL0MfDni/Q6VTA/tQZx3zhMdFl5usQOxDy8LdIgo5tkPYh/7H+own5n5AIjtd/OHfY+WIFiNlZ6efeskLbAa011q+/flHbUBsZ3kLPb7PD4ENnONI/MB1YW8DiC2j/zX/Zs2eoDVu+a+2W8qLAQ289BJ/wO75u7fC2Lnhk44cP9CGljNUaWQA9subwabIwYAtj4/to2xMz8AAAEselRYdE1PTCByZGtpdCAyMDIwLjA5LjEAAHicnVNLTsUwDNznFL7Ai/zLx2seK8RDAok7sOf+wmnSKAuQSqqommnq0WTsBGjP+/3l6xvmw/cQgBRIAPDXZWbwyYgY2v8atVBuiGJJxRrC6LsIT/CXxLqGShJLvZaT6aLyuK4ikUuqDm4Yk9a850WiqJSmwhH9cIvK23UViqY6akmp7qlgzBW1nyjnLFu5tNpEZy0rbeXiKoWM+9kS85rux3UVzzThMSUcmQT3vHi6lHC4qrqtUnt/3RVXXqfueo9uPnWaS/eCJmsu/+iR3wA6O21Ie7PrXoR03EZF3bqNHggf70YcySSO9Pg0SJo7jvIkjkqvDAeqc8eRTVKA8CSOiE7pRqYDRyQr0UFeAZ4f9/ADT3+8opFi7WgAAADPelRYdFNNSUxFUyByZGtpdCAyMDIwLjA5LjEAAHicHY85jsNADAS/sqEE0ATvAwNHyuXA3/Hjl6OMU+gma677Ot6f83O/r+N7nc/jPmb4+x2GlhwMjOlZDcvQtd2AULxNEpaipBe8CN0q1DdR0zR4CdLUYTG2GeuU2DjDYBFGkbbuWkRIF6w9Okv25EiMifKByS0so+AiHoNmrVMVCA7vTeYAO8nelqU9wpuVJdW2kBKTQaNqEb1j1Oohuzs/YrLHpIlD/AkqW+ybRtZw/v4BWaw69BkbmAMAAAAASUVORK5CYII=\" alt=\"Mol\"/></td>\n",
       "      <td>[1, 1, 1, 0, 0, 0, 0, 0, 0, 0, 0, 0, 0, 0, 0, ...</td>\n",
       "      <td>[11.337508030990174, -0.705457294028722, 11.33...</td>\n",
       "      <td>11.337508</td>\n",
       "      <td>-0.705457</td>\n",
       "      <td>11.337508</td>\n",
       "      <td>0.123704</td>\n",
       "      <td>...</td>\n",
       "      <td>1</td>\n",
       "      <td>0</td>\n",
       "      <td>0</td>\n",
       "      <td>0</td>\n",
       "      <td>0</td>\n",
       "      <td>0</td>\n",
       "      <td>0</td>\n",
       "      <td>0</td>\n",
       "      <td>0</td>\n",
       "      <td>0</td>\n",
       "    </tr>\n",
       "    <tr>\n",
       "      <th>898</th>\n",
       "      <td>CCSCCSP(=S)(OC)OC</td>\n",
       "      <td>-3.091</td>\n",
       "      <td>train</td>\n",
       "      <td><img data-content=\"rdkit/molecule\" src=\"data:image/png;base64,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\" alt=\"Mol\"/></td>\n",
       "      <td>[1, 0, 1, 0, 0, 0, 0, 0, 0, 0, 0, 0, 0, 0, 0, ...</td>\n",
       "      <td>[5.174287131519274, -1.9846619110607204, 5.174...</td>\n",
       "      <td>5.174287</td>\n",
       "      <td>-1.984662</td>\n",
       "      <td>5.174287</td>\n",
       "      <td>1.011373</td>\n",
       "      <td>...</td>\n",
       "      <td>1</td>\n",
       "      <td>0</td>\n",
       "      <td>0</td>\n",
       "      <td>0</td>\n",
       "      <td>0</td>\n",
       "      <td>0</td>\n",
       "      <td>0</td>\n",
       "      <td>0</td>\n",
       "      <td>2</td>\n",
       "      <td>0</td>\n",
       "    </tr>\n",
       "    <tr>\n",
       "      <th>899</th>\n",
       "      <td>CCC(C)C</td>\n",
       "      <td>-3.180</td>\n",
       "      <td>train</td>\n",
       "      <td><img data-content=\"rdkit/molecule\" src=\"data:image/png;base64,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\" alt=\"Mol\"/></td>\n",
       "      <td>[1, 0, 0, 0, 0, 0, 0, 0, 0, 0, 0, 0, 0, 0, 0, ...</td>\n",
       "      <td>[2.2222222222222223, 0.8842592592592591, 2.222...</td>\n",
       "      <td>2.222222</td>\n",
       "      <td>0.884259</td>\n",
       "      <td>2.222222</td>\n",
       "      <td>0.884259</td>\n",
       "      <td>...</td>\n",
       "      <td>0</td>\n",
       "      <td>0</td>\n",
       "      <td>0</td>\n",
       "      <td>0</td>\n",
       "      <td>0</td>\n",
       "      <td>0</td>\n",
       "      <td>0</td>\n",
       "      <td>0</td>\n",
       "      <td>0</td>\n",
       "      <td>0</td>\n",
       "    </tr>\n",
       "    <tr>\n",
       "      <th>900</th>\n",
       "      <td>COP(=O)(OC)OC(=CCl)c1cc(Cl)c(Cl)cc1Cl</td>\n",
       "      <td>-4.522</td>\n",
       "      <td>train</td>\n",
       "      <td><img data-content=\"rdkit/molecule\" src=\"data:image/png;base64,iVBORw0KGgoAAAANSUhEUgAAAMgAAADICAIAAAAiOjnJAAAABmJLR0QA/wD/AP+gvaeTAAAa1UlEQVR4nO2deVyU1f7HP7OxyOKgss2CiqKCeMVQ++Hu1cxeYr3SzAW19IVbi0LXl0SaqdfMlK6klqJylcwlrlluRVngctUr4g6oSCIMMyzqIMsMMNv5/fEgIiLrnJmxzvsvzumZ7/lOvp/tPN/zDI8QAgbD3PCtnQDjzwkTi0EFJhaDCkwsBhWYWAwqMLEYVGBiMajAxGJQgYnFoAITi0EFJhaDCkwsBhWYWAwqMLEYVGBiMajAxGJQgYnFoAITi0EFJhaDCkwsBhWYWAwqMLEYVGBiMajAxGJQgYnFoAITi0EFJhaDCkwsBhWYWAwqMLEYVGBiMajAxGJQgYnFoAITi0EFJhaDCkwsBhWYWAwqMLEYVGBiMajAxGJQgYnFoAITi0EFJhaDCkwsBhWYWAwqMLEYVGBiMajAxGJQgYnFoAITi0EFJhaDCkwsBhWYWAwqMLEYVGBiNZcfH/5433Df2lk8NzCxGkZj0ryveD8wMzAgM2BKzpQSY8mme5vy9fnWzuu5QWjtBGyUD5UfVpgqrvhfEfKEiSWJRmK0dkbPGUyshklQJ2QFZAl5QgBvur1p7XSeP5hYDfDQ+NBIjF4iL2sn0lpu3UJ8PP74A76+ePdddOli+RTYNVYDuPBdjMSoNWmtnUirUKnw0kvo2xcxMXjhBQwfjrw8y2fBxGoAAU8wwmXEbvVuayfSKjZtwuzZCAtD166YOhXz5mHDBstnwcRqmA2yDWsL107OmfxB/geDbg0qNhRbO6Nmk5GB4ODHzQEDkJFh+SzYNVZ9tt/f/obbG/4O/rd638qozCg3lUd7RbsL3b+Wf+1j52Pt7JqBnR30+sdNnQ4ODpbPgh2xnuA/Jf+Zmzd30K1BBmKw49n1a9dvmPMwd6E7gJ4OPR35jtZOsBkEB+PUqcfNkyefOIBZCh4hxPKj2iYKnSLoZpDaoN7is2V+p/nWTqe1lJVh0CBMnowhQ3DuHL79FmfPQiy2cBbsiFWDgRim5ExRG9QTxROfY6sUCuTnIzkZ7u44ehRiMf73P8tbBQCEQQghJCo/Chchvy5/oH9g7VzaQHQ0Acjq1TXNxEQyaxb55RfLJ8KOWACQUp6yvmi9kCfc12VfB2EHa6fTBvLzAUAmq2meOoWdO3HzpuUTYXeFKDYUh90NM8G02nv1YOfB1k6nbdQTq17TgvzVj1gmmGbcnVGgLxjhMmKJ5xJrp9NmmFg2wpc7vixSF3kIPfZ12SfgCaydTptRKgFAKq1pWk+sv/R0w/nz54cOHUp4JCkjaVT3UdZOp808eIBOneDmBrUaAPR6ODiAz0dVFQSW3mf+ukes0tLSqVOn6vX6yEWRfwar8NTxSamEyQSJxPJW4a8s1oIFC3Jycvr377969Wpr52ImbOYCC8/LXaHJZOLxeDwez1wBt23btm/fPmdn5z179tjZ2ZkrrJXxLMByCQJ61zQN9/FyCAL7WiWX50Cs9PT0M2fOzJ8/383NzdfX19vbWyKR1P1DLpeLRKLmB8zIyIiMjAQQFxfXo0cPaolbnPI88FXwcq5p2mUj5BxCQqySi62LpdVqp0yZkpmZCaCkpOTixYtPbyMQCDw9PX18fCQSiVwul8lkUqlULpdLpVKpVFrvgFRVVRUWFqbVasPDw6dNm2ahr2EZyvIBwPXRua9cCQAu0mduTxNbFysiIiIjIyMgIODMmTMlJSVKpTIvL0+lUikUivz8fKVSqVAoioqKVCqVSqVqMIKXlxdnGGfeiRMnrl69GhAQ8OWXX1r4u1Cnnlj1mpbFpsU6cODA9u3bHRwc9u7dKxaLxWJx165dG9yypKTkzp07KpWqoKCg7h8KhaKwsLCwsLD2UOfh4WFnZ7d///527dpZ8KtYBCZWc8jLy5s3bx6A2NjYvn2buAJ1c3MLDg4OfqrwyGQyFRUV1R7bcnNz4+LidDpdaWkprbytCBOrSQwGw5QpU9Rq9cSJEzm9aomMjHRzc+POazKZTC6Xu7i4PCsOn8/39vb29vYeMGAA1+Pk5LRq1aoNGzYMGTKE7ndoPufP4+pVuLlh+HB4eLQySHUpdOWwc4F9ewAgRlQUgseHi7cZM20+NjrzHhUVtW7dOrlcfuXKlQ4dHpcbVFZWPn0Kc3BwkEgkT98tckrVm6QoLi7u3LmzXq/Pysry9fW1xJdpnPffx7VrmDoVRUXYsQNHjiAoqDVx7mXg60B08se7mQBQlo8NcrhI8IHSvPk2F8tX6jRJcnIyn88XCoVnzpyp95+0Wu3XX3+9bNmymTNnjho1yt/fv/FLpXbt2vXs2XPTpk11g7z99tsAIiMjLfidnsG1a8TPj+h0Nc3ERDJ6dCtDae6RSzvIlV01zcKr5LP2ZNsAMyTZKmzuiFVcXBwUFFRQULBmzZro6OjmfKSysrLuNXu9S3gA69evX7x4ce32169f79u3r7Ozs0KhaN++Pa1v0hy2bcPly9iypaap0cDLC9eu4fx5yGSQy+HtjebP32YeQEYiAIg748WFcJXDqIPAOtO/tnWNZTKZpk+fXlBQMGLEiCVLmlvE4ujo6Ovr2+B5TaPR5OXl1T2ZAujTp8+IESNSUlJ27dq1aNEiM+TdarRaONZZoGFvD4MBv/2GuXNreng8eHlBKoVUCh8f9OyKoe5oL4eLFK4yCJ9cfnMvE+Iu6D8Pt3/G3vGYf8VaVsHWrrHWrl0bHR3t4eFx5coVb2+KV52HDx9+7bXXunTpkp2dLbDGM9oafvoJsbH49dea5rVrmDwZsbH497+Rnw+FAgUFMBgeb/9/QRh75XGznTtcJGgvh6sM7TvDqINAhCHRICZ86oiPNOBb7cBhQ2JduHBhyJAher3+8OHDoaGhVMcihPj7+9+6devgwYOvv/461bEaw2hEUBAiIzFjBu7dQ1gYpk3DnDmPNzCZUFgIhQIqFRQK2GngkY5SBcryUa6Csfrxlq5yvBCO0jwETETWMaiz8ffVOPEJXCRwlcFVDldpzR/2rk0ndvEioqJqym9GjsRnn7XgjAzAdsQqLS3t169fTk7OkiVLPv/8cwuMuGnTpoULFw4bNuzkyZMWGK4BjEYIBLh3D8uX49IluLpixgzMnNmCCJoilClRrkRpHngCaIqRk4zOQ9GhO3pPxo2DOBjWwKfsnOEchCOONadXiaTmek4qRceOAKDRoHdvJCRg+HDodJg5EwEBWL68RV/OVsSaNm3avn37BgwY8N///tcy5QYajcbHx0etVqemptbOclmU6dPB52PrVpjrGcDJVTWnQg5NMVQXao5tD3NRrkJZPsoU0FVA1xtrGlp37+gIuRwrVyIxEQcP1nTm5LTizSItOwdfrbzaXtC+i12XFn2qSeLi4ixfxOLk5DR79uyYmJhNmzZ98803lhn0Mf/+N/bsgYsLPvkE3bpRGcLJA37jGuivLsX9Agy9W3N6zc+HUlnzx8OHUKuRn/9ESl26oLAQBgOELbGl8dmIXfd3Dbk1pG9m3+k505U65QeKD3be32neCY/09HRuLmrPnj3mjdwkubm5QqFQJBIpFAqLDpyVRVxcCEB27zZn2Lz/kuxfiKG69RE0GnLnDtm5k8ye/bizpIR07NjSSI2JtV+9v29m39zqXCMx7lfvT9Wkml2sysrKv/3tbwDmzJljxrDNZ9KkSQCWLl1quSGrqkhQEAHI22+bP/g3L5EVPJKT3KYgOTlEJiOlpTXNzZvJ1KktjdGYWCOzRv748Me6PZxYP5T8cLr89J3qO9WmNuwchBBC5s6dCyAgIECj0bQxVOs4e/YsgA4dOlgugXfeIQDp3p2UlZk/+OZeZAVIcUZb43z9Nendm0RFkZkzSc+e5O7dlgZo7Kx5t/puL/te9U+dIJNzJuuIjmt6ibykIqlUJPWx85GIJDI7mVwkl9pJZUTm6NDEu1kOHDiwbds2rirGWkUsISEhL7744vnz5/fs2TOn7n0+JY4exZYtsLdHYiKe/ey89ZQpAXNUNCxYgAkTcPUqOnTAxo3IyEDnzi0K0JhYYqG4zFRWr1NHdK+LX8/X5yt0igJ9QaG+sFBfeBFPFHYKeAJeCE/IEz79VFgikXTr1k0sFisUCq5sYcOGDU1WxVAlIiJi6tSpX3zxRXh4uBnL6hsgPx9vvw1CEBODfv3MH7/q4aMCh2bMVDWJpyfGjIFaDT8/VFZCoWjZy0UaOZq9l/deVH5U3Z5611hGYlTpVKma1B9KfthYvHFJ/pLpOdOH3ho68PpAe3v7RgZt3769m5sbgIkTJ7b0GGt29Hq9j48PgKSkJHqjGPR609ChBCCvvUZMJipjFF0nK0C+CjBz2DFjCEDWrWvRhxo7Yi31Wvpy9stKvTLIMehy5eW5nebW24APvrfI21vkPaDdU/NAVSgpKWnwqXB2dnZpaamLi4tIJFq6dGkLdgI6CIXCd95558MPP4yNjX355ZcpjbJi5cpzFRW7g4K84+NB6bhIqbIvIgK//oqNGxERgeYvWmncuypTVUpZyrcPvk3VpBJCMiozFDoz3Jk/ePCAux1btGhRbeedO3ciIyMLCwvbHr+lqNVqZ2dnHo+XkdHmy96G+P333/l8vkAgOHXyJI34NVzcTlaAHJrd9JYtwmQi/v4EIN991/wPWa0e6/r16zwez8XF5eHDh1zPhAkTAHzyySdWyeedd94BMG/ePLNHLi4ulkgkAFauXGn24E+Q8glZAZKy3PyRt24lABnQguouaxb6jRo1CsAXX3zBNU+dOgXA3d29srLS8slkZWXx+XxHR8d79+6ZMazJZBo/fjyAYcOGGQwGM0ZugE8Xk7deJL+YddKVQ6slnToRgJw718xPWFOsI0eOAOAKhbmegQMHAoiPj7dKPuPGjQMwZ86c27dvm0vumJgYAB06dMjNzTVLwMYYO5YA5NgxKsE/+ogAZPLkZm5uTbFMJlOvXr0AHDhwgOvZvXs3gMDAQBOl+6Y6bN++PTExsW7PV199VXddhpubW0BAwOjRo2fMmBEVFRUXF3f48OG0tLTac3eTpKWl2dnZ8Xi8Q4cOUfgGTxEYSABy9SqV4EolsbMjQiFp3h5i5Zr3r776CsCQIUO4pk6nk8lkAH777Teq416+fNnBwQHApUuXuJ7S0tJu3boB6NKlS9euXRufLhGLxYGBga+88kp4ePiKFSt27Njx888/p6en13WuvLycW79vueJ6sZgA5AG1d6iGhRFAHxXV9JZWF0uj0XTs2BHA+fPnuZ5PP/0UQGhoKL1BKyoq/P39Abz77ru1nWFhYQCCg4Orq2ueUxUUFFy8ePHQoUObN2+Ojo6eMWPGyJEje/To4ejY2BMFJycnf3//0aNH+/n5cQGrqqrofZe634oApF07eiPo0tLeHzZMLpOVl5c3ubH1V+lwte1hYWFc88GDB05OTjwe78aNG5RG5FbpBAYGarVarmfHjh0AnJ2db9682ZwIWq32jz/+OH78eEJCwtq1a+fOnRsaGhocHMzN+nK4uLg4OzunpqZS+hb1uXGDAKRHD6qDDB06FEC9VU8NYn2x8vPzRSJR3doV7sl03cOJGfnuu++440pmZibXk5WVxV1a7TZHEUtpaWlGRkZSUhK3LHvNmjW1/0mn0+3bt4/W0+7jxwlA/v53KsEf8f333wPw8/MzGo2Nb2l9sQghkydPBhAdHc01b968yePx2rVrd//+ffMOlJ2d7erqWvfGs7KyMigoCMCsWbPMO9bx48cBSCSS2nMrV1y/ZcsW8w5Uw86dBCAzZ1IJ/giDwcBdiR4+fLjxLW1CrAsXLnB3YRUVFVwP92jl888/N+MoOp3uxRdfBDBp0qTazgULFnC7YBmFIhau1Ky2gDExMRFAjx49mtzdW8Pvv5Np00hcnPkjP8m//vUvAH9v6tBoE2IRQkJCQgBs3bqVayYlJQGQSqW62lXCbYZ72Zqvr2/tvRt3YLe3t6+9NzQv3KVbcHAw1zQYDNzbco6Zd6rJaCTx8eStt0hYGNmxg9YT7keUlZVxq3wvX77cyGa2IhZ36VN3b+7Tpw+A/fv3myX+Tz/9xOPxRCLRuUdzx3l5edwN6ebNm80yxNNUVVV5enoCOH36NNfDzZe+9NJL5hxm2TIybhy5fJmkp5PJk8n8+eYM3hARERFNXjzYili1e/NPP/3E9cTFxQHo379/24MXFhZy/8AxMTFcj16vHzx4MIBx48ZRnYxdvnw56lQHlZaWchd5V801janVkg4diFr9uOnpSVQq8wR/Bjk5OQKBwN7evqCg4Fnb2IpYhJB169YBGDNmDNfUarWdOnUCcPbs2baENRqN3EPJsWPH1jr00UcfAZDJZGa/P6hHUVGRg4ODQCD4448/uJ73338fQHh4uHkGSE8ngYFP9IwcSZLbVvPeDLgbkUYqBmxIrJKSEmdn57p7M1et9eabb7Yl7KpVqwB4enrW7l4nTpwQCAQCgSCZ/j8AIeStt94C8MEHH3DNO3fucLu7eQqEsrLqz10NHkyeekuP2Tl16lTfvn3rPROriw2JRQh57733UGfFjlKpFIvF7733XqsDnj59WigU8vn848ePcz21RSz//Oc/zZBxM7h27Vq9AqFXX30VwKpVq8wQXacjXl4kL6+mqVYTT09SUkL7Er5JbEus27dv8/n8untz7eR4K1Cr1Z07d0ad1V21RSzDhw+nXsRShxEjRgCIjY3lmikpKQA8PDzMU0OxfTvp358cPEiOHCHDhpF160hFBRk40MyLFluIbYlFCOH+4c1yODl69Ki9vf2gQYNqy3LWr18PwN3dXalUtj1+8/nxxx8BdO3atdZmblY2ISHBPAOcO0dWrCDLlpETJwghZNs2AtQsXXw0NWhhbE6s5ORkbm82y7PbS5cu3X20Ju7ChQsWLWKpg9Fo7NmzJ4AffviB69m1axeAPn360LonTUggzs4EID17kkYnnChhc2KRR3vzN998Y8aYtUUstRfRFmbjxo3cKZhrVldXcy8AS0lJoTXkzZs1S67t7UlsrIWvumxRrJ07d3IHLa7aKT4+PikpqV61U0t5uirGwpSXl4vFYgC19Q4rV64E8Nprr1EctbKSLFxIeLyaZWeU51bqYotibd26VSgUNviiPQcHB19f38GDB0+aNCkqKio2NjYxMTEtLU2pVDbyAK6lVTGU+Mc//gFgxowZXLO4uNjR0ZHP59++fZvuwN9/T9zcCEDkctOjZwC0sZX3Y9WSmZk5YMAArVa7ePHi7t27q1Sq3NxclUrF/dhJRUXFsz7o6OhY+ys6MplMIpH4+PhIpdLq6uqxY8eWl5fv3r17+vTplvwu9cjNze3evTuPx8vJyZFKpQDCw8Pj4+MXLlxI/fdXFAqEheH06fUhIZoxYz7++GPqL8i0jL/NpLKykltuP3t2w4vjuAq706dPJyYmrl27duHChZMmTQoODn76fe514fF4b9N4tUvL4VZTLlu2jGtyU1zDhw+3QI0/0etvxcTw+XwAI0eOpH1fbFtitaWIRaPR3Lhx4/fff09ISFi9evWCBQvGjx8fFBQkk8mOHTtWYaW77nqcOXMGT77c5sqVK5ZMIDk5mZsf7tSp05EjR+gNZENi1RaxNF6P8bzD1YRt27bNWgncu3ePW+jG4/EWLlxIqSTfVsSqfRs7vSIWG2Hv3r0AevfubYnT3zMwmUyxsbHcWzlfeOGFrKwssw9hE2LVFrGEhoZa8X+3ZdDr9XK5HMAvv/xi3UxSU1O5OmMXF5dvv/3WvMEFK1asoHlv0Cw+/vjjvXv3ymSypKSkP+HPCD4Jn8/X6XS//fbbxYsXRSJRYWFhdXW1SCRqfFVZI2hN2uzqbFeBq5An/J/mf8kVyX0dm/W+MalUOmvWrLy8vLS0tMDAwJEjR7YugQax/nTDyZMnR40axePxUlJSbOin3miiVqsXLFhw6NCh6urHvwDg6OhY99eH5V3l0klSmUgmEUk8RZ7PCrVUtfS7ku/6Ofa7VnktwiNCLBSfqTizWb65RfkcOnQoNDTUvBMQVhar2FA84fqEgsUFs0bOWrZsmRUzsTA6nW7NmjX5+fkqlSovL0+pVD58+LDuBvL/kyu+UnB/2/PspXY17+PkXswpt5P72fvd1d1dplp2pucZJ75ThanivuH+Oc25VohFA2uKRUDGZY/7ueznV5xfOdr9KDfF8peF+z0ppVLJTQVrO2rTX05X6BRKvfK+4f7T249vP57TK8IjorZzX8k+GxHLmr/+FVMU83PZz+5C9x1dd/zFrcKjtfnc2v96VJmqFHqFSq/K0+UpdUqlXpmnyxvkPOiC5sIQZxu9eLCaWGnatGWqZTzwdnTeIRFJrJXGc4ED38HP3s/P3q9e/6L8RXm6lv0SicWwznGiwlQRlhOmI7pIj8hX279qlRz+BLwpfnP7/e1F+iIABKTC9MwHqZbHOkes+Xnzs6qzgtsFfyb9zCoJ/DkY7Dx4QacFQ7OGeou8HxgeLPZcbM9v7O1LlsQKF+/xD+LDc8Od+c5pvdJ6OvS08Oh/SsqMZa4Cc7zb3XxYTqxiQ7FKr3LiOwXfDC43lu/usnt6B2sWsTCoQvFUeK3y2qqCVberb3ez7xbtFV2sL96r3ptZlVluLJ/VcRaz6s8NLbFUetWY7DG7Ou8a7TI6VZt6RXtFIpIUGYrSq9J7OfTaJN9EaVyGjUBLrIQHCW+I3xjrOhbAIKdBg5wGHSs9JhFJTvU45cR3cuI7URqXYSPQEuuO7s4Lji883R/iFEJpRIZNQWsey5XvWm4qpxScYfvQEivEOeRI6REC21qpwbAYtE6FE8QTtt/fPjZ7bGj70AJ9gafQs7t9d0pjMWwQivNYJpjOVpzNqs5yF7qPchlVaixV6BQDnQZSGo5hU1i/0I/xp+SvXqzCoAQTi0EFJhaDCkwsBhWYWAwqMLEYVGBiMajAxGJQgYnFoAITi0EFJhaDCkwsBhWYWAwqMLEYVGBiMajAxGJQgYnFoAITi0EFJhaDCkwsBhWYWAwqMLEYVGBiMajAxGJQgYnFoAITi0EFJhaDCkwsBhWYWAwqMLEYVGBiMajAxGJQgYnFoAITi0EFJhaDCkwsBhWYWAwqMLEYVGBiMajAxGJQgYnFoAITi0EFJhaDCkwsBhWYWAwqMLEYVGBiMajAxGJQgYnFoAITi0EFJhaDCkwsBhWYWAwqMLEYVPh/8pHEEMAL2GsAAAFuelRYdHJka2l0UEtMIHJka2l0IDIwMjAuMDkuMQAAeJx7v2/tPQYg4AFiRgYIEIbiBkY2hgSQODMHgwKQZuIHU6wcDBpAipkJKopQBBFmg9AsbAwZIJqZURCsjpHNASruABWHCaDJw7nYlXED3cnIxMDEzMHExMLAwgpyABu7AjuHBhMHJwM7lwIXdwYTN08CDy8DD18GEx8/A59AgoBgBpOgEIMgV4IIIxuXoAAfD7c4zLsMwsvuFzu4nTu8H8RZVqzm8GyCCph98qmBQ7Z6pD2I/Tbc2uH9dlEHEPu9ZofD3Th9sHhL/WyHjZIGYPVZ7xfZ/y1vBIvHLTtqJ8ngvQ/Evl1fa+8lcxKshvucnMNEhntg9sSi3v0t5fx7QeyUH//27wmeDxZ3exV3oDS/C8yeca37wK7FQgdA7B2nmg54GE+1A7EPN246kHLkBZjdfsnnwCWVA2B7n5+4tb/bYTWYrdEWtN+VRxnsZjEA/vRc6r+4bjgAAAFzelRYdE1PTCByZGtpdCAyMDIwLjA5LjEAAHicnVVJbsQgELz7FXxgUK/QfR7PKcqiHPKHSDnm/0pjPMQjJdIMFrKqDJSrF+wltet9ffr8TuOidVkSehsJ/hzunj4IAJa2nrMhaIATZiWv7RnkmIV0Tv9JHMemQrkAWFOBXITsoPL6iEotAn2vifFB5e0RFadKHTG7zHmRTKrY9xZTmFUxdd7zYtXnsos5AvKOAFHnvEBmK9C9oBvNeYHsDrT3S8VJFcpiyF2lshxrdP66VyX2Rutijwj4pkb3ewkVd4KOSGTuBJw4IuJdBeymRg+oSObirdInyuS32b0/LxIO6r43VGTOi0Z9r2dQVMqcF87xqeHeuxrNO1ujCr6rME+eo+gSI5Lefyp1KqIIgLZ7I4F4kECyPdqJjplA5bisDhLIBgnkXXNpCOEw0xLXSaDWF/09gXA4CNRq/Ut0LNOEw0Ejw0EgtLHMtt8GDnJ96XNKl5d1+QFQhf/XwJtRdQAAAQV6VFh0U01JTEVTIHJka2l0IDIwMjAuMDkuMQAAeJwdkMGNxTAIBVvZYyI5CB5gg6x/SgHZHnL9JWzxi32xrRHPDNzP7/F5zuO5z+c+Pvf9PV9532Pd+3jl/v78HUoh7NouIUcObRPUmUPaxdQNoX2h0Y21MYUFPBZJDFgDqaZ6m0ZwF1RJD2eTRcJTsf+JEYk2hSqU2oRYxEabTBqdK19FkgHTxTIZK1hKQ2R3sxDdkkNNs816lTb3Faw8o8uGmZJ91cFsWCGtqLIvVEPVoPMy0p5ZCIQU2EYcA172RYzL7PJqHmqFzK1D91/gJVte5Y/dcHCiF1EduRRqRUDtDOQ2Otr59w850FC36IC2PAAAAABJRU5ErkJggg==\" alt=\"Mol\"/></td>\n",
       "      <td>[1, 0, 1, 0, 1, 0, 0, 0, 1, 0, 1, 0, 0, 0, 0, ...</td>\n",
       "      <td>[11.888207182049776, -3.753519738914086, 11.88...</td>\n",
       "      <td>11.888207</td>\n",
       "      <td>-3.753520</td>\n",
       "      <td>11.888207</td>\n",
       "      <td>0.016420</td>\n",
       "      <td>...</td>\n",
       "      <td>0</td>\n",
       "      <td>0</td>\n",
       "      <td>0</td>\n",
       "      <td>0</td>\n",
       "      <td>0</td>\n",
       "      <td>0</td>\n",
       "      <td>0</td>\n",
       "      <td>0</td>\n",
       "      <td>0</td>\n",
       "      <td>0</td>\n",
       "    </tr>\n",
       "  </tbody>\n",
       "</table>\n",
       "<p>893 rows × 214 columns</p>\n",
       "</div>"
      ],
      "text/plain": [
       "                               cano_smiles  activity  group  \\\n",
       "0                   Cc1occc1C(=O)Nc1ccccc1    -3.300  train   \n",
       "1                       CC(C)=CCCC(C)=CC=O    -2.060  train   \n",
       "2       c1ccc2c(c1)ccc1c2ccc2c3ccccc3ccc21    -7.870  train   \n",
       "3                                  c1ccsc1    -1.330  train   \n",
       "4                            c1ccc2scnc2c1    -1.500  train   \n",
       "..                                     ...       ...    ...   \n",
       "896                        FC(F)(F)C(Cl)Br    -1.710  train   \n",
       "897              CNC(=O)ON=C(SC)C(=O)N(C)C     0.106  train   \n",
       "898                      CCSCCSP(=S)(OC)OC    -3.091  train   \n",
       "899                                CCC(C)C    -3.180  train   \n",
       "900  COP(=O)(OC)OC(=CCl)c1cc(Cl)c(Cl)cc1Cl    -4.522  train   \n",
       "\n",
       "                                              Molecule  \\\n",
       "0    <img data-content=\"rdkit/molecule\" src=\"data:i...   \n",
       "1    <img data-content=\"rdkit/molecule\" src=\"data:i...   \n",
       "2    <img data-content=\"rdkit/molecule\" src=\"data:i...   \n",
       "3    <img data-content=\"rdkit/molecule\" src=\"data:i...   \n",
       "4    <img data-content=\"rdkit/molecule\" src=\"data:i...   \n",
       "..                                                 ...   \n",
       "896  <img data-content=\"rdkit/molecule\" src=\"data:i...   \n",
       "897  <img data-content=\"rdkit/molecule\" src=\"data:i...   \n",
       "898  <img data-content=\"rdkit/molecule\" src=\"data:i...   \n",
       "899  <img data-content=\"rdkit/molecule\" src=\"data:i...   \n",
       "900  <img data-content=\"rdkit/molecule\" src=\"data:i...   \n",
       "\n",
       "                                                MorgFP  \\\n",
       "0    [1, 1, 1, 0, 1, 0, 1, 0, 0, 0, 0, 0, 0, 0, 0, ...   \n",
       "1    [1, 0, 1, 0, 0, 0, 0, 0, 0, 0, 0, 0, 0, 0, 0, ...   \n",
       "2    [0, 0, 0, 0, 1, 0, 0, 0, 0, 0, 0, 0, 0, 0, 0, ...   \n",
       "3    [0, 0, 0, 0, 1, 0, 1, 0, 0, 0, 0, 0, 0, 0, 0, ...   \n",
       "4    [0, 0, 0, 0, 1, 0, 1, 0, 0, 0, 0, 0, 0, 0, 0, ...   \n",
       "..                                                 ...   \n",
       "896  [1, 0, 0, 0, 0, 0, 0, 0, 1, 0, 0, 0, 0, 0, 0, ...   \n",
       "897  [1, 1, 1, 0, 0, 0, 0, 0, 0, 0, 0, 0, 0, 0, 0, ...   \n",
       "898  [1, 0, 1, 0, 0, 0, 0, 0, 0, 0, 0, 0, 0, 0, 0, ...   \n",
       "899  [1, 0, 0, 0, 0, 0, 0, 0, 0, 0, 0, 0, 0, 0, 0, ...   \n",
       "900  [1, 0, 1, 0, 1, 0, 0, 0, 1, 0, 1, 0, 0, 0, 0, ...   \n",
       "\n",
       "                                           Descriptors  MaxEStateIndex  \\\n",
       "0    [11.724911186696902, -0.14587962962962941, 11....       11.724911   \n",
       "1    [10.020497606449988, 0.8450897581254724, 10.02...       10.020498   \n",
       "2    [2.270277777777778, 1.3010547891996307, 2.2702...        2.270278   \n",
       "3    [2.0416666666666665, 1.7129629629629628, 2.041...        2.041667   \n",
       "4    [4.137222222222222, 1.0995370370370372, 4.1372...        4.137222   \n",
       "..                                                 ...             ...   \n",
       "896  [10.999421296296298, -4.317901234567901, 10.99...       10.999421   \n",
       "897  [11.337508030990174, -0.705457294028722, 11.33...       11.337508   \n",
       "898  [5.174287131519274, -1.9846619110607204, 5.174...        5.174287   \n",
       "899  [2.2222222222222223, 0.8842592592592591, 2.222...        2.222222   \n",
       "900  [11.888207182049776, -3.753519738914086, 11.88...       11.888207   \n",
       "\n",
       "     MinEStateIndex  MaxAbsEStateIndex  MinAbsEStateIndex  ...  fr_sulfide  \\\n",
       "0         -0.145880          11.724911           0.145880  ...           0   \n",
       "1          0.845090          10.020498           0.845090  ...           0   \n",
       "2          1.301055           2.270278           1.301055  ...           0   \n",
       "3          1.712963           2.041667           1.712963  ...           0   \n",
       "4          1.099537           4.137222           1.099537  ...           0   \n",
       "..              ...                ...                ...  ...         ...   \n",
       "896       -4.317901          10.999421           1.916667  ...           0   \n",
       "897       -0.705457          11.337508           0.123704  ...           1   \n",
       "898       -1.984662           5.174287           1.011373  ...           1   \n",
       "899        0.884259           2.222222           0.884259  ...           0   \n",
       "900       -3.753520          11.888207           0.016420  ...           0   \n",
       "\n",
       "     fr_sulfonamd  fr_sulfone  fr_term_acetylene  fr_tetrazole  fr_thiazole  \\\n",
       "0               0           0                  0             0            0   \n",
       "1               0           0                  0             0            0   \n",
       "2               0           0                  0             0            0   \n",
       "3               0           0                  0             0            0   \n",
       "4               0           0                  0             0            1   \n",
       "..            ...         ...                ...           ...          ...   \n",
       "896             0           0                  0             0            0   \n",
       "897             0           0                  0             0            0   \n",
       "898             0           0                  0             0            0   \n",
       "899             0           0                  0             0            0   \n",
       "900             0           0                  0             0            0   \n",
       "\n",
       "     fr_thiocyan  fr_thiophene  fr_unbrch_alkane  fr_urea  \n",
       "0              0             0                 0        0  \n",
       "1              0             0                 0        0  \n",
       "2              0             0                 0        0  \n",
       "3              0             1                 0        0  \n",
       "4              0             0                 0        0  \n",
       "..           ...           ...               ...      ...  \n",
       "896            0             0                 0        0  \n",
       "897            0             0                 0        0  \n",
       "898            0             0                 2        0  \n",
       "899            0             0                 0        0  \n",
       "900            0             0                 0        0  \n",
       "\n",
       "[893 rows x 214 columns]"
      ]
     },
     "execution_count": 35,
     "metadata": {},
     "output_type": "execute_result"
    }
   ],
   "source": [
    "train"
   ]
  },
  {
   "cell_type": "code",
   "execution_count": 36,
   "metadata": {},
   "outputs": [],
   "source": [
    "# Specifing the columns for dependent and independent variables (Training dataset)\n",
    "X_train = train.drop([\"cano_smiles\",\"activity\", \"group\", \"Molecule\", \"Descriptors\",\"MorgFP\"], axis = 1).values\n",
    "y_train = train[\"activity\"].values"
   ]
  },
  {
   "cell_type": "code",
   "execution_count": 37,
   "metadata": {},
   "outputs": [],
   "source": [
    "# Specifing the columns for dependent and independent variables (Test dataset)\n",
    "X_test = test.drop([\"cano_smiles\",\"activity\", \"group\", \"Molecule\", \"Descriptors\",\"MorgFP\"], axis = 1).values\n",
    "y_test = test[\"activity\"].values"
   ]
  },
  {
   "cell_type": "code",
   "execution_count": 38,
   "metadata": {},
   "outputs": [],
   "source": [
    "# Specifing the columns for dependent and independent variables (Validation dataset)\n",
    "X_valid = valid.drop([\"cano_smiles\",\"activity\", \"group\", \"Molecule\", \"Descriptors\",\"MorgFP\"], axis = 1).values\n",
    "y_valid = valid[\"activity\"].values"
   ]
  },
  {
   "cell_type": "markdown",
   "metadata": {},
   "source": [
    "**Convert the RDKit explicit vectors into numpy arrays**"
   ]
  },
  {
   "cell_type": "code",
   "execution_count": 39,
   "metadata": {},
   "outputs": [],
   "source": [
    "X_train = np.array(X_train)\n",
    "X_test = np.array(X_test)\n",
    "X_valid = np.array(X_valid)"
   ]
  },
  {
   "cell_type": "code",
   "execution_count": 40,
   "metadata": {},
   "outputs": [
    {
     "name": "stdout",
     "output_type": "stream",
     "text": [
      "<class 'numpy.ndarray'>\n",
      "<class 'numpy.ndarray'>\n",
      "<class 'numpy.ndarray'>\n",
      "<class 'numpy.ndarray'>\n",
      "<class 'numpy.ndarray'>\n",
      "<class 'numpy.ndarray'>\n"
     ]
    }
   ],
   "source": [
    "print(type(X_train))\n",
    "print(type(y_train))\n",
    "print(type(X_test))\n",
    "print(type(y_test))\n",
    "print(type(X_valid))\n",
    "print(type(y_valid))"
   ]
  },
  {
   "cell_type": "markdown",
   "metadata": {},
   "source": [
    "## Feature Scaling"
   ]
  },
  {
   "cell_type": "code",
   "execution_count": 41,
   "metadata": {},
   "outputs": [],
   "source": [
    "from sklearn.preprocessing import StandardScaler\n",
    "\n",
    "sc = StandardScaler()\n",
    "X_train = sc.fit_transform(X_train)\n",
    "X_valid = sc.transform(X_valid)\n",
    "X_test = sc.transform(X_test)"
   ]
  },
  {
   "cell_type": "markdown",
   "metadata": {},
   "source": [
    "## XGboost Regressor"
   ]
  },
  {
   "cell_type": "code",
   "execution_count": 42,
   "metadata": {},
   "outputs": [],
   "source": [
    "from xgboost import XGBRegressor\n",
    "\n",
    "xgb = XGBRegressor(random_state=42)\n",
    "model = xgb.fit(X_train, y_train)\n"
   ]
  },
  {
   "cell_type": "code",
   "execution_count": 43,
   "metadata": {},
   "outputs": [
    {
     "data": {
      "text/plain": [
       "{'objective': 'reg:squarederror',\n",
       " 'base_score': 0.5,\n",
       " 'booster': 'gbtree',\n",
       " 'colsample_bylevel': 1,\n",
       " 'colsample_bynode': 1,\n",
       " 'colsample_bytree': 1,\n",
       " 'gamma': 0,\n",
       " 'gpu_id': -1,\n",
       " 'importance_type': 'gain',\n",
       " 'interaction_constraints': '',\n",
       " 'learning_rate': 0.300000012,\n",
       " 'max_delta_step': 0,\n",
       " 'max_depth': 6,\n",
       " 'min_child_weight': 1,\n",
       " 'missing': nan,\n",
       " 'monotone_constraints': '()',\n",
       " 'n_estimators': 100,\n",
       " 'n_jobs': 1,\n",
       " 'num_parallel_tree': 1,\n",
       " 'random_state': 42,\n",
       " 'reg_alpha': 0,\n",
       " 'reg_lambda': 1,\n",
       " 'scale_pos_weight': 1,\n",
       " 'subsample': 1,\n",
       " 'tree_method': 'exact',\n",
       " 'validate_parameters': 1,\n",
       " 'verbosity': None}"
      ]
     },
     "execution_count": 43,
     "metadata": {},
     "output_type": "execute_result"
    }
   ],
   "source": [
    "model.get_params()"
   ]
  },
  {
   "cell_type": "markdown",
   "metadata": {},
   "source": [
    "### Training dataset"
   ]
  },
  {
   "cell_type": "code",
   "execution_count": 44,
   "metadata": {},
   "outputs": [
    {
     "name": "stderr",
     "output_type": "stream",
     "text": [
      "/ext3/miniconda3/lib/python3.7/site-packages/xgboost/data.py:114: UserWarning: Use subset (sliced data) of np.ndarray is not recommended because it will generate extra copies and increase memory consumption\n",
      "  \"because it will generate extra copies and increase \" +\n"
     ]
    },
    {
     "data": {
      "text/plain": [
       "0.01460675860887739"
      ]
     },
     "execution_count": 44,
     "metadata": {},
     "output_type": "execute_result"
    }
   ],
   "source": [
    "from sklearn.metrics import mean_squared_error\n",
    "\n",
    "y_train_pred = model.predict(X_train)\n",
    "xgb_mse = mean_squared_error(y_train, y_train_pred)\n",
    "xgb_rmse = np.sqrt(xgb_mse)\n",
    "xgb_rmse"
   ]
  },
  {
   "cell_type": "markdown",
   "metadata": {},
   "source": [
    "### Validation dataset"
   ]
  },
  {
   "cell_type": "code",
   "execution_count": 45,
   "metadata": {},
   "outputs": [
    {
     "name": "stderr",
     "output_type": "stream",
     "text": [
      "/ext3/miniconda3/lib/python3.7/site-packages/xgboost/data.py:114: UserWarning: Use subset (sliced data) of np.ndarray is not recommended because it will generate extra copies and increase memory consumption\n",
      "  \"because it will generate extra copies and increase \" +\n"
     ]
    },
    {
     "data": {
      "text/plain": [
       "0.6464479238609873"
      ]
     },
     "execution_count": 45,
     "metadata": {},
     "output_type": "execute_result"
    }
   ],
   "source": [
    "y_valid_pred = model.predict(X_valid)\n",
    "xgb_mse = mean_squared_error(y_valid, y_valid_pred)\n",
    "xgb_rmse = np.sqrt(xgb_mse)\n",
    "xgb_rmse"
   ]
  },
  {
   "cell_type": "markdown",
   "metadata": {},
   "source": [
    "### Test dataset"
   ]
  },
  {
   "cell_type": "code",
   "execution_count": 46,
   "metadata": {},
   "outputs": [
    {
     "name": "stderr",
     "output_type": "stream",
     "text": [
      "/ext3/miniconda3/lib/python3.7/site-packages/xgboost/data.py:114: UserWarning: Use subset (sliced data) of np.ndarray is not recommended because it will generate extra copies and increase memory consumption\n",
      "  \"because it will generate extra copies and increase \" +\n"
     ]
    },
    {
     "data": {
      "text/plain": [
       "0.5657269812121349"
      ]
     },
     "execution_count": 46,
     "metadata": {},
     "output_type": "execute_result"
    }
   ],
   "source": [
    "y_test_pred = model.predict(X_test)\n",
    "xgb_mse = mean_squared_error(y_test, y_test_pred)\n",
    "xgb_rmse = np.sqrt(xgb_mse)\n",
    "xgb_rmse"
   ]
  },
  {
   "cell_type": "markdown",
   "metadata": {},
   "source": [
    "# Grid search:"
   ]
  },
  {
   "cell_type": "code",
   "execution_count": 47,
   "metadata": {},
   "outputs": [],
   "source": [
    "param_grid = {\n",
    "    'learning_rate': [0.001, 0.01, 0.1],\n",
    "    'gamma': [0.001, 0.01, 0.1, 0.7],\n",
    "    'min_child_weight': range(1, 10, 3),\n",
    "    'subsample': np.arange(0.1, 1.0, 0.3),\n",
    "    'colsample_bytree': np.arange(0.1, 1.0, 0.3),\n",
    "    'max_depth': range(3, 10, 3),\n",
    "    'n_estimators': range(200, 1000, 200)\n",
    "        }"
   ]
  },
  {
   "cell_type": "code",
   "execution_count": 48,
   "metadata": {},
   "outputs": [],
   "source": [
    "from sklearn.model_selection import ParameterGrid\n",
    "grid = ParameterGrid(param_grid)"
   ]
  },
  {
   "cell_type": "code",
   "execution_count": 49,
   "metadata": {},
   "outputs": [
    {
     "data": {
      "text/plain": [
       "3888"
      ]
     },
     "execution_count": 49,
     "metadata": {},
     "output_type": "execute_result"
    }
   ],
   "source": [
    "len(grid)"
   ]
  },
  {
   "cell_type": "code",
   "execution_count": 50,
   "metadata": {},
   "outputs": [],
   "source": [
    "import warnings\n",
    "warnings.filterwarnings(\"ignore\")"
   ]
  },
  {
   "cell_type": "code",
   "execution_count": 60,
   "metadata": {},
   "outputs": [
    {
     "name": "stderr",
     "output_type": "stream",
     "text": [
      "100%|██████████| 3888/3888 [2:03:15<00:00,  1.90s/it]  \n"
     ]
    }
   ],
   "source": [
    "from tqdm import tqdm\n",
    "from sklearn.metrics import mean_squared_error\n",
    "\n",
    "best_model = None\n",
    "best_rmse=np.inf\n",
    "best_param = {}\n",
    "for this_param in tqdm(grid):\n",
    "    this_model = XGBRegressor(**this_param, random_state=42)\n",
    "    this_model.fit(X_train, y_train)\n",
    "#     print(this_model.predict(X_valid))\n",
    "    y_pred = this_model.predict(X_valid)\n",
    "    xgb_mse = mean_squared_error(y_valid, y_pred)\n",
    "    xgb_rmse = np.sqrt(xgb_mse)\n",
    "    if best_rmse > xgb_rmse:\n",
    "        best_model = this_model\n",
    "        best_rmse = xgb_rmse\n",
    "        best_param = this_param\n",
    "        "
   ]
  },
  {
   "cell_type": "code",
   "execution_count": 61,
   "metadata": {},
   "outputs": [
    {
     "name": "stdout",
     "output_type": "stream",
     "text": [
      "{'colsample_bytree': 0.4, 'gamma': 0.7, 'learning_rate': 0.1, 'max_depth': 3, 'min_child_weight': 4, 'n_estimators': 200, 'subsample': 0.1}\n"
     ]
    }
   ],
   "source": [
    "print(best_param)"
   ]
  },
  {
   "cell_type": "markdown",
   "metadata": {},
   "source": [
    "### Training dataset"
   ]
  },
  {
   "cell_type": "code",
   "execution_count": 62,
   "metadata": {},
   "outputs": [],
   "source": [
    "y_train_pred = best_model.predict(X_train)"
   ]
  },
  {
   "cell_type": "code",
   "execution_count": 63,
   "metadata": {},
   "outputs": [
    {
     "data": {
      "text/plain": [
       "0.46810674624290965"
      ]
     },
     "execution_count": 63,
     "metadata": {},
     "output_type": "execute_result"
    }
   ],
   "source": [
    "xgb_mse = mean_squared_error(y_train, y_train_pred)\n",
    "xgb_rmse = np.sqrt(xgb_mse)\n",
    "xgb_rmse"
   ]
  },
  {
   "cell_type": "markdown",
   "metadata": {},
   "source": [
    "### Validation dataset"
   ]
  },
  {
   "cell_type": "code",
   "execution_count": 64,
   "metadata": {},
   "outputs": [],
   "source": [
    "y_valid_pred =best_model.predict(X_valid)"
   ]
  },
  {
   "cell_type": "code",
   "execution_count": 65,
   "metadata": {},
   "outputs": [
    {
     "data": {
      "text/plain": [
       "0.5292465223845259"
      ]
     },
     "execution_count": 65,
     "metadata": {},
     "output_type": "execute_result"
    }
   ],
   "source": [
    "xgb_mse = mean_squared_error(y_valid, y_valid_pred)\n",
    "xgb_rmse = np.sqrt(xgb_mse)\n",
    "xgb_rmse"
   ]
  },
  {
   "cell_type": "markdown",
   "metadata": {},
   "source": [
    "### Test dataset"
   ]
  },
  {
   "cell_type": "code",
   "execution_count": 66,
   "metadata": {},
   "outputs": [],
   "source": [
    "y_test_pred = best_model.predict(X_test)"
   ]
  },
  {
   "cell_type": "code",
   "execution_count": 67,
   "metadata": {},
   "outputs": [
    {
     "data": {
      "text/plain": [
       "0.544199569789415"
      ]
     },
     "execution_count": 67,
     "metadata": {},
     "output_type": "execute_result"
    }
   ],
   "source": [
    "xgb_mse = mean_squared_error(y_test, y_test_pred)\n",
    "xgb_rmse = np.sqrt(xgb_mse)\n",
    "xgb_rmse"
   ]
  },
  {
   "cell_type": "code",
   "execution_count": 68,
   "metadata": {},
   "outputs": [
    {
     "name": "stdout",
     "output_type": "stream",
     "text": [
      "Done\n"
     ]
    }
   ],
   "source": [
    "print(\"Done\")"
   ]
  },
  {
   "cell_type": "code",
   "execution_count": null,
   "metadata": {},
   "outputs": [],
   "source": []
  }
 ],
 "metadata": {
  "kernelspec": {
   "display_name": "Python 3",
   "language": "python",
   "name": "python3"
  },
  "language_info": {
   "codemirror_mode": {
    "name": "ipython",
    "version": 3
   },
   "file_extension": ".py",
   "mimetype": "text/x-python",
   "name": "python",
   "nbconvert_exporter": "python",
   "pygments_lexer": "ipython3",
   "version": "3.7.7"
  },
  "nav_menu": {
   "height": "279px",
   "width": "309px"
  },
  "toc": {
   "nav_menu": {},
   "number_sections": true,
   "sideBar": true,
   "skip_h1_title": false,
   "toc_cell": false,
   "toc_position": {},
   "toc_section_display": "block",
   "toc_window_display": false
  }
 },
 "nbformat": 4,
 "nbformat_minor": 4
}
