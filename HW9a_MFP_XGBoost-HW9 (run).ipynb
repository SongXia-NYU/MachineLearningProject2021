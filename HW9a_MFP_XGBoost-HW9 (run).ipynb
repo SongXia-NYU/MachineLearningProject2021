{
 "cells": [
  {
   "cell_type": "markdown",
   "metadata": {},
   "source": [
    "**Homework 9:**\n",
    "\n"
   ]
  },
  {
   "cell_type": "markdown",
   "metadata": {},
   "source": [
    "# Setup"
   ]
  },
  {
   "cell_type": "markdown",
   "metadata": {},
   "source": [
    "First, let's import a few common modules, ensure MatplotLib plots figures inline and prepare a function to save the figures. We also check that Python 3.5 or later is installed (although Python 2.x may work, it is deprecated so we strongly recommend you use Python 3 instead), as well as Scikit-Learn ≥0.20."
   ]
  },
  {
   "cell_type": "code",
   "execution_count": 1,
   "metadata": {},
   "outputs": [],
   "source": [
    "# Python ≥3.5 is required\n",
    "import sys\n",
    "assert sys.version_info >= (3, 5)\n",
    "\n",
    "# Scikit-Learn ≥0.20 is required\n",
    "import sklearn\n",
    "assert sklearn.__version__ >= \"0.20\"\n",
    "\n",
    "# Common imports\n",
    "import numpy as np\n",
    "import pandas as pd\n",
    "import os\n",
    "\n",
    "# to make this notebook's output stable across runs\n",
    "np.random.seed(42)\n",
    "\n",
    "# To plot pretty figures\n",
    "%matplotlib inline\n",
    "import matplotlib as mpl\n",
    "import matplotlib.pyplot as plt\n",
    "mpl.rc('axes', labelsize=14)\n",
    "mpl.rc('xtick', labelsize=12)\n",
    "mpl.rc('ytick', labelsize=12)\n",
    "\n",
    "# Where to save the figures\n",
    "PROJECT_ROOT_DIR = \".\"\n",
    "CHAPTER_ID = \"ensembles\"\n",
    "IMAGES_PATH = os.path.join(PROJECT_ROOT_DIR, \"images\", CHAPTER_ID)\n",
    "os.makedirs(IMAGES_PATH, exist_ok=True)\n",
    "\n",
    "def save_fig(fig_id, tight_layout=True, fig_extension=\"png\", resolution=300):\n",
    "    path = os.path.join(IMAGES_PATH, fig_id + \".\" + fig_extension)\n",
    "    print(\"Saving figure\", fig_id)\n",
    "    if tight_layout:\n",
    "        plt.tight_layout()\n",
    "    plt.savefig(path, format=fig_extension, dpi=resolution)"
   ]
  },
  {
   "cell_type": "code",
   "execution_count": 4,
   "metadata": {},
   "outputs": [],
   "source": [
    "import rdkit\n",
    "from rdkit import Chem\n",
    "from rdkit.Chem import AllChem\n",
    "\n",
    "from rdkit.Chem import Draw\n",
    "from rdkit.Chem.Draw import IPythonConsole\n",
    "from rdkit import DataStructs\n",
    "from rdkit.DataStructs import ConvertToNumpyArray\n",
    "\n",
    "from rdkit.Chem import PandasTools"
   ]
  },
  {
   "cell_type": "markdown",
   "metadata": {},
   "source": [
    "# Load the data"
   ]
  },
  {
   "cell_type": "code",
   "execution_count": 5,
   "metadata": {},
   "outputs": [
    {
     "data": {
      "text/html": [
       "<div>\n",
       "<style scoped>\n",
       "    .dataframe tbody tr th:only-of-type {\n",
       "        vertical-align: middle;\n",
       "    }\n",
       "\n",
       "    .dataframe tbody tr th {\n",
       "        vertical-align: top;\n",
       "    }\n",
       "\n",
       "    .dataframe thead th {\n",
       "        text-align: right;\n",
       "    }\n",
       "</style>\n",
       "<table border=\"1\" class=\"dataframe\">\n",
       "  <thead>\n",
       "    <tr style=\"text-align: right;\">\n",
       "      <th></th>\n",
       "      <th>cano_smiles</th>\n",
       "      <th>activity</th>\n",
       "      <th>group</th>\n",
       "    </tr>\n",
       "  </thead>\n",
       "  <tbody>\n",
       "    <tr>\n",
       "      <th>0</th>\n",
       "      <td>Cc1occc1C(=O)Nc1ccccc1</td>\n",
       "      <td>-3.30</td>\n",
       "      <td>train</td>\n",
       "    </tr>\n",
       "    <tr>\n",
       "      <th>1</th>\n",
       "      <td>CC(C)=CCCC(C)=CC=O</td>\n",
       "      <td>-2.06</td>\n",
       "      <td>train</td>\n",
       "    </tr>\n",
       "    <tr>\n",
       "      <th>2</th>\n",
       "      <td>c1ccc2c(c1)ccc1c2ccc2c3ccccc3ccc21</td>\n",
       "      <td>-7.87</td>\n",
       "      <td>train</td>\n",
       "    </tr>\n",
       "    <tr>\n",
       "      <th>3</th>\n",
       "      <td>c1ccsc1</td>\n",
       "      <td>-1.33</td>\n",
       "      <td>train</td>\n",
       "    </tr>\n",
       "    <tr>\n",
       "      <th>4</th>\n",
       "      <td>c1ccc2scnc2c1</td>\n",
       "      <td>-1.50</td>\n",
       "      <td>train</td>\n",
       "    </tr>\n",
       "  </tbody>\n",
       "</table>\n",
       "</div>"
      ],
      "text/plain": [
       "                          cano_smiles  activity  group\n",
       "0              Cc1occc1C(=O)Nc1ccccc1     -3.30  train\n",
       "1                  CC(C)=CCCC(C)=CC=O     -2.06  train\n",
       "2  c1ccc2c(c1)ccc1c2ccc2c3ccccc3ccc21     -7.87  train\n",
       "3                             c1ccsc1     -1.33  train\n",
       "4                       c1ccc2scnc2c1     -1.50  train"
      ]
     },
     "execution_count": 5,
     "metadata": {},
     "output_type": "execute_result"
    }
   ],
   "source": [
    "#\n",
    "datapath = os.path.join(\"data/raw\", \"esol.csv\")\n",
    "esol_data = pd.read_csv(datapath)\n",
    "esol_data.head()"
   ]
  },
  {
   "cell_type": "markdown",
   "metadata": {},
   "source": [
    "## Data preprocessing"
   ]
  },
  {
   "cell_type": "code",
   "execution_count": 6,
   "metadata": {},
   "outputs": [
    {
     "data": {
      "text/html": [
       "<div>\n",
       "<style scoped>\n",
       "    .dataframe tbody tr th:only-of-type {\n",
       "        vertical-align: middle;\n",
       "    }\n",
       "\n",
       "    .dataframe tbody tr th {\n",
       "        vertical-align: top;\n",
       "    }\n",
       "\n",
       "    .dataframe thead th {\n",
       "        text-align: right;\n",
       "    }\n",
       "</style>\n",
       "<table border=\"1\" class=\"dataframe\">\n",
       "  <thead>\n",
       "    <tr style=\"text-align: right;\">\n",
       "      <th></th>\n",
       "      <th>activity</th>\n",
       "    </tr>\n",
       "  </thead>\n",
       "  <tbody>\n",
       "    <tr>\n",
       "      <th>count</th>\n",
       "      <td>1127.000000</td>\n",
       "    </tr>\n",
       "    <tr>\n",
       "      <th>mean</th>\n",
       "      <td>-3.052010</td>\n",
       "    </tr>\n",
       "    <tr>\n",
       "      <th>std</th>\n",
       "      <td>2.096392</td>\n",
       "    </tr>\n",
       "    <tr>\n",
       "      <th>min</th>\n",
       "      <td>-11.600000</td>\n",
       "    </tr>\n",
       "    <tr>\n",
       "      <th>25%</th>\n",
       "      <td>-4.321000</td>\n",
       "    </tr>\n",
       "    <tr>\n",
       "      <th>50%</th>\n",
       "      <td>-2.860000</td>\n",
       "    </tr>\n",
       "    <tr>\n",
       "      <th>75%</th>\n",
       "      <td>-1.600000</td>\n",
       "    </tr>\n",
       "    <tr>\n",
       "      <th>max</th>\n",
       "      <td>1.580000</td>\n",
       "    </tr>\n",
       "  </tbody>\n",
       "</table>\n",
       "</div>"
      ],
      "text/plain": [
       "          activity\n",
       "count  1127.000000\n",
       "mean     -3.052010\n",
       "std       2.096392\n",
       "min     -11.600000\n",
       "25%      -4.321000\n",
       "50%      -2.860000\n",
       "75%      -1.600000\n",
       "max       1.580000"
      ]
     },
     "execution_count": 6,
     "metadata": {},
     "output_type": "execute_result"
    }
   ],
   "source": [
    "esol_data.describe()"
   ]
  },
  {
   "cell_type": "code",
   "execution_count": 7,
   "metadata": {},
   "outputs": [
    {
     "name": "stdout",
     "output_type": "stream",
     "text": [
      "<class 'pandas.core.frame.DataFrame'>\n",
      "RangeIndex: 1127 entries, 0 to 1126\n",
      "Data columns (total 3 columns):\n",
      " #   Column       Non-Null Count  Dtype  \n",
      "---  ------       --------------  -----  \n",
      " 0   cano_smiles  1127 non-null   object \n",
      " 1   activity     1127 non-null   float64\n",
      " 2   group        1127 non-null   object \n",
      "dtypes: float64(1), object(2)\n",
      "memory usage: 26.5+ KB\n"
     ]
    }
   ],
   "source": [
    "#Generate data exploration\n",
    "esol_data.info()"
   ]
  },
  {
   "cell_type": "markdown",
   "metadata": {},
   "source": [
    "## Molecule genaration"
   ]
  },
  {
   "cell_type": "code",
   "execution_count": 8,
   "metadata": {},
   "outputs": [],
   "source": [
    "# Create Mol rdkit objects for each smile\n",
    "PandasTools.AddMoleculeColumnToFrame(frame=esol_data, smilesCol='cano_smiles', molCol='Molecule')"
   ]
  },
  {
   "cell_type": "code",
   "execution_count": 9,
   "metadata": {},
   "outputs": [],
   "source": [
    "# Create Mol rdkit objects for each smile (option)\n",
    "#bbbp_data[\"Mol\"] = [Chem.MolFromSmiles(x) for x in bbbp_data[\"cano_smiles\"]]"
   ]
  },
  {
   "cell_type": "markdown",
   "metadata": {},
   "source": [
    "There are a couple of SMILES that could be parsed by RDKit. For wrong SMILES, rdkit would return 'None'."
   ]
  },
  {
   "cell_type": "code",
   "execution_count": 10,
   "metadata": {},
   "outputs": [],
   "source": [
    "#sum(esol_data['Molecule'].map(lambda x: x is None))"
   ]
  },
  {
   "cell_type": "code",
   "execution_count": 11,
   "metadata": {},
   "outputs": [
    {
     "data": {
      "text/html": [
       "<div>\n",
       "<style scoped>\n",
       "    .dataframe tbody tr th:only-of-type {\n",
       "        vertical-align: middle;\n",
       "    }\n",
       "\n",
       "    .dataframe tbody tr th {\n",
       "        vertical-align: top;\n",
       "    }\n",
       "\n",
       "    .dataframe thead th {\n",
       "        text-align: right;\n",
       "    }\n",
       "</style>\n",
       "<table border=\"1\" class=\"dataframe\">\n",
       "  <thead>\n",
       "    <tr style=\"text-align: right;\">\n",
       "      <th></th>\n",
       "      <th>cano_smiles</th>\n",
       "      <th>activity</th>\n",
       "      <th>group</th>\n",
       "      <th>Molecule</th>\n",
       "    </tr>\n",
       "  </thead>\n",
       "  <tbody>\n",
       "    <tr>\n",
       "      <th>0</th>\n",
       "      <td>Cc1occc1C(=O)Nc1ccccc1</td>\n",
       "      <td>-3.3</td>\n",
       "      <td>train</td>\n",
       "      <td><img data-content=\"rdkit/molecule\" src=\"data:image/png;base64,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\" alt=\"Mol\"/></td>\n",
       "    </tr>\n",
       "  </tbody>\n",
       "</table>\n",
       "</div>"
      ],
      "text/plain": [
       "              cano_smiles  activity  group  \\\n",
       "0  Cc1occc1C(=O)Nc1ccccc1      -3.3  train   \n",
       "\n",
       "                                            Molecule  \n",
       "0  <img data-content=\"rdkit/molecule\" src=\"data:i...  "
      ]
     },
     "execution_count": 11,
     "metadata": {},
     "output_type": "execute_result"
    }
   ],
   "source": [
    "esol_data.head(1)"
   ]
  },
  {
   "cell_type": "code",
   "execution_count": 12,
   "metadata": {},
   "outputs": [
    {
     "name": "stdout",
     "output_type": "stream",
     "text": [
      "<class 'pandas.core.frame.DataFrame'>\n",
      "RangeIndex: 1127 entries, 0 to 1126\n",
      "Data columns (total 4 columns):\n",
      " #   Column       Non-Null Count  Dtype  \n",
      "---  ------       --------------  -----  \n",
      " 0   cano_smiles  1127 non-null   object \n",
      " 1   activity     1127 non-null   float64\n",
      " 2   group        1127 non-null   object \n",
      " 3   Molecule     1127 non-null   object \n",
      "dtypes: float64(1), object(3)\n",
      "memory usage: 35.3+ KB\n"
     ]
    }
   ],
   "source": [
    "#Generate data exploration\n",
    "esol_data.info()"
   ]
  },
  {
   "cell_type": "markdown",
   "metadata": {},
   "source": [
    "### Morgan Fingerprint generation\n",
    "A fingerprint is generated for each compound in the \"Molecule\" column with a radius of 2 and a bit length of 2048."
   ]
  },
  {
   "cell_type": "code",
   "execution_count": 13,
   "metadata": {},
   "outputs": [],
   "source": [
    "#create a column for Morgan fingerprints\n",
    "n_Bits = 2048\n",
    "esol_data[\"MorgFP\"] = [AllChem.GetMorganFingerprintAsBitVect(m, 2, nBits = n_Bits, useFeatures=True) for m in esol_data['Molecule']]## Molecule genaration"
   ]
  },
  {
   "cell_type": "code",
   "execution_count": 14,
   "metadata": {},
   "outputs": [
    {
     "data": {
      "text/plain": [
       "0    [1, 1, 1, 0, 1, 0, 1, 0, 0, 0, 0, 0, 0, 0, 0, ...\n",
       "1    [1, 0, 1, 0, 0, 0, 0, 0, 0, 0, 0, 0, 0, 0, 0, ...\n",
       "2    [0, 0, 0, 0, 1, 0, 0, 0, 0, 0, 0, 0, 0, 0, 0, ...\n",
       "3    [0, 0, 0, 0, 1, 0, 1, 0, 0, 0, 0, 0, 0, 0, 0, ...\n",
       "4    [0, 0, 0, 0, 1, 0, 1, 0, 0, 0, 0, 0, 0, 0, 0, ...\n",
       "Name: MorgFP, dtype: object"
      ]
     },
     "execution_count": 14,
     "metadata": {},
     "output_type": "execute_result"
    }
   ],
   "source": [
    "esol_data[\"MorgFP\"].head()"
   ]
  },
  {
   "cell_type": "code",
   "execution_count": 15,
   "metadata": {},
   "outputs": [
    {
     "data": {
      "text/plain": [
       "pandas.core.series.Series"
      ]
     },
     "execution_count": 15,
     "metadata": {},
     "output_type": "execute_result"
    }
   ],
   "source": [
    "type(esol_data[\"MorgFP\"])"
   ]
  },
  {
   "cell_type": "code",
   "execution_count": 16,
   "metadata": {},
   "outputs": [
    {
     "name": "stdout",
     "output_type": "stream",
     "text": [
      "<class 'pandas.core.frame.DataFrame'>\n",
      "RangeIndex: 1127 entries, 0 to 1126\n",
      "Data columns (total 5 columns):\n",
      " #   Column       Non-Null Count  Dtype  \n",
      "---  ------       --------------  -----  \n",
      " 0   cano_smiles  1127 non-null   object \n",
      " 1   activity     1127 non-null   float64\n",
      " 2   group        1127 non-null   object \n",
      " 3   Molecule     1127 non-null   object \n",
      " 4   MorgFP       1127 non-null   object \n",
      "dtypes: float64(1), object(4)\n",
      "memory usage: 44.1+ KB\n"
     ]
    }
   ],
   "source": [
    "esol_data.info()"
   ]
  },
  {
   "cell_type": "markdown",
   "metadata": {},
   "source": [
    "### Splitting and Visualizing the data"
   ]
  },
  {
   "cell_type": "code",
   "execution_count": 17,
   "metadata": {},
   "outputs": [
    {
     "data": {
      "text/html": [
       "<div>\n",
       "<style scoped>\n",
       "    .dataframe tbody tr th:only-of-type {\n",
       "        vertical-align: middle;\n",
       "    }\n",
       "\n",
       "    .dataframe tbody tr th {\n",
       "        vertical-align: top;\n",
       "    }\n",
       "\n",
       "    .dataframe thead th {\n",
       "        text-align: right;\n",
       "    }\n",
       "</style>\n",
       "<table border=\"1\" class=\"dataframe\">\n",
       "  <thead>\n",
       "    <tr style=\"text-align: right;\">\n",
       "      <th></th>\n",
       "      <th>cano_smiles</th>\n",
       "      <th>activity</th>\n",
       "      <th>group</th>\n",
       "      <th>Molecule</th>\n",
       "      <th>MorgFP</th>\n",
       "    </tr>\n",
       "  </thead>\n",
       "  <tbody>\n",
       "  </tbody>\n",
       "</table>\n",
       "</div>"
      ],
      "text/plain": [
       "Empty DataFrame\n",
       "Columns: [cano_smiles, activity, group, Molecule, MorgFP]\n",
       "Index: []"
      ]
     },
     "execution_count": 17,
     "metadata": {},
     "output_type": "execute_result"
    }
   ],
   "source": [
    "#Finds Null data in any row if any\n",
    "sample_incomplete_rows = esol_data[esol_data.isnull().any(axis=1)]\n",
    "sample_incomplete_rows.head(len(sample_incomplete_rows))"
   ]
  },
  {
   "cell_type": "code",
   "execution_count": 18,
   "metadata": {},
   "outputs": [
    {
     "data": {
      "text/plain": [
       "1116"
      ]
     },
     "execution_count": 18,
     "metadata": {},
     "output_type": "execute_result"
    }
   ],
   "source": [
    "#Returns number of unique values in the specifed column to make sure that no duplications there\n",
    "esol_data['cano_smiles'].nunique()"
   ]
  },
  {
   "cell_type": "code",
   "execution_count": 19,
   "metadata": {},
   "outputs": [
    {
     "data": {
      "text/plain": [
       "1127"
      ]
     },
     "execution_count": 19,
     "metadata": {},
     "output_type": "execute_result"
    }
   ],
   "source": [
    "#Returns number of total rows\n",
    "esol_data['cano_smiles'].count()"
   ]
  },
  {
   "cell_type": "code",
   "execution_count": 20,
   "metadata": {},
   "outputs": [],
   "source": [
    "#Drops the duplicated ones\n",
    "esol_data = esol_data.drop_duplicates(['cano_smiles'])"
   ]
  },
  {
   "cell_type": "code",
   "execution_count": 21,
   "metadata": {},
   "outputs": [
    {
     "name": "stdout",
     "output_type": "stream",
     "text": [
      "<class 'pandas.core.frame.DataFrame'>\n",
      "Int64Index: 1116 entries, 0 to 1126\n",
      "Data columns (total 5 columns):\n",
      " #   Column       Non-Null Count  Dtype  \n",
      "---  ------       --------------  -----  \n",
      " 0   cano_smiles  1116 non-null   object \n",
      " 1   activity     1116 non-null   float64\n",
      " 2   group        1116 non-null   object \n",
      " 3   Molecule     1116 non-null   object \n",
      " 4   MorgFP       1116 non-null   object \n",
      "dtypes: float64(1), object(4)\n",
      "memory usage: 52.3+ KB\n"
     ]
    }
   ],
   "source": [
    "esol_data.info()"
   ]
  },
  {
   "cell_type": "code",
   "execution_count": 22,
   "metadata": {},
   "outputs": [
    {
     "data": {
      "text/plain": [
       "893"
      ]
     },
     "execution_count": 22,
     "metadata": {},
     "output_type": "execute_result"
    }
   ],
   "source": [
    "#Returns the training set\n",
    "train = esol_data[esol_data[\"group\"]==\"train\"]\n",
    "len(train)"
   ]
  },
  {
   "cell_type": "code",
   "execution_count": 23,
   "metadata": {},
   "outputs": [
    {
     "data": {
      "text/plain": [
       "112"
      ]
     },
     "execution_count": 23,
     "metadata": {},
     "output_type": "execute_result"
    }
   ],
   "source": [
    "#Returns the test set\n",
    "test = esol_data[esol_data[\"group\"]==\"test\"]\n",
    "len(test)"
   ]
  },
  {
   "cell_type": "code",
   "execution_count": 24,
   "metadata": {},
   "outputs": [
    {
     "data": {
      "text/plain": [
       "111"
      ]
     },
     "execution_count": 24,
     "metadata": {},
     "output_type": "execute_result"
    }
   ],
   "source": [
    "#Returns the valid set\n",
    "valid = esol_data[esol_data[\"group\"]==\"valid\"]\n",
    "len(valid)"
   ]
  },
  {
   "cell_type": "code",
   "execution_count": 25,
   "metadata": {},
   "outputs": [],
   "source": [
    "# Specifing the columns for dependent and independent variables (Training dataset)\n",
    "X_train = train[\"MorgFP\"].values\n",
    "y_train = train[\"activity\"].values"
   ]
  },
  {
   "cell_type": "code",
   "execution_count": 26,
   "metadata": {},
   "outputs": [],
   "source": [
    "# Specifing the columns for dependent and independent variables (Test dataset)\n",
    "X_test = test[\"MorgFP\"].values\n",
    "y_test = test[\"activity\"].values"
   ]
  },
  {
   "cell_type": "code",
   "execution_count": 27,
   "metadata": {},
   "outputs": [],
   "source": [
    "# Specifing the columns for dependent and independent variables (Validation dataset)\n",
    "X_valid = valid[\"MorgFP\"].values\n",
    "y_valid = valid[\"activity\"].values"
   ]
  },
  {
   "cell_type": "markdown",
   "metadata": {},
   "source": [
    "**Convert the RDKit explicit vectors into numpy arrays**"
   ]
  },
  {
   "cell_type": "code",
   "execution_count": 28,
   "metadata": {},
   "outputs": [],
   "source": [
    "def convert_to_Numpy(column):\n",
    "    col_np = []\n",
    "    for fp in column:\n",
    "        arr = np.zeros((1,))\n",
    "        DataStructs.ConvertToNumpyArray(fp, arr)\n",
    "        col_np.append(arr)\n",
    "    return col_np"
   ]
  },
  {
   "cell_type": "code",
   "execution_count": 29,
   "metadata": {},
   "outputs": [],
   "source": [
    "X_train = convert_to_Numpy(X_train)\n",
    "X_test = convert_to_Numpy(X_test)\n",
    "X_valid = convert_to_Numpy(X_valid)"
   ]
  },
  {
   "cell_type": "code",
   "execution_count": 30,
   "metadata": {},
   "outputs": [],
   "source": [
    "X_train = np.array(X_train)\n",
    "X_test = np.array(X_test)\n",
    "X_valid = np.array(X_valid)"
   ]
  },
  {
   "cell_type": "code",
   "execution_count": 31,
   "metadata": {},
   "outputs": [
    {
     "name": "stdout",
     "output_type": "stream",
     "text": [
      "<class 'numpy.ndarray'>\n",
      "<class 'numpy.ndarray'>\n",
      "<class 'numpy.ndarray'>\n",
      "<class 'numpy.ndarray'>\n",
      "<class 'numpy.ndarray'>\n",
      "<class 'numpy.ndarray'>\n"
     ]
    }
   ],
   "source": [
    "print(type(X_train))\n",
    "print(type(y_train))\n",
    "print(type(X_test))\n",
    "print(type(y_test))\n",
    "print(type(X_valid))\n",
    "print(type(y_valid))"
   ]
  },
  {
   "cell_type": "code",
   "execution_count": 32,
   "metadata": {},
   "outputs": [
    {
     "data": {
      "text/plain": [
       "array([[1., 1., 1., ..., 0., 0., 0.],\n",
       "       [1., 0., 1., ..., 0., 0., 0.],\n",
       "       [0., 0., 0., ..., 0., 0., 0.],\n",
       "       ...,\n",
       "       [1., 0., 1., ..., 0., 0., 0.],\n",
       "       [1., 0., 0., ..., 0., 0., 0.],\n",
       "       [1., 0., 1., ..., 0., 0., 0.]])"
      ]
     },
     "execution_count": 32,
     "metadata": {},
     "output_type": "execute_result"
    }
   ],
   "source": [
    "X_train"
   ]
  },
  {
   "cell_type": "code",
   "execution_count": 33,
   "metadata": {},
   "outputs": [
    {
     "data": {
      "text/plain": [
       "array([-3.300e+00, -2.060e+00, -7.870e+00, -1.330e+00, -1.500e+00,\n",
       "       -7.320e+00, -5.030e+00, -6.290e+00, -4.420e+00,  1.070e+00,\n",
       "       -2.640e+00, -4.700e-01, -1.000e+00, -3.640e+00, -7.430e+00,\n",
       "       -4.594e+00, -4.110e+00, -2.350e+00, -5.470e+00, -1.810e+00,\n",
       "       -1.390e+00, -1.661e+00, -6.900e+00, -3.750e+00, -4.805e+00,\n",
       "       -1.640e+00, -5.220e+00, -8.500e-01, -3.504e+00, -3.927e+00,\n",
       "       -4.810e+00, -4.880e+00, -1.655e+00, -2.530e+00, -6.300e-01,\n",
       "       -1.550e+00, -3.083e+00, -3.660e+00, -2.170e+00, -8.057e+00,\n",
       "       -2.523e+00, -8.600e+00, -6.200e-01, -5.050e+00, -4.140e+00,\n",
       "       -6.570e+00, -1.900e-01, -9.150e+00, -8.200e-01, -3.680e+00,\n",
       "       -2.810e+00, -6.670e-01, -2.680e+00, -3.380e+00, -5.460e+00,\n",
       "       -1.960e+00, -2.369e+00, -2.250e+00, -1.920e+00, -5.886e+00,\n",
       "       -6.010e+00, -1.730e+00, -3.493e+00, -1.995e+00, -4.660e-01,\n",
       "        3.200e-01, -2.770e+00, -6.876e+00, -8.000e-01, -2.350e+00,\n",
       "       -3.480e+00, -6.000e+00, -1.340e+00, -4.070e+00, -5.640e+00,\n",
       "       -7.250e+00, -1.600e+00, -3.270e+00, -3.450e+00,  3.900e-01,\n",
       "       -4.170e+00,  5.800e-01, -1.740e+00, -1.506e+00, -4.700e+00,\n",
       "       -3.180e+00, -5.170e+00, -2.523e+00, -1.450e+00, -4.432e+00,\n",
       "       -5.210e+00, -4.540e+00, -3.030e+00, -4.800e+00, -5.650e+00,\n",
       "       -1.010e+00, -5.510e+00, -7.337e+00,  7.600e-01, -4.430e+00,\n",
       "        3.600e-01, -3.430e+00, -2.090e+00, -8.200e-01, -4.260e+00,\n",
       "       -3.040e+00, -2.410e+00, -1.886e+00, -3.550e+00, -4.350e+00,\n",
       "       -2.540e+00, -1.960e+00, -1.920e+00, -2.820e+00, -1.947e+00,\n",
       "        1.570e+00, -2.468e+00,  5.200e-01, -1.950e+00,  8.100e-01,\n",
       "       -1.240e+00, -2.730e+00, -1.870e+00, -7.200e-01, -1.990e+00,\n",
       "       -2.000e-02, -6.620e+00, -3.080e+00, -2.253e+00, -6.010e+00,\n",
       "       -1.300e+00, -3.082e+00, -3.043e+00, -2.460e+00, -6.523e+00,\n",
       "       -2.200e-01, -6.124e+00, -1.807e+00, -4.650e+00, -1.000e+00,\n",
       "       -1.130e+00, -6.301e+00, -1.060e+00, -2.390e+00, -2.580e+00,\n",
       "       -3.680e+00, -8.600e+00, -2.925e+00, -9.200e-02, -5.752e+00,\n",
       "       -5.660e+00,  1.100e+00, -4.630e+00, -7.320e+00, -7.200e-01,\n",
       "       -3.800e+00, -1.601e+00, -2.050e+00, -1.960e+00, -2.280e+00,\n",
       "       -5.696e+00, -2.360e+00, -3.520e+00, -1.100e+00, -3.094e+00,\n",
       "        1.340e+00, -4.100e-01, -4.862e+00,  5.700e-01, -2.296e+00,\n",
       "       -2.160e+00, -1.800e+00, -1.470e+00, -4.000e-02, -4.360e+00,\n",
       "       -4.000e+00, -1.640e+00, -3.896e+00, -6.560e+00,  3.800e-01,\n",
       "       -2.060e+00, -3.571e+00, -8.804e+00, -2.820e+00, -4.400e+00,\n",
       "       -1.139e+00, -3.190e+00, -3.658e+00, -2.030e+00, -1.990e+00,\n",
       "       -4.570e+00, -4.400e-01, -1.160e+00, -4.160e+00,  6.000e-02,\n",
       "       -4.620e+00, -3.850e+00, -1.770e+00, -1.300e+00, -7.200e-01,\n",
       "       -7.000e-01, -6.000e-01, -2.168e+00, -4.046e+00, -3.300e+00,\n",
       "       -3.785e+00, -2.616e+00, -3.590e+00, -4.090e+00,  6.200e-01,\n",
       "       -2.620e+00, -4.500e-01, -2.230e+00,  8.500e-01, -5.350e+00,\n",
       "       -1.220e+00, -3.600e+00, -4.097e+00, -7.020e+00, -6.340e+00,\n",
       "       -6.890e+00, -7.280e+00, -4.678e+00, -2.890e+00, -3.370e+00,\n",
       "       -6.980e+00, -2.780e+00, -2.016e+00, -4.550e+00, -6.000e-01,\n",
       "       -1.480e+00, -1.820e+00, -2.330e+00, -2.766e+00, -3.210e+00,\n",
       "       -4.000e+00, -2.400e+00, -4.620e+00, -1.740e+00, -5.153e+00,\n",
       "       -5.840e+00, -4.400e+00, -4.020e+00,  5.230e-01, -5.282e+00,\n",
       "       -2.410e+00, -3.120e+00, -4.100e-01, -3.324e+00, -1.340e+00,\n",
       "       -6.490e+00, -4.640e+00, -4.194e+00, -4.000e+00, -2.310e+00,\n",
       "       -3.200e+00, -1.290e+00, -3.999e+00, -2.170e+00, -2.680e+00,\n",
       "       -3.130e+00, -7.000e+00, -1.488e+00, -2.120e+00, -7.210e+00,\n",
       "       -2.596e+00, -8.230e+00, -3.150e+00, -2.322e+00, -3.536e+00,\n",
       "       -1.716e+00, -3.220e+00, -4.200e+00, -3.510e+00, -3.760e+00,\n",
       "       -1.370e+00, -4.260e+00, -4.600e+00, -3.420e+00, -3.430e+00,\n",
       "       -3.110e+00,  7.400e-01, -6.800e-01, -3.586e+00, -6.005e+00,\n",
       "       -3.390e+00, -2.696e+00, -4.100e+00, -1.600e+00, -6.600e-01,\n",
       "        4.300e-01, -3.770e+00, -1.900e+00, -3.370e+00, -2.390e+00,\n",
       "        3.200e-01, -3.924e+00, -6.570e+00, -1.870e+00, -1.780e+00,\n",
       "       -2.590e+00, -3.090e+00,  1.100e+00, -2.920e+00, -1.400e-01,\n",
       "       -2.550e+00, -1.877e+00, -1.800e+00, -3.010e+00, -3.780e+00,\n",
       "       -9.850e-01, -1.300e+00, -1.920e+00, -2.404e+00, -2.350e+00,\n",
       "       -1.840e+00, -5.470e+00, -2.478e+00, -4.440e+00, -1.210e+00,\n",
       "       -1.803e+00, -8.000e-01, -4.730e+00, -6.960e+00, -3.200e+00,\n",
       "       -2.360e+00, -2.740e+00, -3.350e+00, -8.300e-01, -3.330e+00,\n",
       "       -6.390e+00, -4.873e+00, -2.540e+00, -8.900e-01, -4.630e+00,\n",
       "       -9.500e-01, -3.483e+00, -3.592e+00, -8.800e-01, -2.154e+00,\n",
       "       -3.360e+00, -2.360e+00, -7.400e-01, -6.307e+00,  4.900e-01,\n",
       "       -1.960e+00, -7.280e+00, -3.810e+00, -3.000e+00, -4.420e+00,\n",
       "       -5.400e+00, -4.500e+00, -2.356e+00, -1.770e+00, -3.083e+00,\n",
       "       -5.259e+00, -4.860e+00, -3.100e+00, -7.278e+00, -2.860e+00,\n",
       "       -5.240e+00, -2.390e+00, -1.340e+00, -1.060e+00, -2.510e+00,\n",
       "       -1.320e+00, -2.370e+00, -2.440e-01, -2.860e+00, -2.380e+00,\n",
       "       -5.050e+00, -4.560e+00, -1.600e+00, -4.571e+00, -7.200e+00,\n",
       "       -5.184e+00, -3.930e+00, -4.749e+00, -8.900e-01, -4.740e+00,\n",
       "       -4.735e+00, -1.250e+00, -8.017e+00, -1.160e+00, -6.000e-01,\n",
       "       -2.000e+00, -4.150e+00, -3.540e+00, -7.800e-01, -2.800e+00,\n",
       "       -1.800e-01, -2.550e+00, -4.690e+00, -4.310e+00, -1.600e+00,\n",
       "       -1.950e+00, -3.810e+00, -2.190e+00, -8.003e+00,  5.220e-01,\n",
       "       -1.910e+00, -2.200e-01, -5.233e+00, -2.840e+00, -1.090e+00,\n",
       "       -1.590e+00, -4.740e+00, -2.890e+00, -3.796e+00, -1.940e+00,\n",
       "       -4.220e+00, -5.666e+00, -4.630e+00, -4.070e+00, -3.480e+00,\n",
       "       -8.500e-01, -1.240e+00, -1.110e+00, -1.600e+00, -3.270e+00,\n",
       "       -4.470e+00, -1.981e+00, -2.420e+00, -1.110e+00, -1.570e+00,\n",
       "       -2.150e+00,  2.600e-01, -3.590e+00, -2.180e+00,  0.000e+00,\n",
       "       -4.110e+00, -4.480e+00, -1.000e-01, -5.100e-01, -1.630e+00,\n",
       "       -2.330e+00, -1.190e+00, -4.710e+00, -3.672e+00, -5.000e+00,\n",
       "       -3.850e+00, -1.990e+00, -1.827e+00,  1.100e-01, -3.090e+00,\n",
       "       -8.500e-01, -2.290e+00, -3.040e+00,  6.200e-01, -2.850e+00,\n",
       "       -1.190e+00, -6.240e-01, -6.570e+00, -4.920e+00, -4.000e+00,\n",
       "       -7.100e-01, -1.200e-01, -2.960e+00, -4.081e+00, -2.510e+00,\n",
       "       -6.144e+00, -7.800e+00, -3.893e+00, -1.930e+00, -1.660e+00,\n",
       "       -3.390e+00, -5.560e+00, -3.730e+00, -3.028e+00, -1.520e+00,\n",
       "       -2.780e+00, -3.530e+00, -1.370e+00, -3.180e+00, -1.540e+00,\n",
       "       -3.480e+00, -7.110e+00, -7.900e-01, -3.800e+00, -4.290e+00,\n",
       "       -1.458e+00, -7.920e+00, -3.685e+00, -2.700e+00, -1.550e+00,\n",
       "       -6.291e+00, -4.160e+00, -2.640e+00, -2.210e+00, -2.920e+00,\n",
       "       -2.930e+00, -2.730e+00,  1.020e+00, -1.360e+00, -3.050e+00,\n",
       "       -3.180e+00, -1.160e+01,  1.580e+00, -3.700e+00, -1.360e+00,\n",
       "       -3.030e+00, -5.260e+00,  3.800e-01, -1.170e+00, -3.590e+00,\n",
       "       -3.680e+00, -2.220e+00, -2.190e+00, -4.445e+00, -6.200e+00,\n",
       "       -3.955e+00, -4.706e+00, -1.460e+00, -2.670e+00, -4.100e-01,\n",
       "       -4.679e+00, -3.960e+00, -1.280e+00, -8.699e+00, -1.990e+00,\n",
       "       -2.730e+00, -4.370e+00, -2.900e+00, -5.600e+00, -5.720e+00,\n",
       "       -2.436e+00, -1.708e+00, -6.176e+00, -4.300e-01, -2.338e+00,\n",
       "       -5.820e+00, -4.047e+00, -1.300e+00, -1.240e+00, -2.831e+00,\n",
       "       -7.920e+00, -1.250e+00, -1.620e+00, -2.670e+00, -3.630e+00,\n",
       "       -3.650e+00, -1.940e+00, -7.680e+00, -3.040e+00, -6.510e+00,\n",
       "       -1.960e+00, -9.018e+00,  1.120e+00, -1.960e+00, -5.890e+00,\n",
       "       -9.900e-01, -4.550e+00,  1.110e+00, -2.676e+00, -4.000e-01,\n",
       "       -5.000e-01, -1.614e+00, -1.850e+00, -4.530e+00, -3.850e+00,\n",
       "       -4.160e+00, -2.290e+00, -5.540e+00, -4.210e+00, -1.660e+00,\n",
       "       -1.520e+00, -8.200e-01, -2.928e+00, -3.171e+00, -3.660e+00,\n",
       "       -3.270e+00, -4.370e+00, -3.900e-01, -5.500e-01, -2.550e+00,\n",
       "       -5.071e+00, -9.332e+00, -2.266e+00, -1.750e+00, -2.980e+00,\n",
       "       -3.140e+00, -4.871e+00, -1.850e+00, -8.070e-01, -3.730e+00,\n",
       "       -6.470e+00, -3.290e+00, -2.100e+00, -1.990e+00, -5.880e+00,\n",
       "       -1.060e+00, -6.590e+00, -2.330e+00, -3.000e+00, -2.484e+00,\n",
       "       -2.617e+00, -5.080e+00, -8.176e+00, -2.300e+00, -2.320e+00,\n",
       "       -4.020e+00, -4.530e+00, -2.220e+00, -7.850e+00, -1.450e+00,\n",
       "       -5.140e+00, -2.932e+00, -2.680e+00, -2.560e+00, -3.310e+00,\n",
       "       -2.780e+00, -5.240e+00, -6.350e+00,  7.000e-02,  5.800e-01,\n",
       "       -4.150e+00, -2.077e+00, -1.170e+00, -5.915e+00, -3.270e+00,\n",
       "       -2.130e+00, -3.021e+00, -8.000e+00, -1.520e+00, -1.620e+00,\n",
       "       -2.640e+00,  9.600e-01, -1.640e+00, -3.540e+00, -8.400e+00,\n",
       "       -1.330e+00,  9.000e-03, -5.460e+00, -1.520e+00, -1.280e+00,\n",
       "       -5.400e+00,  4.300e-01, -1.850e+00, -9.100e-01, -5.640e+00,\n",
       "       -6.200e-01, -5.270e+00,  3.000e-01, -4.280e+00, -4.160e+00,\n",
       "       -4.634e+00, -3.680e+00, -3.010e+00, -7.920e+00, -2.000e+00,\n",
       "       -4.300e+00, -2.580e+00, -8.600e+00, -3.080e+00, -3.820e+00,\n",
       "       -1.260e+00, -6.080e+00, -7.420e+00, -2.148e+00, -2.000e+00,\n",
       "       -2.570e+00, -8.500e-01, -9.000e-02, -4.376e+00, -5.530e+00,\n",
       "       -2.050e+00, -4.030e+00, -2.564e+00, -2.480e+00,  4.800e-01,\n",
       "       -2.800e+00,  4.700e-01, -1.700e-01, -4.955e+00, -8.040e+00,\n",
       "       -4.000e-01, -2.590e+00, -8.300e-01, -7.010e+00, -4.710e+00,\n",
       "       -3.930e+00, -3.100e+00, -3.040e+00, -7.150e+00, -1.010e+00,\n",
       "       -2.390e+00, -3.840e+00, -4.600e-01, -3.590e+00, -7.820e+00,\n",
       "       -4.925e+00, -3.150e+00, -4.950e+00, -6.960e+00,  5.100e-01,\n",
       "       -4.345e+00, -8.710e+00, -3.364e+00, -9.200e-01,  6.400e-01,\n",
       "       -4.370e+00, -2.843e+00, -8.940e+00, -3.550e+00, -2.090e+00,\n",
       "       -4.880e+00, -3.210e+00, -1.228e+00, -7.000e-01, -4.080e+00,\n",
       "       -6.780e+00, -4.430e+00, -1.110e+00, -1.080e+00, -2.770e+00,\n",
       "       -2.253e+00, -2.647e+00, -6.025e+00, -6.600e-01, -3.900e+00,\n",
       "       -4.720e+00, -6.250e+00, -7.390e+00, -3.100e-01, -2.000e+00,\n",
       "       -1.490e+00, -2.692e+00, -2.740e+00, -1.030e+00, -2.160e+00,\n",
       "       -4.310e+00,  4.600e-01, -4.743e+00, -5.900e-01, -3.931e+00,\n",
       "       -1.850e+00, -3.360e+00, -4.900e-01, -9.720e-01, -3.840e+00,\n",
       "       -1.720e+00, -5.230e+00, -2.220e+00,  2.000e-02, -4.660e+00,\n",
       "       -3.540e+00, -6.700e-01, -3.401e+00, -4.445e+00, -2.680e+00,\n",
       "       -1.520e+00, -3.690e+00, -3.790e+00, -4.250e+00, -2.580e+00,\n",
       "       -3.880e+00, -3.380e+00, -4.114e+00, -3.224e+00,  2.900e-01,\n",
       "        3.800e-01, -2.518e+00, -9.200e-01, -2.460e+00, -4.230e+00,\n",
       "       -5.284e+00, -6.140e+00, -6.020e+00, -4.460e+00, -3.240e+00,\n",
       "       -3.400e+00, -5.115e+00, -6.350e+00, -7.390e+00, -1.742e+00,\n",
       "       -2.090e+00, -3.100e+00, -8.400e+00, -2.070e+00, -2.050e+00,\n",
       "       -1.970e+00, -5.680e+00,  1.100e+00, -2.349e+00, -1.830e+00,\n",
       "       -5.240e+00, -2.218e+00, -5.060e+00, -4.883e+00, -3.640e-01,\n",
       "       -2.490e+00, -1.140e+00, -4.570e+00, -4.930e+00, -2.878e+00,\n",
       "        1.500e-01, -7.300e-01, -1.920e+00, -5.190e+00, -7.800e+00,\n",
       "       -2.540e+00,  1.500e-01, -5.613e+00, -1.680e+00, -2.863e+00,\n",
       "       -3.220e+00, -2.460e+00, -6.090e+00, -5.030e+00, -4.890e+00,\n",
       "       -4.450e+00, -3.770e+00, -1.790e+00,  7.900e-01,  3.500e-01,\n",
       "       -1.700e-01, -2.111e+00, -8.500e-01, -5.410e+00, -5.160e+00,\n",
       "       -4.799e+00, -1.300e+00, -2.593e+00, -2.943e+00, -8.760e-01,\n",
       "       -1.380e+00, -3.960e+00, -8.560e+00,  6.100e-01, -2.120e+00,\n",
       "       -2.581e+00, -6.860e+00, -9.600e-01, -7.420e-01, -1.470e+00,\n",
       "       -4.554e+00, -1.340e+00, -5.850e+00, -4.286e+00, -2.210e+00,\n",
       "       -3.760e+00, -3.180e+00, -3.246e+00, -3.630e+00,  1.144e+00,\n",
       "       -3.150e+00, -4.900e+00, -2.570e+00, -4.099e+00, -2.350e+00,\n",
       "        1.000e-01, -2.340e+00, -1.400e+00, -3.370e+00, -3.370e+00,\n",
       "       -2.740e+00, -4.800e+00, -3.350e+00, -1.060e+00, -3.460e+00,\n",
       "       -2.540e+00, -1.620e+00, -2.982e+00, -4.240e+00, -3.620e+00,\n",
       "       -3.120e+00, -8.172e+00, -2.920e+00, -1.170e+00, -1.300e+00,\n",
       "       -8.000e-01, -4.000e-01, -3.610e+00, -2.461e+00, -1.080e+00,\n",
       "       -3.953e+00, -4.632e+00, -5.190e+00, -2.090e+00, -2.281e+00,\n",
       "       -4.060e+00, -4.000e-01, -6.237e+00, -3.451e+00, -1.210e+00,\n",
       "       -4.360e+00, -7.660e+00, -2.380e+00, -1.710e+00,  1.060e-01,\n",
       "       -3.091e+00, -3.180e+00, -4.522e+00])"
      ]
     },
     "execution_count": 33,
     "metadata": {},
     "output_type": "execute_result"
    }
   ],
   "source": [
    "y_train"
   ]
  },
  {
   "cell_type": "code",
   "execution_count": 34,
   "metadata": {},
   "outputs": [
    {
     "data": {
      "text/plain": [
       "array([[1., 0., 0., ..., 0., 0., 0.],\n",
       "       [1., 0., 0., ..., 0., 0., 0.],\n",
       "       [1., 1., 1., ..., 1., 0., 0.],\n",
       "       ...,\n",
       "       [1., 0., 0., ..., 0., 0., 0.],\n",
       "       [1., 0., 1., ..., 0., 0., 0.],\n",
       "       [1., 1., 1., ..., 0., 0., 0.]])"
      ]
     },
     "execution_count": 34,
     "metadata": {},
     "output_type": "execute_result"
    }
   ],
   "source": [
    "X_test"
   ]
  },
  {
   "cell_type": "code",
   "execution_count": 35,
   "metadata": {},
   "outputs": [
    {
     "data": {
      "text/plain": [
       "array([-2.03 , -1.29 , -5.36 , -4.8  , -0.24 , -4.328, -2.42 , -4.04 ,\n",
       "       -7.96 ,  1.02 , -2.09 , -2.82 ,  0.7  , -5.84 , -0.01 , -4.59 ,\n",
       "       -5.839, -4.38 , -2.63 , -3.38 , -1.899, -3.23 , -2.337, -0.98 ,\n",
       "       -3.11 , -2.23 , -4.15 , -1.09 , -1.98 , -2.7  , -0.4  , -4.28 ,\n",
       "       -0.74 , -8.402, -3.583, -5.931, -1.077, -6.317, -3.38 , -6.726,\n",
       "       -3.796, -4.77 , -0.59 , -5.19 , -0.24 , -3.03 , -0.36 , -1.04 ,\n",
       "       -5.27 , -2.35 , -1.89 , -1.7  , -3.168, -1.75 , -2.6  , -2.43 ,\n",
       "       -1.8  , -2.28 , -4.76 , -0.12 , -3.67 , -0.7  , -2.44 , -2.55 ,\n",
       "       -5.67 , -2.273, -1.155, -2.82 , -0.62 , -0.29 , -3.239, -4.19 ,\n",
       "       -1.29 , -1.23 ,  0.54 ,  0.26 , -3.14 ,  0.28 , -4.38 , -1.04 ,\n",
       "       -0.854, -3.17 , -3.46 , -2.24 , -4.8  , -2.37 , -0.77 , -2.676,\n",
       "       -2.68 , -3.408, -4.13 , -0.15 , -5.16 , -3.19 , -3.4  ,  0.45 ,\n",
       "       -3.5  , -4.43 ,  0.15 , -2.21 , -4.19 , -2.73 , -3.59 , -4.14 ,\n",
       "       -1.989, -1.41 , -3.61 , -0.96 , -1.34 , -3.3  , -1.44 , -2.39 ])"
      ]
     },
     "execution_count": 35,
     "metadata": {},
     "output_type": "execute_result"
    }
   ],
   "source": [
    "y_test"
   ]
  },
  {
   "cell_type": "code",
   "execution_count": 36,
   "metadata": {},
   "outputs": [
    {
     "data": {
      "text/plain": [
       "array([[1., 0., 0., ..., 0., 0., 0.],\n",
       "       [1., 0., 1., ..., 0., 0., 0.],\n",
       "       [1., 0., 1., ..., 0., 0., 0.],\n",
       "       ...,\n",
       "       [1., 0., 0., ..., 0., 0., 0.],\n",
       "       [1., 0., 1., ..., 0., 0., 0.],\n",
       "       [1., 0., 1., ..., 0., 0., 0.]])"
      ]
     },
     "execution_count": 36,
     "metadata": {},
     "output_type": "execute_result"
    }
   ],
   "source": [
    "X_valid"
   ]
  },
  {
   "cell_type": "code",
   "execution_count": 37,
   "metadata": {},
   "outputs": [
    {
     "data": {
      "text/plain": [
       "array([-4.64 , -0.49 , -4.314, -0.7  , -4.755, -1.94 , -3.928, -1.28 ,\n",
       "       -8.334, -2.7  , -2.42 , -0.22 , -2.084, -3.81 , -3.24 , -4.06 ,\n",
       "       -3.39 , -9.16 ,  0.   , -4.23 , -8.01 , -3.8  , -5.27 , -4.47 ,\n",
       "        0.651, -3.499, -0.63 , -4.29 , -1.4  , -4.7  , -3.67 , -2.67 ,\n",
       "       -4.12 , -6.637, -1.64 , -3.127,  0.715, -1.74 , -1.6  , -0.8  ,\n",
       "       -4.57 , -2.06 , -4.207, -2.11 , -3.604, -2.56 , -0.85 , -3.01 ,\n",
       "       -3.19 , -3.05 ,  0.94 , -3.26 , -0.6  ,  0.32 , -3.06 , -5.382,\n",
       "       -3.538, -6.68 , -8.49 , -0.8  , -4.24 , -2.24 , -4.69 , -2.08 ,\n",
       "       -2.32 , -3.638, -4.173, -7.321, -2.61 , -2.77 , -2.452, -5.736,\n",
       "       -3.952, -4.411, -4.907, -4.89 , -3.664, -3.28 , -0.03 , -3.74 ,\n",
       "       -0.29 , -3.9  , -3.   , -5.43 , -6.8  , -4.12 , -5.507, -3.754,\n",
       "       -5.37 , -0.28 , -0.77 , -4.576, -4.21 , -2.4  , -2.34 , -1.456,\n",
       "       -2.34 , -2.18 , -5.28 , -2.94 , -4.88 , -6.29 , -3.817, -4.3  ,\n",
       "       -5.21 , -3.57 , -4.1  , -5.293, -0.36 , -0.42 , -1.56 ])"
      ]
     },
     "execution_count": 37,
     "metadata": {},
     "output_type": "execute_result"
    }
   ],
   "source": [
    "y_valid"
   ]
  },
  {
   "cell_type": "markdown",
   "metadata": {},
   "source": [
    "## Feature Scaling"
   ]
  },
  {
   "cell_type": "code",
   "execution_count": 38,
   "metadata": {},
   "outputs": [],
   "source": [
    "from sklearn.preprocessing import StandardScaler\n",
    "\n",
    "sc = StandardScaler()\n",
    "X_train = sc.fit_transform(X_train)\n",
    "X_valid = sc.transform(X_valid)\n",
    "X_test = sc.transform(X_test)"
   ]
  },
  {
   "cell_type": "markdown",
   "metadata": {},
   "source": [
    "## XGboost Regressor"
   ]
  },
  {
   "cell_type": "code",
   "execution_count": 39,
   "metadata": {},
   "outputs": [],
   "source": [
    "from xgboost import XGBRegressor\n",
    "\n",
    "xgb = XGBRegressor(random_state=42)\n",
    "model = xgb.fit(X_train, y_train)\n"
   ]
  },
  {
   "cell_type": "code",
   "execution_count": 40,
   "metadata": {},
   "outputs": [
    {
     "data": {
      "text/plain": [
       "{'objective': 'reg:squarederror',\n",
       " 'base_score': 0.5,\n",
       " 'booster': 'gbtree',\n",
       " 'colsample_bylevel': 1,\n",
       " 'colsample_bynode': 1,\n",
       " 'colsample_bytree': 1,\n",
       " 'gamma': 0,\n",
       " 'gpu_id': -1,\n",
       " 'importance_type': 'gain',\n",
       " 'interaction_constraints': '',\n",
       " 'learning_rate': 0.300000012,\n",
       " 'max_delta_step': 0,\n",
       " 'max_depth': 6,\n",
       " 'min_child_weight': 1,\n",
       " 'missing': nan,\n",
       " 'monotone_constraints': '()',\n",
       " 'n_estimators': 100,\n",
       " 'n_jobs': 1,\n",
       " 'num_parallel_tree': 1,\n",
       " 'random_state': 42,\n",
       " 'reg_alpha': 0,\n",
       " 'reg_lambda': 1,\n",
       " 'scale_pos_weight': 1,\n",
       " 'subsample': 1,\n",
       " 'tree_method': 'exact',\n",
       " 'validate_parameters': 1,\n",
       " 'verbosity': None}"
      ]
     },
     "execution_count": 40,
     "metadata": {},
     "output_type": "execute_result"
    }
   ],
   "source": [
    "model.get_params()"
   ]
  },
  {
   "cell_type": "markdown",
   "metadata": {},
   "source": [
    "### Training dataset"
   ]
  },
  {
   "cell_type": "code",
   "execution_count": 41,
   "metadata": {},
   "outputs": [
    {
     "data": {
      "text/plain": [
       "0.5625530769683471"
      ]
     },
     "execution_count": 41,
     "metadata": {},
     "output_type": "execute_result"
    }
   ],
   "source": [
    "from sklearn.metrics import mean_squared_error\n",
    "\n",
    "y_train_pred = model.predict(X_train)\n",
    "xgb_mse = mean_squared_error(y_train, y_train_pred)\n",
    "xgb_rmse = np.sqrt(xgb_mse)\n",
    "xgb_rmse"
   ]
  },
  {
   "cell_type": "markdown",
   "metadata": {},
   "source": [
    "### Validation dataset"
   ]
  },
  {
   "cell_type": "code",
   "execution_count": 42,
   "metadata": {},
   "outputs": [
    {
     "data": {
      "text/plain": [
       "1.0690838508787042"
      ]
     },
     "execution_count": 42,
     "metadata": {},
     "output_type": "execute_result"
    }
   ],
   "source": [
    "y_valid_pred = model.predict(X_valid)\n",
    "xgb_mse = mean_squared_error(y_valid, y_valid_pred)\n",
    "xgb_rmse = np.sqrt(xgb_mse)\n",
    "xgb_rmse"
   ]
  },
  {
   "cell_type": "markdown",
   "metadata": {},
   "source": [
    "### Test dataset"
   ]
  },
  {
   "cell_type": "code",
   "execution_count": 43,
   "metadata": {},
   "outputs": [
    {
     "data": {
      "text/plain": [
       "1.0624837940833907"
      ]
     },
     "execution_count": 43,
     "metadata": {},
     "output_type": "execute_result"
    }
   ],
   "source": [
    "y_test_pred = model.predict(X_test)\n",
    "xgb_mse = mean_squared_error(y_test, y_test_pred)\n",
    "xgb_rmse = np.sqrt(xgb_mse)\n",
    "xgb_rmse"
   ]
  },
  {
   "cell_type": "markdown",
   "metadata": {},
   "source": [
    "# Grid search:"
   ]
  },
  {
   "cell_type": "code",
   "execution_count": 48,
   "metadata": {},
   "outputs": [],
   "source": [
    "param_grid = {\n",
    "    'learning_rate': [0.001, 0.01, 0.1],\n",
    "    'gamma': [0.001, 0.01, 0.1, 0.7],\n",
    "    'min_child_weight': range(1, 10, 3),\n",
    "    'subsample': np.arange(0.1, 1.0, 0.3),\n",
    "    'colsample_bytree': np.arange(0.1, 1.0, 0.3),\n",
    "    'max_depth': range(3, 10, 3),\n",
    "    'n_estimators': range(200, 1000, 200)\n",
    "        }"
   ]
  },
  {
   "cell_type": "code",
   "execution_count": 49,
   "metadata": {},
   "outputs": [],
   "source": [
    "from sklearn.model_selection import ParameterGrid\n",
    "grid = ParameterGrid(param_grid)"
   ]
  },
  {
   "cell_type": "code",
   "execution_count": 50,
   "metadata": {},
   "outputs": [
    {
     "data": {
      "text/plain": [
       "3888"
      ]
     },
     "execution_count": 50,
     "metadata": {},
     "output_type": "execute_result"
    }
   ],
   "source": [
    "len(grid)"
   ]
  },
  {
   "cell_type": "code",
   "execution_count": 51,
   "metadata": {},
   "outputs": [
    {
     "name": "stderr",
     "output_type": "stream",
     "text": [
      "100%|██████████| 3888/3888 [10:58:13<00:00, 10.16s/it]  \n"
     ]
    }
   ],
   "source": [
    "from tqdm import tqdm\n",
    "from sklearn.metrics import mean_squared_error\n",
    "\n",
    "best_model = None\n",
    "best_rmse=np.inf\n",
    "best_param = {}\n",
    "for this_param in tqdm(grid):\n",
    "    this_model = XGBRegressor(**this_param, random_state=42)\n",
    "    this_model.fit(X_train, y_train)\n",
    "    xgb_mse = mean_squared_error(y_valid, this_model.predict(X_valid))\n",
    "    xgb_rmse = np.sqrt(xgb_mse)\n",
    "    if best_rmse > xgb_rmse:\n",
    "        best_model = this_model\n",
    "        best_rmse = xgb_rmse\n",
    "        best_param = this_param\n",
    "        "
   ]
  },
  {
   "cell_type": "code",
   "execution_count": 52,
   "metadata": {},
   "outputs": [
    {
     "name": "stdout",
     "output_type": "stream",
     "text": [
      "{'colsample_bytree': 0.7000000000000001, 'gamma': 0.1, 'learning_rate': 0.1, 'max_depth': 9, 'min_child_weight': 1, 'n_estimators': 600, 'subsample': 0.7000000000000001}\n"
     ]
    }
   ],
   "source": [
    "print(best_param)"
   ]
  },
  {
   "cell_type": "markdown",
   "metadata": {},
   "source": [
    "### Training dataset"
   ]
  },
  {
   "cell_type": "code",
   "execution_count": 53,
   "metadata": {},
   "outputs": [],
   "source": [
    "y_train_pred = best_model.predict(X_train)"
   ]
  },
  {
   "cell_type": "code",
   "execution_count": 54,
   "metadata": {},
   "outputs": [
    {
     "data": {
      "text/plain": [
       "0.4352762669515805"
      ]
     },
     "execution_count": 54,
     "metadata": {},
     "output_type": "execute_result"
    }
   ],
   "source": [
    "xgb_mse = mean_squared_error(y_train, y_train_pred)\n",
    "xgb_rmse = np.sqrt(xgb_mse)\n",
    "xgb_rmse"
   ]
  },
  {
   "cell_type": "markdown",
   "metadata": {},
   "source": [
    "### Validation dataset"
   ]
  },
  {
   "cell_type": "code",
   "execution_count": 55,
   "metadata": {},
   "outputs": [],
   "source": [
    "y_valid_pred =best_model.predict(X_valid)"
   ]
  },
  {
   "cell_type": "code",
   "execution_count": 56,
   "metadata": {},
   "outputs": [
    {
     "data": {
      "text/plain": [
       "0.9280895402335094"
      ]
     },
     "execution_count": 56,
     "metadata": {},
     "output_type": "execute_result"
    }
   ],
   "source": [
    "xgb_mse = mean_squared_error(y_valid, y_valid_pred)\n",
    "xgb_rmse = np.sqrt(xgb_mse)\n",
    "xgb_rmse"
   ]
  },
  {
   "cell_type": "markdown",
   "metadata": {},
   "source": [
    "### Test dataset"
   ]
  },
  {
   "cell_type": "code",
   "execution_count": 57,
   "metadata": {},
   "outputs": [],
   "source": [
    "y_test_pred = best_model.predict(X_test)"
   ]
  },
  {
   "cell_type": "code",
   "execution_count": 58,
   "metadata": {},
   "outputs": [
    {
     "data": {
      "text/plain": [
       "1.0565054836463563"
      ]
     },
     "execution_count": 58,
     "metadata": {},
     "output_type": "execute_result"
    }
   ],
   "source": [
    "xgb_mse = mean_squared_error(y_test, y_test_pred)\n",
    "xgb_rmse = np.sqrt(xgb_mse)\n",
    "xgb_rmse"
   ]
  },
  {
   "cell_type": "code",
   "execution_count": 59,
   "metadata": {},
   "outputs": [
    {
     "name": "stdout",
     "output_type": "stream",
     "text": [
      "Done\n"
     ]
    }
   ],
   "source": [
    "print(\"Done\")"
   ]
  },
  {
   "cell_type": "code",
   "execution_count": null,
   "metadata": {},
   "outputs": [],
   "source": []
  }
 ],
 "metadata": {
  "kernelspec": {
   "display_name": "Python 3",
   "language": "python",
   "name": "python3"
  },
  "language_info": {
   "codemirror_mode": {
    "name": "ipython",
    "version": 3
   },
   "file_extension": ".py",
   "mimetype": "text/x-python",
   "name": "python",
   "nbconvert_exporter": "python",
   "pygments_lexer": "ipython3",
   "version": "3.7.0"
  },
  "nav_menu": {
   "height": "279px",
   "width": "309px"
  },
  "toc": {
   "nav_menu": {},
   "number_sections": true,
   "sideBar": true,
   "skip_h1_title": false,
   "toc_cell": false,
   "toc_position": {},
   "toc_section_display": "block",
   "toc_window_display": false
  }
 },
 "nbformat": 4,
 "nbformat_minor": 4
}
