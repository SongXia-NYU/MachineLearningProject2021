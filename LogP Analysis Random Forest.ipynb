{
 "cells": [
  {
   "cell_type": "markdown",
   "metadata": {},
   "source": [
    "# Setup"
   ]
  },
  {
   "cell_type": "code",
   "execution_count": 1,
   "metadata": {},
   "outputs": [],
   "source": [
    "import sys\n",
    "assert sys.version_info >= (3, 5)\n",
    "\n",
    "\n",
    "import sklearn\n",
    "assert sklearn.__version__ >= \"0.20\"\n",
    "\n",
    "\n",
    "import numpy as np\n",
    "import os\n",
    "\n",
    "import os\n",
    "import tarfile\n",
    "import urllib\n",
    "\n",
    "import pandas as pd\n",
    "from sklearn.ensemble import RandomForestClassifier\n",
    "from sklearn import preprocessing\n",
    "from sklearn.metrics import accuracy_score\n",
    "from sklearn.model_selection import StratifiedShuffleSplit\n",
    "\n",
    "import pandas as pd\n",
    "from sklearn.ensemble import RandomForestClassifier\n",
    "\n",
    "import matplotlib.pyplot as plt\n",
    "\n",
    "#allows output to be stable across the seed\n",
    "np.random.seed(42) \n",
    "\n",
    "%matplotlib inline\n",
    "import matplotlib as mpl\n",
    "import matplotlib.pyplot as plt\n",
    "mpl.rc(\"axes\", labelsize=14)\n",
    "mpl.rc(\"xtick\", labelsize=12)\n",
    "mpl.rc(\"ytick\", labelsize=12)\n",
    "\n",
    "# where to save the figures\n",
    "PROJECT_ROOT_DIR = \".\"\n",
    "CHAPTER_ID = \"fundamentals\"\n",
    "IMAGES_PATH = os.path.join(PROJECT_ROOT_DIR, \"images\", CHAPTER_ID)\n",
    "os.makedirs(IMAGES_PATH, exist_ok=True)\n",
    "\n",
    "def save_fig(fig_id, tight_layout=True, fig_extension=\"png\", resolution=300):\n",
    "    path = os.path.join(IMAGES_PATH, fig_id + \".\" + fig_extension)\n",
    "    print(\"Saving figure\", fig_id)\n",
    "    if tight_layout:\n",
    "        plt.tight_layout()\n",
    "    plt.savefig(path, format=fig_extension, dpi=resolution)\n",
    "    \n",
    "# Ignore useless warnings (see SciPy issue #5998)\n",
    "import warnings\n",
    "warnings.filterwarnings(action=\"ignore\", message=\"^internal gelsd\")\n",
    "\n",
    "from rdkit import rdBase\n",
    "from rdkit import RDConfig\n",
    "rdBase.rdkitVersion\n",
    "\n",
    "from rdkit import Chem\n",
    "from rdkit.Chem.Draw import IPythonConsole\n",
    "from IPython.display import Image\n",
    "\n",
    "%matplotlib inline\n",
    "\n",
    "import rdkit\n",
    "from rdkit import Chem\n",
    "from rdkit.Chem import AllChem\n",
    "\n",
    "from rdkit.Chem import Draw\n",
    "from rdkit.Chem.Draw import IPythonConsole\n",
    "from rdkit import DataStructs\n",
    "from rdkit.DataStructs import ConvertToNumpyArray\n",
    "\n",
    "from rdkit.Chem import PandasTools\n",
    "\n",
    "import os\n",
    "import numpy as np\n",
    "import torch\n",
    "from torch import nn\n",
    "from torch.utils.data import DataLoader, TensorDataset\n",
    "from torchvision import datasets, transforms\n",
    "from torchvision.transforms import ToTensor, Lambda, Compose\n",
    "    \n",
    "from rdkit.Chem import MolFromSmiles\n",
    "from rdkit.Chem.AllChem import GetMorganFingerprint, GetMorganFingerprintAsBitVect\n",
    "from rdkit.DataStructs.cDataStructs import ConvertToNumpyArray\n",
    "import numpy as np\n",
    "\n",
    "from rdkit.Chem import PandasTools\n",
    "from rdkit import DataStructs"
   ]
  },
  {
   "cell_type": "markdown",
   "metadata": {},
   "source": [
    "# Retrieve LogP Values of Compounds \n",
    "* Lipophilicity is a valuable parameter of the drug which affects its activity in the human body. The Log P value of the compound indicates the permeability of the drugs to reach the target tissue in the body. Investigated compounds are lipophilic when Log P > 0 (or P > 1)."
   ]
  },
  {
   "cell_type": "code",
   "execution_count": 2,
   "metadata": {},
   "outputs": [
    {
     "data": {
      "text/html": [
       "<div>\n",
       "<style scoped>\n",
       "    .dataframe tbody tr th:only-of-type {\n",
       "        vertical-align: middle;\n",
       "    }\n",
       "\n",
       "    .dataframe tbody tr th {\n",
       "        vertical-align: top;\n",
       "    }\n",
       "\n",
       "    .dataframe thead th {\n",
       "        text-align: right;\n",
       "    }\n",
       "</style>\n",
       "<table border=\"1\" class=\"dataframe\">\n",
       "  <thead>\n",
       "    <tr style=\"text-align: right;\">\n",
       "      <th></th>\n",
       "      <th>Unnamed: 0</th>\n",
       "      <th>SMILES</th>\n",
       "      <th>Kow</th>\n",
       "    </tr>\n",
       "  </thead>\n",
       "  <tbody>\n",
       "    <tr>\n",
       "      <th>0</th>\n",
       "      <td>1</td>\n",
       "      <td>CC1CC2C3CCC4=CC(=O)C=CC4(C)C3(F)C(O)CC2(C)C1(O...</td>\n",
       "      <td>1.885</td>\n",
       "    </tr>\n",
       "    <tr>\n",
       "      <th>1</th>\n",
       "      <td>2</td>\n",
       "      <td>CC(=O)OCC(=O)C1(O)CCC2C3CCC4=CC(=O)CCC4(C)C3C(...</td>\n",
       "      <td>2.190</td>\n",
       "    </tr>\n",
       "    <tr>\n",
       "      <th>2</th>\n",
       "      <td>3</td>\n",
       "      <td>CC(=O)OCC(=O)C1(O)CCC2C3CCC4=CC(=O)CCC4(C)C3C(...</td>\n",
       "      <td>2.100</td>\n",
       "    </tr>\n",
       "    <tr>\n",
       "      <th>3</th>\n",
       "      <td>4</td>\n",
       "      <td>CCC1(c2ccccc2)C(=O)NC(=O)NC1=O</td>\n",
       "      <td>1.470</td>\n",
       "    </tr>\n",
       "    <tr>\n",
       "      <th>4</th>\n",
       "      <td>5</td>\n",
       "      <td>COC12C(COC(N)=O)C3=C(C(=O)C(C)=C(N)C3=O)N1CC1NC12</td>\n",
       "      <td>-0.400</td>\n",
       "    </tr>\n",
       "  </tbody>\n",
       "</table>\n",
       "</div>"
      ],
      "text/plain": [
       "   Unnamed: 0                                             SMILES    Kow\n",
       "0           1  CC1CC2C3CCC4=CC(=O)C=CC4(C)C3(F)C(O)CC2(C)C1(O...  1.885\n",
       "1           2  CC(=O)OCC(=O)C1(O)CCC2C3CCC4=CC(=O)CCC4(C)C3C(...  2.190\n",
       "2           3  CC(=O)OCC(=O)C1(O)CCC2C3CCC4=CC(=O)CCC4(C)C3C(...  2.100\n",
       "3           4                     CCC1(c2ccccc2)C(=O)NC(=O)NC1=O  1.470\n",
       "4           5  COC12C(COC(N)=O)C3=C(C(=O)C(C)=C(N)C3=O)N1CC1NC12 -0.400"
      ]
     },
     "execution_count": 2,
     "metadata": {},
     "output_type": "execute_result"
    }
   ],
   "source": [
    "import os \n",
    "datapath = os.path.join(\"datasets\", \"molecule\", \"\")\n",
    "logp = pd.read_csv(datapath + \"logP.csv\", thousands=',')\n",
    "logp.head(5)"
   ]
  },
  {
   "cell_type": "code",
   "execution_count": 3,
   "metadata": {},
   "outputs": [
    {
     "data": {
      "text/html": [
       "<div>\n",
       "<style scoped>\n",
       "    .dataframe tbody tr th:only-of-type {\n",
       "        vertical-align: middle;\n",
       "    }\n",
       "\n",
       "    .dataframe tbody tr th {\n",
       "        vertical-align: top;\n",
       "    }\n",
       "\n",
       "    .dataframe thead th {\n",
       "        text-align: right;\n",
       "    }\n",
       "</style>\n",
       "<table border=\"1\" class=\"dataframe\">\n",
       "  <thead>\n",
       "    <tr style=\"text-align: right;\">\n",
       "      <th></th>\n",
       "      <th>Unnamed: 0</th>\n",
       "      <th>Kow</th>\n",
       "    </tr>\n",
       "  </thead>\n",
       "  <tbody>\n",
       "    <tr>\n",
       "      <th>count</th>\n",
       "      <td>14176.000000</td>\n",
       "      <td>14176.000000</td>\n",
       "    </tr>\n",
       "    <tr>\n",
       "      <th>mean</th>\n",
       "      <td>7101.573857</td>\n",
       "      <td>2.067719</td>\n",
       "    </tr>\n",
       "    <tr>\n",
       "      <th>std</th>\n",
       "      <td>4095.549892</td>\n",
       "      <td>1.828840</td>\n",
       "    </tr>\n",
       "    <tr>\n",
       "      <th>min</th>\n",
       "      <td>1.000000</td>\n",
       "      <td>-5.400000</td>\n",
       "    </tr>\n",
       "    <tr>\n",
       "      <th>25%</th>\n",
       "      <td>3556.750000</td>\n",
       "      <td>0.880000</td>\n",
       "    </tr>\n",
       "    <tr>\n",
       "      <th>50%</th>\n",
       "      <td>7100.500000</td>\n",
       "      <td>1.990000</td>\n",
       "    </tr>\n",
       "    <tr>\n",
       "      <th>75%</th>\n",
       "      <td>10645.250000</td>\n",
       "      <td>3.150000</td>\n",
       "    </tr>\n",
       "    <tr>\n",
       "      <th>max</th>\n",
       "      <td>14207.000000</td>\n",
       "      <td>11.290000</td>\n",
       "    </tr>\n",
       "  </tbody>\n",
       "</table>\n",
       "</div>"
      ],
      "text/plain": [
       "         Unnamed: 0           Kow\n",
       "count  14176.000000  14176.000000\n",
       "mean    7101.573857      2.067719\n",
       "std     4095.549892      1.828840\n",
       "min        1.000000     -5.400000\n",
       "25%     3556.750000      0.880000\n",
       "50%     7100.500000      1.990000\n",
       "75%    10645.250000      3.150000\n",
       "max    14207.000000     11.290000"
      ]
     },
     "execution_count": 3,
     "metadata": {},
     "output_type": "execute_result"
    }
   ],
   "source": [
    "logp.describe()"
   ]
  },
  {
   "cell_type": "code",
   "execution_count": 4,
   "metadata": {},
   "outputs": [
    {
     "name": "stdout",
     "output_type": "stream",
     "text": [
      "<class 'pandas.core.frame.DataFrame'>\n",
      "RangeIndex: 14176 entries, 0 to 14175\n",
      "Data columns (total 3 columns):\n",
      "Unnamed: 0    14176 non-null int64\n",
      "SMILES        14176 non-null object\n",
      "Kow           14176 non-null float64\n",
      "dtypes: float64(1), int64(1), object(1)\n",
      "memory usage: 332.4+ KB\n"
     ]
    }
   ],
   "source": [
    "logp.info()"
   ]
  },
  {
   "cell_type": "code",
   "execution_count": 5,
   "metadata": {},
   "outputs": [
    {
     "data": {
      "text/plain": [
       "14152"
      ]
     },
     "execution_count": 5,
     "metadata": {},
     "output_type": "execute_result"
    }
   ],
   "source": [
    "logp['SMILES'].nunique()"
   ]
  },
  {
   "cell_type": "code",
   "execution_count": 6,
   "metadata": {},
   "outputs": [
    {
     "name": "stdout",
     "output_type": "stream",
     "text": [
      "<class 'pandas.core.frame.DataFrame'>\n",
      "Int64Index: 14152 entries, 0 to 14175\n",
      "Data columns (total 3 columns):\n",
      "Unnamed: 0    14152 non-null int64\n",
      "SMILES        14152 non-null object\n",
      "Kow           14152 non-null float64\n",
      "dtypes: float64(1), int64(1), object(1)\n",
      "memory usage: 442.2+ KB\n"
     ]
    }
   ],
   "source": [
    "logp = logp.drop_duplicates(['SMILES'])\n",
    "logp.info()"
   ]
  },
  {
   "cell_type": "markdown",
   "metadata": {},
   "source": [
    "# Generate Molecules"
   ]
  },
  {
   "cell_type": "code",
   "execution_count": 7,
   "metadata": {},
   "outputs": [
    {
     "data": {
      "text/html": [
       "<div>\n",
       "<style scoped>\n",
       "    .dataframe tbody tr th:only-of-type {\n",
       "        vertical-align: middle;\n",
       "    }\n",
       "\n",
       "    .dataframe tbody tr th {\n",
       "        vertical-align: top;\n",
       "    }\n",
       "\n",
       "    .dataframe thead th {\n",
       "        text-align: right;\n",
       "    }\n",
       "</style>\n",
       "<table border=\"1\" class=\"dataframe\">\n",
       "  <thead>\n",
       "    <tr style=\"text-align: right;\">\n",
       "      <th></th>\n",
       "      <th>Unnamed: 0</th>\n",
       "      <th>SMILES</th>\n",
       "      <th>Kow</th>\n",
       "      <th>Molecule</th>\n",
       "    </tr>\n",
       "  </thead>\n",
       "  <tbody>\n",
       "    <tr>\n",
       "      <th>0</th>\n",
       "      <td>1</td>\n",
       "      <td>CC1CC2C3CCC4=CC(=O)C=CC4(C)C3(F)C(O)CC2(C)C1(O...</td>\n",
       "      <td>1.885</td>\n",
       "      <td><img data-content=\"rdkit/molecule\" src=\"data:image/png;base64,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\" alt=\"Mol\"/></td>\n",
       "    </tr>\n",
       "    <tr>\n",
       "      <th>1</th>\n",
       "      <td>2</td>\n",
       "      <td>CC(=O)OCC(=O)C1(O)CCC2C3CCC4=CC(=O)CCC4(C)C3C(...</td>\n",
       "      <td>2.190</td>\n",
       "      <td><img data-content=\"rdkit/molecule\" src=\"data:image/png;base64,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\" alt=\"Mol\"/></td>\n",
       "    </tr>\n",
       "    <tr>\n",
       "      <th>2</th>\n",
       "      <td>3</td>\n",
       "      <td>CC(=O)OCC(=O)C1(O)CCC2C3CCC4=CC(=O)CCC4(C)C3C(...</td>\n",
       "      <td>2.100</td>\n",
       "      <td><img data-content=\"rdkit/molecule\" src=\"data:image/png;base64,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\" alt=\"Mol\"/></td>\n",
       "    </tr>\n",
       "    <tr>\n",
       "      <th>3</th>\n",
       "      <td>4</td>\n",
       "      <td>CCC1(c2ccccc2)C(=O)NC(=O)NC1=O</td>\n",
       "      <td>1.470</td>\n",
       "      <td><img data-content=\"rdkit/molecule\" src=\"data:image/png;base64,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\" alt=\"Mol\"/></td>\n",
       "    </tr>\n",
       "    <tr>\n",
       "      <th>4</th>\n",
       "      <td>5</td>\n",
       "      <td>COC12C(COC(N)=O)C3=C(C(=O)C(C)=C(N)C3=O)N1CC1NC12</td>\n",
       "      <td>-0.400</td>\n",
       "      <td><img data-content=\"rdkit/molecule\" src=\"data:image/png;base64,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\" alt=\"Mol\"/></td>\n",
       "    </tr>\n",
       "  </tbody>\n",
       "</table>\n",
       "</div>"
      ],
      "text/plain": [
       "   Unnamed: 0                                             SMILES    Kow  \\\n",
       "0           1  CC1CC2C3CCC4=CC(=O)C=CC4(C)C3(F)C(O)CC2(C)C1(O...  1.885   \n",
       "1           2  CC(=O)OCC(=O)C1(O)CCC2C3CCC4=CC(=O)CCC4(C)C3C(...  2.190   \n",
       "2           3  CC(=O)OCC(=O)C1(O)CCC2C3CCC4=CC(=O)CCC4(C)C3C(...  2.100   \n",
       "3           4                     CCC1(c2ccccc2)C(=O)NC(=O)NC1=O  1.470   \n",
       "4           5  COC12C(COC(N)=O)C3=C(C(=O)C(C)=C(N)C3=O)N1CC1NC12 -0.400   \n",
       "\n",
       "                                            Molecule  \n",
       "0  <img data-content=\"rdkit/molecule\" src=\"data:i...  \n",
       "1  <img data-content=\"rdkit/molecule\" src=\"data:i...  \n",
       "2  <img data-content=\"rdkit/molecule\" src=\"data:i...  \n",
       "3  <img data-content=\"rdkit/molecule\" src=\"data:i...  \n",
       "4  <img data-content=\"rdkit/molecule\" src=\"data:i...  "
      ]
     },
     "execution_count": 7,
     "metadata": {},
     "output_type": "execute_result"
    }
   ],
   "source": [
    "# Create Mol rdkit objects for each smile\n",
    "PandasTools.AddMoleculeColumnToFrame(frame=logp, smilesCol='SMILES', molCol='Molecule')\n",
    "\n",
    "logp.head()"
   ]
  },
  {
   "cell_type": "code",
   "execution_count": 8,
   "metadata": {},
   "outputs": [
    {
     "name": "stdout",
     "output_type": "stream",
     "text": [
      "<class 'pandas.core.frame.DataFrame'>\n",
      "Int64Index: 14152 entries, 0 to 14175\n",
      "Data columns (total 4 columns):\n",
      "Unnamed: 0    14152 non-null int64\n",
      "SMILES        14152 non-null object\n",
      "Kow           14152 non-null float64\n",
      "Molecule      14152 non-null object\n",
      "dtypes: float64(1), int64(1), object(2)\n",
      "memory usage: 552.8+ KB\n"
     ]
    }
   ],
   "source": [
    "logp.info()"
   ]
  },
  {
   "cell_type": "markdown",
   "metadata": {},
   "source": [
    "# Generate Morgan Fingerprints "
   ]
  },
  {
   "cell_type": "code",
   "execution_count": 9,
   "metadata": {},
   "outputs": [],
   "source": [
    "#create a column for Morgan fingerprints\n",
    "n_Bits = 2048\n",
    "logp[\"MorgFP\"] = [AllChem.GetMorganFingerprintAsBitVect(m, 2, nBits = n_Bits, useFeatures=True) for m in logp['Molecule']]"
   ]
  },
  {
   "cell_type": "markdown",
   "metadata": {},
   "source": [
    "# Generate Descriptors"
   ]
  },
  {
   "cell_type": "code",
   "execution_count": 10,
   "metadata": {},
   "outputs": [
    {
     "name": "stdout",
     "output_type": "stream",
     "text": [
      "['MaxEStateIndex' 'MinEStateIndex' 'MaxAbsEStateIndex' 'MinAbsEStateIndex'\n",
      " 'qed' 'MolWt' 'HeavyAtomMolWt' 'ExactMolWt' 'NumValenceElectrons'\n",
      " 'NumRadicalElectrons' 'MaxPartialCharge' 'MinPartialCharge'\n",
      " 'MaxAbsPartialCharge' 'MinAbsPartialCharge' 'FpDensityMorgan1'\n",
      " 'FpDensityMorgan2' 'FpDensityMorgan3' 'BCUT2D_MWHI' 'BCUT2D_MWLOW'\n",
      " 'BCUT2D_CHGHI' 'BCUT2D_CHGLO' 'BCUT2D_LOGPHI' 'BCUT2D_LOGPLOW'\n",
      " 'BCUT2D_MRHI' 'BCUT2D_MRLOW' 'BalabanJ' 'BertzCT' 'Chi0' 'Chi0n' 'Chi0v'\n",
      " 'Chi1' 'Chi1n' 'Chi1v' 'Chi2n' 'Chi2v' 'Chi3n' 'Chi3v' 'Chi4n' 'Chi4v'\n",
      " 'HallKierAlpha' 'Ipc' 'Kappa1' 'Kappa2' 'Kappa3' 'LabuteASA' 'PEOE_VSA1'\n",
      " 'PEOE_VSA10' 'PEOE_VSA11' 'PEOE_VSA12' 'PEOE_VSA13' 'PEOE_VSA14'\n",
      " 'PEOE_VSA2' 'PEOE_VSA3' 'PEOE_VSA4' 'PEOE_VSA5' 'PEOE_VSA6' 'PEOE_VSA7'\n",
      " 'PEOE_VSA8' 'PEOE_VSA9' 'SMR_VSA1' 'SMR_VSA10' 'SMR_VSA2' 'SMR_VSA3'\n",
      " 'SMR_VSA4' 'SMR_VSA5' 'SMR_VSA6' 'SMR_VSA7' 'SMR_VSA8' 'SMR_VSA9'\n",
      " 'SlogP_VSA1' 'SlogP_VSA10' 'SlogP_VSA11' 'SlogP_VSA12' 'SlogP_VSA2'\n",
      " 'SlogP_VSA3' 'SlogP_VSA4' 'SlogP_VSA5' 'SlogP_VSA6' 'SlogP_VSA7'\n",
      " 'SlogP_VSA8' 'SlogP_VSA9' 'TPSA' 'EState_VSA1' 'EState_VSA10'\n",
      " 'EState_VSA11' 'EState_VSA2' 'EState_VSA3' 'EState_VSA4' 'EState_VSA5'\n",
      " 'EState_VSA6' 'EState_VSA7' 'EState_VSA8' 'EState_VSA9' 'VSA_EState1'\n",
      " 'VSA_EState10' 'VSA_EState2' 'VSA_EState3' 'VSA_EState4' 'VSA_EState5'\n",
      " 'VSA_EState6' 'VSA_EState7' 'VSA_EState8' 'VSA_EState9' 'FractionCSP3'\n",
      " 'HeavyAtomCount' 'NHOHCount' 'NOCount' 'NumAliphaticCarbocycles'\n",
      " 'NumAliphaticHeterocycles' 'NumAliphaticRings' 'NumAromaticCarbocycles'\n",
      " 'NumAromaticHeterocycles' 'NumAromaticRings' 'NumHAcceptors' 'NumHDonors'\n",
      " 'NumHeteroatoms' 'NumRotatableBonds' 'NumSaturatedCarbocycles'\n",
      " 'NumSaturatedHeterocycles' 'NumSaturatedRings' 'RingCount' 'MolLogP'\n",
      " 'MolMR' 'fr_Al_COO' 'fr_Al_OH' 'fr_Al_OH_noTert' 'fr_ArN' 'fr_Ar_COO'\n",
      " 'fr_Ar_N' 'fr_Ar_NH' 'fr_Ar_OH' 'fr_COO' 'fr_COO2' 'fr_C_O'\n",
      " 'fr_C_O_noCOO' 'fr_C_S' 'fr_HOCCN' 'fr_Imine' 'fr_NH0' 'fr_NH1' 'fr_NH2'\n",
      " 'fr_N_O' 'fr_Ndealkylation1' 'fr_Ndealkylation2' 'fr_Nhpyrrole' 'fr_SH'\n",
      " 'fr_aldehyde' 'fr_alkyl_carbamate' 'fr_alkyl_halide' 'fr_allylic_oxid'\n",
      " 'fr_amide' 'fr_amidine' 'fr_aniline' 'fr_aryl_methyl' 'fr_azide' 'fr_azo'\n",
      " 'fr_barbitur' 'fr_benzene' 'fr_benzodiazepine' 'fr_bicyclic' 'fr_diazo'\n",
      " 'fr_dihydropyridine' 'fr_epoxide' 'fr_ester' 'fr_ether' 'fr_furan'\n",
      " 'fr_guanido' 'fr_halogen' 'fr_hdrzine' 'fr_hdrzone' 'fr_imidazole'\n",
      " 'fr_imide' 'fr_isocyan' 'fr_isothiocyan' 'fr_ketone' 'fr_ketone_Topliss'\n",
      " 'fr_lactam' 'fr_lactone' 'fr_methoxy' 'fr_morpholine' 'fr_nitrile'\n",
      " 'fr_nitro' 'fr_nitro_arom' 'fr_nitro_arom_nonortho' 'fr_nitroso'\n",
      " 'fr_oxazole' 'fr_oxime' 'fr_para_hydroxylation' 'fr_phenol'\n",
      " 'fr_phenol_noOrthoHbond' 'fr_phos_acid' 'fr_phos_ester' 'fr_piperdine'\n",
      " 'fr_piperzine' 'fr_priamide' 'fr_prisulfonamd' 'fr_pyridine' 'fr_quatN'\n",
      " 'fr_sulfide' 'fr_sulfonamd' 'fr_sulfone' 'fr_term_acetylene'\n",
      " 'fr_tetrazole' 'fr_thiazole' 'fr_thiocyan' 'fr_thiophene'\n",
      " 'fr_unbrch_alkane' 'fr_urea']\n"
     ]
    }
   ],
   "source": [
    "from rdkit.Chem import Descriptors\n",
    "from rdkit.ML.Descriptors import MoleculeDescriptors\n",
    "descriptors = list(np.array(Descriptors._descList)[:,0])\n",
    "print(np.array(Descriptors._descList)[:,0])"
   ]
  },
  {
   "cell_type": "code",
   "execution_count": 11,
   "metadata": {},
   "outputs": [
    {
     "data": {
      "text/html": [
       "<div>\n",
       "<style scoped>\n",
       "    .dataframe tbody tr th:only-of-type {\n",
       "        vertical-align: middle;\n",
       "    }\n",
       "\n",
       "    .dataframe tbody tr th {\n",
       "        vertical-align: top;\n",
       "    }\n",
       "\n",
       "    .dataframe thead th {\n",
       "        text-align: right;\n",
       "    }\n",
       "</style>\n",
       "<table border=\"1\" class=\"dataframe\">\n",
       "  <thead>\n",
       "    <tr style=\"text-align: right;\">\n",
       "      <th></th>\n",
       "      <th>desc_name</th>\n",
       "    </tr>\n",
       "  </thead>\n",
       "  <tbody>\n",
       "    <tr>\n",
       "      <th>0</th>\n",
       "      <td>MaxEStateIndex</td>\n",
       "    </tr>\n",
       "    <tr>\n",
       "      <th>1</th>\n",
       "      <td>MinEStateIndex</td>\n",
       "    </tr>\n",
       "    <tr>\n",
       "      <th>2</th>\n",
       "      <td>MaxAbsEStateIndex</td>\n",
       "    </tr>\n",
       "    <tr>\n",
       "      <th>3</th>\n",
       "      <td>MinAbsEStateIndex</td>\n",
       "    </tr>\n",
       "    <tr>\n",
       "      <th>4</th>\n",
       "      <td>qed</td>\n",
       "    </tr>\n",
       "    <tr>\n",
       "      <th>...</th>\n",
       "      <td>...</td>\n",
       "    </tr>\n",
       "    <tr>\n",
       "      <th>203</th>\n",
       "      <td>fr_thiazole</td>\n",
       "    </tr>\n",
       "    <tr>\n",
       "      <th>204</th>\n",
       "      <td>fr_thiocyan</td>\n",
       "    </tr>\n",
       "    <tr>\n",
       "      <th>205</th>\n",
       "      <td>fr_thiophene</td>\n",
       "    </tr>\n",
       "    <tr>\n",
       "      <th>206</th>\n",
       "      <td>fr_unbrch_alkane</td>\n",
       "    </tr>\n",
       "    <tr>\n",
       "      <th>207</th>\n",
       "      <td>fr_urea</td>\n",
       "    </tr>\n",
       "  </tbody>\n",
       "</table>\n",
       "<p>208 rows × 1 columns</p>\n",
       "</div>"
      ],
      "text/plain": [
       "             desc_name\n",
       "0       MaxEStateIndex\n",
       "1       MinEStateIndex\n",
       "2    MaxAbsEStateIndex\n",
       "3    MinAbsEStateIndex\n",
       "4                  qed\n",
       "..                 ...\n",
       "203        fr_thiazole\n",
       "204        fr_thiocyan\n",
       "205       fr_thiophene\n",
       "206   fr_unbrch_alkane\n",
       "207            fr_urea\n",
       "\n",
       "[208 rows x 1 columns]"
      ]
     },
     "execution_count": 11,
     "metadata": {},
     "output_type": "execute_result"
    }
   ],
   "source": [
    "calculator = MoleculeDescriptors.MolecularDescriptorCalculator(descriptors)\n",
    "# Define a custom function to calculate molecular descriptors\n",
    "def computeDescriptors(mol, calculator):\n",
    "    res = list(calculator.CalcDescriptors(mol))\n",
    "    if not np.all(np.isfinite(res)):\n",
    "        return None  \n",
    "# Make it's easier to identify problematic molecules (e.g.: infinty descriptor values) later \n",
    "    return res\n",
    "\n",
    "# Compute the descriptors\n",
    "logp['Descriptors'] = logp['Molecule'].map(lambda x: computeDescriptors(x,calculator))\n",
    "# Remove rows with non-finite descriptor values (seems to be only 1 by comparing the counts)\n",
    "logp = logp[logp['Descriptors'].map(lambda x: x is not None)]\n",
    "\n",
    "df_descriptors = pd.DataFrame(descriptors, columns=['desc_name'])\n",
    "df_descriptors"
   ]
  },
  {
   "cell_type": "code",
   "execution_count": 12,
   "metadata": {},
   "outputs": [
    {
     "data": {
      "text/html": [
       "<div>\n",
       "<style scoped>\n",
       "    .dataframe tbody tr th:only-of-type {\n",
       "        vertical-align: middle;\n",
       "    }\n",
       "\n",
       "    .dataframe tbody tr th {\n",
       "        vertical-align: top;\n",
       "    }\n",
       "\n",
       "    .dataframe thead th {\n",
       "        text-align: right;\n",
       "    }\n",
       "</style>\n",
       "<table border=\"1\" class=\"dataframe\">\n",
       "  <thead>\n",
       "    <tr style=\"text-align: right;\">\n",
       "      <th></th>\n",
       "      <th>MaxEStateIndex</th>\n",
       "      <th>MinEStateIndex</th>\n",
       "      <th>MaxAbsEStateIndex</th>\n",
       "      <th>MinAbsEStateIndex</th>\n",
       "      <th>qed</th>\n",
       "      <th>MolWt</th>\n",
       "      <th>HeavyAtomMolWt</th>\n",
       "      <th>ExactMolWt</th>\n",
       "      <th>NumValenceElectrons</th>\n",
       "      <th>NumRadicalElectrons</th>\n",
       "      <th>...</th>\n",
       "      <th>fr_sulfide</th>\n",
       "      <th>fr_sulfonamd</th>\n",
       "      <th>fr_sulfone</th>\n",
       "      <th>fr_term_acetylene</th>\n",
       "      <th>fr_tetrazole</th>\n",
       "      <th>fr_thiazole</th>\n",
       "      <th>fr_thiocyan</th>\n",
       "      <th>fr_thiophene</th>\n",
       "      <th>fr_unbrch_alkane</th>\n",
       "      <th>fr_urea</th>\n",
       "    </tr>\n",
       "  </thead>\n",
       "  <tbody>\n",
       "    <tr>\n",
       "      <th>0</th>\n",
       "      <td>16.859063</td>\n",
       "      <td>-1.980464</td>\n",
       "      <td>16.859063</td>\n",
       "      <td>0.067556</td>\n",
       "      <td>0.667213</td>\n",
       "      <td>392.467</td>\n",
       "      <td>363.235</td>\n",
       "      <td>392.199902</td>\n",
       "      <td>154</td>\n",
       "      <td>0</td>\n",
       "      <td>...</td>\n",
       "      <td>0</td>\n",
       "      <td>0</td>\n",
       "      <td>0</td>\n",
       "      <td>0</td>\n",
       "      <td>0</td>\n",
       "      <td>0</td>\n",
       "      <td>0</td>\n",
       "      <td>0</td>\n",
       "      <td>0</td>\n",
       "      <td>0</td>\n",
       "    </tr>\n",
       "    <tr>\n",
       "      <th>1</th>\n",
       "      <td>12.870043</td>\n",
       "      <td>-1.584704</td>\n",
       "      <td>12.870043</td>\n",
       "      <td>0.041293</td>\n",
       "      <td>0.700523</td>\n",
       "      <td>404.503</td>\n",
       "      <td>372.247</td>\n",
       "      <td>404.219889</td>\n",
       "      <td>160</td>\n",
       "      <td>0</td>\n",
       "      <td>...</td>\n",
       "      <td>0</td>\n",
       "      <td>0</td>\n",
       "      <td>0</td>\n",
       "      <td>0</td>\n",
       "      <td>0</td>\n",
       "      <td>0</td>\n",
       "      <td>0</td>\n",
       "      <td>0</td>\n",
       "      <td>0</td>\n",
       "      <td>0</td>\n",
       "    </tr>\n",
       "    <tr>\n",
       "      <th>2</th>\n",
       "      <td>13.474536</td>\n",
       "      <td>-1.645537</td>\n",
       "      <td>13.474536</td>\n",
       "      <td>0.062483</td>\n",
       "      <td>0.728839</td>\n",
       "      <td>402.487</td>\n",
       "      <td>372.247</td>\n",
       "      <td>402.204239</td>\n",
       "      <td>158</td>\n",
       "      <td>0</td>\n",
       "      <td>...</td>\n",
       "      <td>0</td>\n",
       "      <td>0</td>\n",
       "      <td>0</td>\n",
       "      <td>0</td>\n",
       "      <td>0</td>\n",
       "      <td>0</td>\n",
       "      <td>0</td>\n",
       "      <td>0</td>\n",
       "      <td>0</td>\n",
       "      <td>0</td>\n",
       "    </tr>\n",
       "    <tr>\n",
       "      <th>3</th>\n",
       "      <td>11.975791</td>\n",
       "      <td>-1.310347</td>\n",
       "      <td>11.975791</td>\n",
       "      <td>0.293611</td>\n",
       "      <td>0.736884</td>\n",
       "      <td>232.239</td>\n",
       "      <td>220.143</td>\n",
       "      <td>232.084792</td>\n",
       "      <td>88</td>\n",
       "      <td>0</td>\n",
       "      <td>...</td>\n",
       "      <td>0</td>\n",
       "      <td>0</td>\n",
       "      <td>0</td>\n",
       "      <td>0</td>\n",
       "      <td>0</td>\n",
       "      <td>0</td>\n",
       "      <td>0</td>\n",
       "      <td>0</td>\n",
       "      <td>0</td>\n",
       "      <td>1</td>\n",
       "    </tr>\n",
       "    <tr>\n",
       "      <th>4</th>\n",
       "      <td>12.770676</td>\n",
       "      <td>-0.957338</td>\n",
       "      <td>12.770676</td>\n",
       "      <td>0.058604</td>\n",
       "      <td>0.410670</td>\n",
       "      <td>334.332</td>\n",
       "      <td>316.188</td>\n",
       "      <td>334.127720</td>\n",
       "      <td>128</td>\n",
       "      <td>0</td>\n",
       "      <td>...</td>\n",
       "      <td>0</td>\n",
       "      <td>0</td>\n",
       "      <td>0</td>\n",
       "      <td>0</td>\n",
       "      <td>0</td>\n",
       "      <td>0</td>\n",
       "      <td>0</td>\n",
       "      <td>0</td>\n",
       "      <td>0</td>\n",
       "      <td>0</td>\n",
       "    </tr>\n",
       "  </tbody>\n",
       "</table>\n",
       "<p>5 rows × 208 columns</p>\n",
       "</div>"
      ],
      "text/plain": [
       "   MaxEStateIndex  MinEStateIndex  MaxAbsEStateIndex  MinAbsEStateIndex  \\\n",
       "0       16.859063       -1.980464          16.859063           0.067556   \n",
       "1       12.870043       -1.584704          12.870043           0.041293   \n",
       "2       13.474536       -1.645537          13.474536           0.062483   \n",
       "3       11.975791       -1.310347          11.975791           0.293611   \n",
       "4       12.770676       -0.957338          12.770676           0.058604   \n",
       "\n",
       "        qed    MolWt  HeavyAtomMolWt  ExactMolWt  NumValenceElectrons  \\\n",
       "0  0.667213  392.467         363.235  392.199902                  154   \n",
       "1  0.700523  404.503         372.247  404.219889                  160   \n",
       "2  0.728839  402.487         372.247  402.204239                  158   \n",
       "3  0.736884  232.239         220.143  232.084792                   88   \n",
       "4  0.410670  334.332         316.188  334.127720                  128   \n",
       "\n",
       "   NumRadicalElectrons  ...  fr_sulfide  fr_sulfonamd  fr_sulfone  \\\n",
       "0                    0  ...           0             0           0   \n",
       "1                    0  ...           0             0           0   \n",
       "2                    0  ...           0             0           0   \n",
       "3                    0  ...           0             0           0   \n",
       "4                    0  ...           0             0           0   \n",
       "\n",
       "   fr_term_acetylene  fr_tetrazole  fr_thiazole  fr_thiocyan  fr_thiophene  \\\n",
       "0                  0             0            0            0             0   \n",
       "1                  0             0            0            0             0   \n",
       "2                  0             0            0            0             0   \n",
       "3                  0             0            0            0             0   \n",
       "4                  0             0            0            0             0   \n",
       "\n",
       "   fr_unbrch_alkane  fr_urea  \n",
       "0                 0        0  \n",
       "1                 0        0  \n",
       "2                 0        0  \n",
       "3                 0        1  \n",
       "4                 0        0  \n",
       "\n",
       "[5 rows x 208 columns]"
      ]
     },
     "execution_count": 12,
     "metadata": {},
     "output_type": "execute_result"
    }
   ],
   "source": [
    "desc_name = [df_descriptors['desc_name'][i] for i in range(len(df_descriptors))]\n",
    "desc_val = [list(l) for l in logp['Descriptors']]\n",
    "df_desc = pd.DataFrame(desc_val, index = logp.index, columns=desc_name)\n",
    "\n",
    "df_desc.head()"
   ]
  },
  {
   "cell_type": "code",
   "execution_count": 13,
   "metadata": {},
   "outputs": [],
   "source": [
    "logp = pd.concat([logp, df_desc], axis= 1, ignore_index=False)"
   ]
  },
  {
   "cell_type": "code",
   "execution_count": 14,
   "metadata": {},
   "outputs": [
    {
     "data": {
      "text/plain": [
       "(14139, 214)"
      ]
     },
     "execution_count": 14,
     "metadata": {},
     "output_type": "execute_result"
    }
   ],
   "source": [
    "logp.shape"
   ]
  },
  {
   "cell_type": "code",
   "execution_count": 1,
   "metadata": {},
   "outputs": [
    {
     "ename": "NameError",
     "evalue": "name 'logp' is not defined",
     "output_type": "error",
     "traceback": [
      "\u001b[0;31m---------------------------------------------------------------------------\u001b[0m",
      "\u001b[0;31mNameError\u001b[0m                                 Traceback (most recent call last)",
      "\u001b[0;32m<ipython-input-1-34a69f9492b3>\u001b[0m in \u001b[0;36m<module>\u001b[0;34m\u001b[0m\n\u001b[1;32m      1\u001b[0m \u001b[0;31m#Finds Null data in any row if any\u001b[0m\u001b[0;34m\u001b[0m\u001b[0;34m\u001b[0m\u001b[0;34m\u001b[0m\u001b[0m\n\u001b[0;32m----> 2\u001b[0;31m \u001b[0msample_incomplete_rows\u001b[0m \u001b[0;34m=\u001b[0m \u001b[0mlogp\u001b[0m\u001b[0;34m[\u001b[0m\u001b[0mlogp\u001b[0m\u001b[0;34m.\u001b[0m\u001b[0misnull\u001b[0m\u001b[0;34m(\u001b[0m\u001b[0;34m)\u001b[0m\u001b[0;34m.\u001b[0m\u001b[0many\u001b[0m\u001b[0;34m(\u001b[0m\u001b[0maxis\u001b[0m\u001b[0;34m=\u001b[0m\u001b[0;36m1\u001b[0m\u001b[0;34m)\u001b[0m\u001b[0;34m]\u001b[0m\u001b[0;34m\u001b[0m\u001b[0;34m\u001b[0m\u001b[0m\n\u001b[0m\u001b[1;32m      3\u001b[0m \u001b[0msample_incomplete_rows\u001b[0m\u001b[0;34m.\u001b[0m\u001b[0mhead\u001b[0m\u001b[0;34m(\u001b[0m\u001b[0mlen\u001b[0m\u001b[0;34m(\u001b[0m\u001b[0msample_incomplete_rows\u001b[0m\u001b[0;34m)\u001b[0m\u001b[0;34m)\u001b[0m\u001b[0;34m\u001b[0m\u001b[0;34m\u001b[0m\u001b[0m\n",
      "\u001b[0;31mNameError\u001b[0m: name 'logp' is not defined"
     ]
    }
   ],
   "source": [
    "#Finds Null data in any row if any\n",
    "sample_incomplete_rows = logp[logp.isnull().any(axis=1)]\n",
    "sample_incomplete_rows.head(len(sample_incomplete_rows))"
   ]
  },
  {
   "cell_type": "code",
   "execution_count": 16,
   "metadata": {},
   "outputs": [
    {
     "data": {
      "text/plain": [
       "14139"
      ]
     },
     "execution_count": 16,
     "metadata": {},
     "output_type": "execute_result"
    }
   ],
   "source": [
    "#Returns number of unique values in the specifed column to make sure that no duplications there\n",
    "logp['SMILES'].nunique()"
   ]
  },
  {
   "cell_type": "code",
   "execution_count": 17,
   "metadata": {},
   "outputs": [
    {
     "data": {
      "text/plain": [
       "14139"
      ]
     },
     "execution_count": 17,
     "metadata": {},
     "output_type": "execute_result"
    }
   ],
   "source": [
    "#Returns number of total rows\n",
    "logp['SMILES'].count()"
   ]
  },
  {
   "cell_type": "code",
   "execution_count": 18,
   "metadata": {},
   "outputs": [
    {
     "data": {
      "text/html": [
       "<div>\n",
       "<style scoped>\n",
       "    .dataframe tbody tr th:only-of-type {\n",
       "        vertical-align: middle;\n",
       "    }\n",
       "\n",
       "    .dataframe tbody tr th {\n",
       "        vertical-align: top;\n",
       "    }\n",
       "\n",
       "    .dataframe thead th {\n",
       "        text-align: right;\n",
       "    }\n",
       "</style>\n",
       "<table border=\"1\" class=\"dataframe\">\n",
       "  <thead>\n",
       "    <tr style=\"text-align: right;\">\n",
       "      <th></th>\n",
       "      <th>Unnamed: 0</th>\n",
       "      <th>Kow</th>\n",
       "      <th>MaxEStateIndex</th>\n",
       "      <th>MinEStateIndex</th>\n",
       "      <th>MaxAbsEStateIndex</th>\n",
       "      <th>MinAbsEStateIndex</th>\n",
       "      <th>qed</th>\n",
       "      <th>MolWt</th>\n",
       "      <th>HeavyAtomMolWt</th>\n",
       "      <th>ExactMolWt</th>\n",
       "      <th>...</th>\n",
       "      <th>fr_sulfide</th>\n",
       "      <th>fr_sulfonamd</th>\n",
       "      <th>fr_sulfone</th>\n",
       "      <th>fr_term_acetylene</th>\n",
       "      <th>fr_tetrazole</th>\n",
       "      <th>fr_thiazole</th>\n",
       "      <th>fr_thiocyan</th>\n",
       "      <th>fr_thiophene</th>\n",
       "      <th>fr_unbrch_alkane</th>\n",
       "      <th>fr_urea</th>\n",
       "    </tr>\n",
       "  </thead>\n",
       "  <tbody>\n",
       "    <tr>\n",
       "      <th>count</th>\n",
       "      <td>14139.000000</td>\n",
       "      <td>14139.000000</td>\n",
       "      <td>14139.000000</td>\n",
       "      <td>14139.000000</td>\n",
       "      <td>14139.000000</td>\n",
       "      <td>14139.000000</td>\n",
       "      <td>14139.000000</td>\n",
       "      <td>14139.000000</td>\n",
       "      <td>14139.000000</td>\n",
       "      <td>14139.000000</td>\n",
       "      <td>...</td>\n",
       "      <td>14139.000000</td>\n",
       "      <td>14139.000000</td>\n",
       "      <td>14139.000000</td>\n",
       "      <td>14139.000000</td>\n",
       "      <td>14139.000000</td>\n",
       "      <td>14139.000000</td>\n",
       "      <td>14139.000000</td>\n",
       "      <td>14139.000000</td>\n",
       "      <td>14139.000000</td>\n",
       "      <td>14139.000000</td>\n",
       "    </tr>\n",
       "    <tr>\n",
       "      <th>mean</th>\n",
       "      <td>7108.040455</td>\n",
       "      <td>2.072912</td>\n",
       "      <td>10.013862</td>\n",
       "      <td>-0.699051</td>\n",
       "      <td>10.013862</td>\n",
       "      <td>0.288489</td>\n",
       "      <td>0.602197</td>\n",
       "      <td>253.448640</td>\n",
       "      <td>238.752971</td>\n",
       "      <td>253.067789</td>\n",
       "      <td>...</td>\n",
       "      <td>0.051489</td>\n",
       "      <td>0.049013</td>\n",
       "      <td>0.018247</td>\n",
       "      <td>0.008416</td>\n",
       "      <td>0.005800</td>\n",
       "      <td>0.012377</td>\n",
       "      <td>0.000566</td>\n",
       "      <td>0.016055</td>\n",
       "      <td>0.252564</td>\n",
       "      <td>0.052196</td>\n",
       "    </tr>\n",
       "    <tr>\n",
       "      <th>std</th>\n",
       "      <td>4095.683232</td>\n",
       "      <td>1.825006</td>\n",
       "      <td>2.988521</td>\n",
       "      <td>1.369446</td>\n",
       "      <td>2.988521</td>\n",
       "      <td>0.341518</td>\n",
       "      <td>0.170423</td>\n",
       "      <td>108.698612</td>\n",
       "      <td>102.524970</td>\n",
       "      <td>108.526426</td>\n",
       "      <td>...</td>\n",
       "      <td>0.239730</td>\n",
       "      <td>0.231400</td>\n",
       "      <td>0.134902</td>\n",
       "      <td>0.105714</td>\n",
       "      <td>0.075936</td>\n",
       "      <td>0.110566</td>\n",
       "      <td>0.023781</td>\n",
       "      <td>0.130658</td>\n",
       "      <td>1.091289</td>\n",
       "      <td>0.234806</td>\n",
       "    </tr>\n",
       "    <tr>\n",
       "      <th>min</th>\n",
       "      <td>1.000000</td>\n",
       "      <td>-5.080000</td>\n",
       "      <td>1.500000</td>\n",
       "      <td>-9.751681</td>\n",
       "      <td>1.500000</td>\n",
       "      <td>0.000000</td>\n",
       "      <td>0.023462</td>\n",
       "      <td>40.065000</td>\n",
       "      <td>36.033000</td>\n",
       "      <td>40.031300</td>\n",
       "      <td>...</td>\n",
       "      <td>0.000000</td>\n",
       "      <td>0.000000</td>\n",
       "      <td>0.000000</td>\n",
       "      <td>0.000000</td>\n",
       "      <td>0.000000</td>\n",
       "      <td>0.000000</td>\n",
       "      <td>0.000000</td>\n",
       "      <td>0.000000</td>\n",
       "      <td>0.000000</td>\n",
       "      <td>0.000000</td>\n",
       "    </tr>\n",
       "    <tr>\n",
       "      <th>25%</th>\n",
       "      <td>3562.500000</td>\n",
       "      <td>0.890000</td>\n",
       "      <td>9.016190</td>\n",
       "      <td>-0.981904</td>\n",
       "      <td>9.016190</td>\n",
       "      <td>0.069607</td>\n",
       "      <td>0.488372</td>\n",
       "      <td>178.235000</td>\n",
       "      <td>168.107000</td>\n",
       "      <td>178.110613</td>\n",
       "      <td>...</td>\n",
       "      <td>0.000000</td>\n",
       "      <td>0.000000</td>\n",
       "      <td>0.000000</td>\n",
       "      <td>0.000000</td>\n",
       "      <td>0.000000</td>\n",
       "      <td>0.000000</td>\n",
       "      <td>0.000000</td>\n",
       "      <td>0.000000</td>\n",
       "      <td>0.000000</td>\n",
       "      <td>0.000000</td>\n",
       "    </tr>\n",
       "    <tr>\n",
       "      <th>50%</th>\n",
       "      <td>7110.000000</td>\n",
       "      <td>1.990000</td>\n",
       "      <td>10.998636</td>\n",
       "      <td>-0.440579</td>\n",
       "      <td>10.998636</td>\n",
       "      <td>0.174630</td>\n",
       "      <td>0.609702</td>\n",
       "      <td>237.690000</td>\n",
       "      <td>224.174000</td>\n",
       "      <td>237.172879</td>\n",
       "      <td>...</td>\n",
       "      <td>0.000000</td>\n",
       "      <td>0.000000</td>\n",
       "      <td>0.000000</td>\n",
       "      <td>0.000000</td>\n",
       "      <td>0.000000</td>\n",
       "      <td>0.000000</td>\n",
       "      <td>0.000000</td>\n",
       "      <td>0.000000</td>\n",
       "      <td>0.000000</td>\n",
       "      <td>0.000000</td>\n",
       "    </tr>\n",
       "    <tr>\n",
       "      <th>75%</th>\n",
       "      <td>10653.500000</td>\n",
       "      <td>3.150000</td>\n",
       "      <td>11.989385</td>\n",
       "      <td>0.094932</td>\n",
       "      <td>11.989385</td>\n",
       "      <td>0.373769</td>\n",
       "      <td>0.734137</td>\n",
       "      <td>307.991000</td>\n",
       "      <td>291.198000</td>\n",
       "      <td>306.990551</td>\n",
       "      <td>...</td>\n",
       "      <td>0.000000</td>\n",
       "      <td>0.000000</td>\n",
       "      <td>0.000000</td>\n",
       "      <td>0.000000</td>\n",
       "      <td>0.000000</td>\n",
       "      <td>0.000000</td>\n",
       "      <td>0.000000</td>\n",
       "      <td>0.000000</td>\n",
       "      <td>0.000000</td>\n",
       "      <td>0.000000</td>\n",
       "    </tr>\n",
       "    <tr>\n",
       "      <th>max</th>\n",
       "      <td>14207.000000</td>\n",
       "      <td>11.290000</td>\n",
       "      <td>17.532414</td>\n",
       "      <td>2.250000</td>\n",
       "      <td>17.532414</td>\n",
       "      <td>7.352500</td>\n",
       "      <td>0.943451</td>\n",
       "      <td>1202.635000</td>\n",
       "      <td>1090.747000</td>\n",
       "      <td>1201.841368</td>\n",
       "      <td>...</td>\n",
       "      <td>3.000000</td>\n",
       "      <td>2.000000</td>\n",
       "      <td>2.000000</td>\n",
       "      <td>3.000000</td>\n",
       "      <td>1.000000</td>\n",
       "      <td>1.000000</td>\n",
       "      <td>1.000000</td>\n",
       "      <td>3.000000</td>\n",
       "      <td>26.000000</td>\n",
       "      <td>2.000000</td>\n",
       "    </tr>\n",
       "  </tbody>\n",
       "</table>\n",
       "<p>8 rows × 210 columns</p>\n",
       "</div>"
      ],
      "text/plain": [
       "         Unnamed: 0           Kow  MaxEStateIndex  MinEStateIndex  \\\n",
       "count  14139.000000  14139.000000    14139.000000    14139.000000   \n",
       "mean    7108.040455      2.072912       10.013862       -0.699051   \n",
       "std     4095.683232      1.825006        2.988521        1.369446   \n",
       "min        1.000000     -5.080000        1.500000       -9.751681   \n",
       "25%     3562.500000      0.890000        9.016190       -0.981904   \n",
       "50%     7110.000000      1.990000       10.998636       -0.440579   \n",
       "75%    10653.500000      3.150000       11.989385        0.094932   \n",
       "max    14207.000000     11.290000       17.532414        2.250000   \n",
       "\n",
       "       MaxAbsEStateIndex  MinAbsEStateIndex           qed         MolWt  \\\n",
       "count       14139.000000       14139.000000  14139.000000  14139.000000   \n",
       "mean           10.013862           0.288489      0.602197    253.448640   \n",
       "std             2.988521           0.341518      0.170423    108.698612   \n",
       "min             1.500000           0.000000      0.023462     40.065000   \n",
       "25%             9.016190           0.069607      0.488372    178.235000   \n",
       "50%            10.998636           0.174630      0.609702    237.690000   \n",
       "75%            11.989385           0.373769      0.734137    307.991000   \n",
       "max            17.532414           7.352500      0.943451   1202.635000   \n",
       "\n",
       "       HeavyAtomMolWt    ExactMolWt  ...    fr_sulfide  fr_sulfonamd  \\\n",
       "count    14139.000000  14139.000000  ...  14139.000000  14139.000000   \n",
       "mean       238.752971    253.067789  ...      0.051489      0.049013   \n",
       "std        102.524970    108.526426  ...      0.239730      0.231400   \n",
       "min         36.033000     40.031300  ...      0.000000      0.000000   \n",
       "25%        168.107000    178.110613  ...      0.000000      0.000000   \n",
       "50%        224.174000    237.172879  ...      0.000000      0.000000   \n",
       "75%        291.198000    306.990551  ...      0.000000      0.000000   \n",
       "max       1090.747000   1201.841368  ...      3.000000      2.000000   \n",
       "\n",
       "         fr_sulfone  fr_term_acetylene  fr_tetrazole   fr_thiazole  \\\n",
       "count  14139.000000       14139.000000  14139.000000  14139.000000   \n",
       "mean       0.018247           0.008416      0.005800      0.012377   \n",
       "std        0.134902           0.105714      0.075936      0.110566   \n",
       "min        0.000000           0.000000      0.000000      0.000000   \n",
       "25%        0.000000           0.000000      0.000000      0.000000   \n",
       "50%        0.000000           0.000000      0.000000      0.000000   \n",
       "75%        0.000000           0.000000      0.000000      0.000000   \n",
       "max        2.000000           3.000000      1.000000      1.000000   \n",
       "\n",
       "        fr_thiocyan  fr_thiophene  fr_unbrch_alkane       fr_urea  \n",
       "count  14139.000000  14139.000000      14139.000000  14139.000000  \n",
       "mean       0.000566      0.016055          0.252564      0.052196  \n",
       "std        0.023781      0.130658          1.091289      0.234806  \n",
       "min        0.000000      0.000000          0.000000      0.000000  \n",
       "25%        0.000000      0.000000          0.000000      0.000000  \n",
       "50%        0.000000      0.000000          0.000000      0.000000  \n",
       "75%        0.000000      0.000000          0.000000      0.000000  \n",
       "max        1.000000      3.000000         26.000000      2.000000  \n",
       "\n",
       "[8 rows x 210 columns]"
      ]
     },
     "execution_count": 18,
     "metadata": {},
     "output_type": "execute_result"
    }
   ],
   "source": [
    "logp.describe()"
   ]
  },
  {
   "cell_type": "code",
   "execution_count": 19,
   "metadata": {},
   "outputs": [
    {
     "data": {
      "text/html": [
       "<div>\n",
       "<style scoped>\n",
       "    .dataframe tbody tr th:only-of-type {\n",
       "        vertical-align: middle;\n",
       "    }\n",
       "\n",
       "    .dataframe tbody tr th {\n",
       "        vertical-align: top;\n",
       "    }\n",
       "\n",
       "    .dataframe thead th {\n",
       "        text-align: right;\n",
       "    }\n",
       "</style>\n",
       "<table border=\"1\" class=\"dataframe\">\n",
       "  <thead>\n",
       "    <tr style=\"text-align: right;\">\n",
       "      <th></th>\n",
       "      <th>Unnamed: 0</th>\n",
       "      <th>SMILES</th>\n",
       "      <th>Kow</th>\n",
       "      <th>Molecule</th>\n",
       "      <th>MorgFP</th>\n",
       "      <th>Descriptors</th>\n",
       "      <th>MaxEStateIndex</th>\n",
       "      <th>MinEStateIndex</th>\n",
       "      <th>MaxAbsEStateIndex</th>\n",
       "      <th>MinAbsEStateIndex</th>\n",
       "      <th>...</th>\n",
       "      <th>fr_sulfide</th>\n",
       "      <th>fr_sulfonamd</th>\n",
       "      <th>fr_sulfone</th>\n",
       "      <th>fr_term_acetylene</th>\n",
       "      <th>fr_tetrazole</th>\n",
       "      <th>fr_thiazole</th>\n",
       "      <th>fr_thiocyan</th>\n",
       "      <th>fr_thiophene</th>\n",
       "      <th>fr_unbrch_alkane</th>\n",
       "      <th>fr_urea</th>\n",
       "    </tr>\n",
       "  </thead>\n",
       "  <tbody>\n",
       "    <tr>\n",
       "      <th>0</th>\n",
       "      <td>1</td>\n",
       "      <td>CC1CC2C3CCC4=CC(=O)C=CC4(C)C3(F)C(O)CC2(C)C1(O...</td>\n",
       "      <td>1.885</td>\n",
       "      <td><img data-content=\"rdkit/molecule\" src=\"data:image/png;base64,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\" alt=\"Mol\"/></td>\n",
       "      <td>[1, 0, 1, 1, 0, 0, 0, 0, 1, 0, 0, 0, 0, 0, 0, ...</td>\n",
       "      <td>[16.85906328735198, -1.980464025888133, 16.859...</td>\n",
       "      <td>16.859063</td>\n",
       "      <td>-1.980464</td>\n",
       "      <td>16.859063</td>\n",
       "      <td>0.067556</td>\n",
       "      <td>...</td>\n",
       "      <td>0</td>\n",
       "      <td>0</td>\n",
       "      <td>0</td>\n",
       "      <td>0</td>\n",
       "      <td>0</td>\n",
       "      <td>0</td>\n",
       "      <td>0</td>\n",
       "      <td>0</td>\n",
       "      <td>0</td>\n",
       "      <td>0</td>\n",
       "    </tr>\n",
       "    <tr>\n",
       "      <th>1</th>\n",
       "      <td>2</td>\n",
       "      <td>CC(=O)OCC(=O)C1(O)CCC2C3CCC4=CC(=O)CCC4(C)C3C(...</td>\n",
       "      <td>2.190</td>\n",
       "      <td><img data-content=\"rdkit/molecule\" src=\"data:image/png;base64,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\" alt=\"Mol\"/></td>\n",
       "      <td>[1, 0, 1, 1, 0, 0, 0, 0, 0, 0, 0, 0, 0, 0, 0, ...</td>\n",
       "      <td>[12.870042992779961, -1.5847037456958093, 12.8...</td>\n",
       "      <td>12.870043</td>\n",
       "      <td>-1.584704</td>\n",
       "      <td>12.870043</td>\n",
       "      <td>0.041293</td>\n",
       "      <td>...</td>\n",
       "      <td>0</td>\n",
       "      <td>0</td>\n",
       "      <td>0</td>\n",
       "      <td>0</td>\n",
       "      <td>0</td>\n",
       "      <td>0</td>\n",
       "      <td>0</td>\n",
       "      <td>0</td>\n",
       "      <td>0</td>\n",
       "      <td>0</td>\n",
       "    </tr>\n",
       "    <tr>\n",
       "      <th>2</th>\n",
       "      <td>3</td>\n",
       "      <td>CC(=O)OCC(=O)C1(O)CCC2C3CCC4=CC(=O)CCC4(C)C3C(...</td>\n",
       "      <td>2.100</td>\n",
       "      <td><img data-content=\"rdkit/molecule\" src=\"data:image/png;base64,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\" alt=\"Mol\"/></td>\n",
       "      <td>[1, 0, 1, 1, 0, 0, 0, 0, 0, 0, 0, 0, 0, 0, 0, ...</td>\n",
       "      <td>[13.474536223439994, -1.6455370790291424, 13.4...</td>\n",
       "      <td>13.474536</td>\n",
       "      <td>-1.645537</td>\n",
       "      <td>13.474536</td>\n",
       "      <td>0.062483</td>\n",
       "      <td>...</td>\n",
       "      <td>0</td>\n",
       "      <td>0</td>\n",
       "      <td>0</td>\n",
       "      <td>0</td>\n",
       "      <td>0</td>\n",
       "      <td>0</td>\n",
       "      <td>0</td>\n",
       "      <td>0</td>\n",
       "      <td>0</td>\n",
       "      <td>0</td>\n",
       "    </tr>\n",
       "    <tr>\n",
       "      <th>3</th>\n",
       "      <td>4</td>\n",
       "      <td>CCC1(c2ccccc2)C(=O)NC(=O)NC1=O</td>\n",
       "      <td>1.470</td>\n",
       "      <td><img data-content=\"rdkit/molecule\" src=\"data:image/png;base64,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\" alt=\"Mol\"/></td>\n",
       "      <td>[1, 1, 1, 0, 1, 0, 0, 0, 0, 0, 0, 0, 0, 0, 0, ...</td>\n",
       "      <td>[11.97579081632653, -1.310347222222222, 11.975...</td>\n",
       "      <td>11.975791</td>\n",
       "      <td>-1.310347</td>\n",
       "      <td>11.975791</td>\n",
       "      <td>0.293611</td>\n",
       "      <td>...</td>\n",
       "      <td>0</td>\n",
       "      <td>0</td>\n",
       "      <td>0</td>\n",
       "      <td>0</td>\n",
       "      <td>0</td>\n",
       "      <td>0</td>\n",
       "      <td>0</td>\n",
       "      <td>0</td>\n",
       "      <td>0</td>\n",
       "      <td>1</td>\n",
       "    </tr>\n",
       "    <tr>\n",
       "      <th>4</th>\n",
       "      <td>5</td>\n",
       "      <td>COC12C(COC(N)=O)C3=C(C(=O)C(C)=C(N)C3=O)N1CC1NC12</td>\n",
       "      <td>-0.400</td>\n",
       "      <td><img data-content=\"rdkit/molecule\" src=\"data:image/png;base64,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\" alt=\"Mol\"/></td>\n",
       "      <td>[1, 1, 1, 0, 0, 0, 0, 0, 0, 0, 0, 0, 0, 0, 0, ...</td>\n",
       "      <td>[12.77067649281935, -0.957337962962963, 12.770...</td>\n",
       "      <td>12.770676</td>\n",
       "      <td>-0.957338</td>\n",
       "      <td>12.770676</td>\n",
       "      <td>0.058604</td>\n",
       "      <td>...</td>\n",
       "      <td>0</td>\n",
       "      <td>0</td>\n",
       "      <td>0</td>\n",
       "      <td>0</td>\n",
       "      <td>0</td>\n",
       "      <td>0</td>\n",
       "      <td>0</td>\n",
       "      <td>0</td>\n",
       "      <td>0</td>\n",
       "      <td>0</td>\n",
       "    </tr>\n",
       "  </tbody>\n",
       "</table>\n",
       "<p>5 rows × 214 columns</p>\n",
       "</div>"
      ],
      "text/plain": [
       "   Unnamed: 0                                             SMILES    Kow  \\\n",
       "0           1  CC1CC2C3CCC4=CC(=O)C=CC4(C)C3(F)C(O)CC2(C)C1(O...  1.885   \n",
       "1           2  CC(=O)OCC(=O)C1(O)CCC2C3CCC4=CC(=O)CCC4(C)C3C(...  2.190   \n",
       "2           3  CC(=O)OCC(=O)C1(O)CCC2C3CCC4=CC(=O)CCC4(C)C3C(...  2.100   \n",
       "3           4                     CCC1(c2ccccc2)C(=O)NC(=O)NC1=O  1.470   \n",
       "4           5  COC12C(COC(N)=O)C3=C(C(=O)C(C)=C(N)C3=O)N1CC1NC12 -0.400   \n",
       "\n",
       "                                            Molecule  \\\n",
       "0  <img data-content=\"rdkit/molecule\" src=\"data:i...   \n",
       "1  <img data-content=\"rdkit/molecule\" src=\"data:i...   \n",
       "2  <img data-content=\"rdkit/molecule\" src=\"data:i...   \n",
       "3  <img data-content=\"rdkit/molecule\" src=\"data:i...   \n",
       "4  <img data-content=\"rdkit/molecule\" src=\"data:i...   \n",
       "\n",
       "                                              MorgFP  \\\n",
       "0  [1, 0, 1, 1, 0, 0, 0, 0, 1, 0, 0, 0, 0, 0, 0, ...   \n",
       "1  [1, 0, 1, 1, 0, 0, 0, 0, 0, 0, 0, 0, 0, 0, 0, ...   \n",
       "2  [1, 0, 1, 1, 0, 0, 0, 0, 0, 0, 0, 0, 0, 0, 0, ...   \n",
       "3  [1, 1, 1, 0, 1, 0, 0, 0, 0, 0, 0, 0, 0, 0, 0, ...   \n",
       "4  [1, 1, 1, 0, 0, 0, 0, 0, 0, 0, 0, 0, 0, 0, 0, ...   \n",
       "\n",
       "                                         Descriptors  MaxEStateIndex  \\\n",
       "0  [16.85906328735198, -1.980464025888133, 16.859...       16.859063   \n",
       "1  [12.870042992779961, -1.5847037456958093, 12.8...       12.870043   \n",
       "2  [13.474536223439994, -1.6455370790291424, 13.4...       13.474536   \n",
       "3  [11.97579081632653, -1.310347222222222, 11.975...       11.975791   \n",
       "4  [12.77067649281935, -0.957337962962963, 12.770...       12.770676   \n",
       "\n",
       "   MinEStateIndex  MaxAbsEStateIndex  MinAbsEStateIndex  ...  fr_sulfide  \\\n",
       "0       -1.980464          16.859063           0.067556  ...           0   \n",
       "1       -1.584704          12.870043           0.041293  ...           0   \n",
       "2       -1.645537          13.474536           0.062483  ...           0   \n",
       "3       -1.310347          11.975791           0.293611  ...           0   \n",
       "4       -0.957338          12.770676           0.058604  ...           0   \n",
       "\n",
       "   fr_sulfonamd  fr_sulfone  fr_term_acetylene  fr_tetrazole  fr_thiazole  \\\n",
       "0             0           0                  0             0            0   \n",
       "1             0           0                  0             0            0   \n",
       "2             0           0                  0             0            0   \n",
       "3             0           0                  0             0            0   \n",
       "4             0           0                  0             0            0   \n",
       "\n",
       "   fr_thiocyan  fr_thiophene  fr_unbrch_alkane  fr_urea  \n",
       "0            0             0                 0        0  \n",
       "1            0             0                 0        0  \n",
       "2            0             0                 0        0  \n",
       "3            0             0                 0        1  \n",
       "4            0             0                 0        0  \n",
       "\n",
       "[5 rows x 214 columns]"
      ]
     },
     "execution_count": 19,
     "metadata": {},
     "output_type": "execute_result"
    }
   ],
   "source": [
    "logp.head()"
   ]
  },
  {
   "cell_type": "markdown",
   "metadata": {},
   "source": [
    "# Random Forest Regression with Default Parameters and Morgan Fingerprints"
   ]
  },
  {
   "cell_type": "markdown",
   "metadata": {},
   "source": [
    "## Split and Preprocess the Data"
   ]
  },
  {
   "cell_type": "code",
   "execution_count": 37,
   "metadata": {},
   "outputs": [],
   "source": [
    "X = logp[\"MorgFP\"].values\n",
    "y = logp[\"Kow\"].values"
   ]
  },
  {
   "cell_type": "code",
   "execution_count": 38,
   "metadata": {},
   "outputs": [],
   "source": [
    "from sklearn.model_selection import ShuffleSplit\n",
    "from sklearn.model_selection import train_test_split\n",
    "\n",
    "split = ShuffleSplit(n_splits=1, test_size=0.2, random_state=42)\n",
    "\n",
    "for train_index, test_index in split.split(X, y):\n",
    "    X_train, X_test = X[train_index], X[test_index]\n",
    "    y_train, y_test = y[train_index], y[test_index]\n",
    "    \n",
    "X_remaining, X_valid, y_remaining, y_valid = train_test_split(X, y, test_size=0.25, random_state=42)"
   ]
  },
  {
   "cell_type": "code",
   "execution_count": 39,
   "metadata": {},
   "outputs": [],
   "source": [
    "def convert_to_Numpy(column):\n",
    "    col_np = []\n",
    "    for fp in column:\n",
    "        arr = np.zeros((1,))\n",
    "        DataStructs.ConvertToNumpyArray(fp, arr)\n",
    "        col_np.append(arr)\n",
    "    return col_np"
   ]
  },
  {
   "cell_type": "code",
   "execution_count": 40,
   "metadata": {},
   "outputs": [],
   "source": [
    "X_train = convert_to_Numpy(X_train)\n",
    "X_test = convert_to_Numpy(X_test)\n",
    "X_valid = convert_to_Numpy(X_valid)\n",
    "\n",
    "X_train = np.array(X_train)\n",
    "X_test = np.array(X_test)\n",
    "X_valid = np.array(X_valid)"
   ]
  },
  {
   "cell_type": "code",
   "execution_count": 41,
   "metadata": {},
   "outputs": [
    {
     "name": "stdout",
     "output_type": "stream",
     "text": [
      "<class 'numpy.ndarray'>\n",
      "<class 'numpy.ndarray'>\n",
      "<class 'numpy.ndarray'>\n",
      "<class 'numpy.ndarray'>\n",
      "<class 'numpy.ndarray'>\n",
      "<class 'numpy.ndarray'>\n"
     ]
    }
   ],
   "source": [
    "print(type(X_train))\n",
    "print(type(y_train))\n",
    "print(type(X_test))\n",
    "print(type(y_test))\n",
    "print(type(X_valid))\n",
    "print(type(y_valid))"
   ]
  },
  {
   "cell_type": "code",
   "execution_count": 42,
   "metadata": {},
   "outputs": [],
   "source": [
    "from sklearn.preprocessing import StandardScaler\n",
    "\n",
    "sc = StandardScaler()\n",
    "X_train = sc.fit_transform(X_train)\n",
    "X_valid = sc.transform(X_valid)\n",
    "X_test = sc.transform(X_test)"
   ]
  },
  {
   "cell_type": "markdown",
   "metadata": {},
   "source": [
    "## Random Forest Regression"
   ]
  },
  {
   "cell_type": "code",
   "execution_count": 43,
   "metadata": {},
   "outputs": [
    {
     "name": "stderr",
     "output_type": "stream",
     "text": [
      "/opt/anaconda3/envs/tf2/lib/python3.7/site-packages/sklearn/ensemble/forest.py:245: FutureWarning: The default value of n_estimators will change from 10 in version 0.20 to 100 in 0.22.\n",
      "  \"10 in version 0.20 to 100 in 0.22.\", FutureWarning)\n"
     ]
    },
    {
     "data": {
      "text/plain": [
       "RandomForestRegressor(bootstrap=True, criterion='mse', max_depth=None,\n",
       "                      max_features='auto', max_leaf_nodes=None,\n",
       "                      min_impurity_decrease=0.0, min_impurity_split=None,\n",
       "                      min_samples_leaf=1, min_samples_split=2,\n",
       "                      min_weight_fraction_leaf=0.0, n_estimators=10,\n",
       "                      n_jobs=None, oob_score=False, random_state=42, verbose=0,\n",
       "                      warm_start=False)"
      ]
     },
     "execution_count": 43,
     "metadata": {},
     "output_type": "execute_result"
    }
   ],
   "source": [
    "from sklearn.ensemble import RandomForestRegressor\n",
    "from sklearn.model_selection import cross_val_predict\n",
    "\n",
    "forest_reg = RandomForestRegressor(random_state=42)\n",
    "forest_reg.fit(X_train, y_train)"
   ]
  },
  {
   "cell_type": "code",
   "execution_count": 44,
   "metadata": {},
   "outputs": [
    {
     "data": {
      "text/plain": [
       "{'bootstrap': True,\n",
       " 'criterion': 'mse',\n",
       " 'max_depth': None,\n",
       " 'max_features': 'auto',\n",
       " 'max_leaf_nodes': None,\n",
       " 'min_impurity_decrease': 0.0,\n",
       " 'min_impurity_split': None,\n",
       " 'min_samples_leaf': 1,\n",
       " 'min_samples_split': 2,\n",
       " 'min_weight_fraction_leaf': 0.0,\n",
       " 'n_estimators': 10,\n",
       " 'n_jobs': None,\n",
       " 'oob_score': False,\n",
       " 'random_state': 42,\n",
       " 'verbose': 0,\n",
       " 'warm_start': False}"
      ]
     },
     "execution_count": 44,
     "metadata": {},
     "output_type": "execute_result"
    }
   ],
   "source": [
    "forest_reg.get_params()"
   ]
  },
  {
   "cell_type": "markdown",
   "metadata": {},
   "source": [
    "## RMSE Values "
   ]
  },
  {
   "cell_type": "markdown",
   "metadata": {},
   "source": [
    "### Training Dataset"
   ]
  },
  {
   "cell_type": "code",
   "execution_count": 45,
   "metadata": {},
   "outputs": [
    {
     "data": {
      "text/plain": [
       "0.41787731191714317"
      ]
     },
     "execution_count": 45,
     "metadata": {},
     "output_type": "execute_result"
    }
   ],
   "source": [
    "from sklearn.metrics import mean_squared_error\n",
    "\n",
    "y_train_pred = forest_reg.predict(X_train)\n",
    "forest_mse = mean_squared_error(y_train, y_train_pred)\n",
    "forest_rmse = np.sqrt(forest_mse)\n",
    "forest_rmse"
   ]
  },
  {
   "cell_type": "markdown",
   "metadata": {},
   "source": [
    "### Validation Dataset"
   ]
  },
  {
   "cell_type": "code",
   "execution_count": 46,
   "metadata": {},
   "outputs": [
    {
     "data": {
      "text/plain": [
       "0.7768954616282094"
      ]
     },
     "execution_count": 46,
     "metadata": {},
     "output_type": "execute_result"
    }
   ],
   "source": [
    "from sklearn.metrics import mean_squared_error\n",
    "\n",
    "y_valid_pred = forest_reg.predict(X_valid)\n",
    "forest_mse = mean_squared_error(y_valid, y_valid_pred)\n",
    "forest_rmse = np.sqrt(forest_mse)\n",
    "forest_rmse"
   ]
  },
  {
   "cell_type": "markdown",
   "metadata": {},
   "source": [
    "### Test Dataset "
   ]
  },
  {
   "cell_type": "code",
   "execution_count": 47,
   "metadata": {},
   "outputs": [
    {
     "data": {
      "text/plain": [
       "0.8468010969686112"
      ]
     },
     "execution_count": 47,
     "metadata": {},
     "output_type": "execute_result"
    }
   ],
   "source": [
    "from sklearn.metrics import mean_squared_error\n",
    "\n",
    "y_test_pred = forest_reg.predict(X_test)\n",
    "forest_mse = mean_squared_error(y_test, y_test_pred)\n",
    "forest_rmse = np.sqrt(forest_mse)\n",
    "forest_rmse"
   ]
  },
  {
   "cell_type": "markdown",
   "metadata": {},
   "source": [
    "* Training RMSE is much lower meaning the model is trying to overfit the data. "
   ]
  },
  {
   "cell_type": "markdown",
   "metadata": {},
   "source": [
    "# Random Forest Regression with Grid Search and Morgan Fingerprints"
   ]
  },
  {
   "cell_type": "code",
   "execution_count": 48,
   "metadata": {},
   "outputs": [
    {
     "data": {
      "text/plain": [
       "4320"
      ]
     },
     "execution_count": 48,
     "metadata": {},
     "output_type": "execute_result"
    }
   ],
   "source": [
    "param_grid = {\n",
    "        'n_estimators': [10, 50, 100, 200, 300, 400, 500, 1000],  \n",
    "        'max_depth': range(3, 12),\n",
    "        'min_samples_leaf': [1, 3, 5, 10, 20, 50],\n",
    "        'min_impurity_decrease': [0, 0.01] ,\n",
    "        'max_features':  ['sqrt', 'log2', 0.7, 0.8, 0.9]\n",
    "        }\n",
    "\n",
    "from sklearn.model_selection import ParameterGrid\n",
    "grid = ParameterGrid(param_grid)\n",
    "\n",
    "len(grid)"
   ]
  },
  {
   "cell_type": "code",
   "execution_count": null,
   "metadata": {},
   "outputs": [
    {
     "name": "stderr",
     "output_type": "stream",
     "text": [
      " 17%|█▋        | 735/4320 [15:17:50<187:01:03, 187.80s/it]"
     ]
    }
   ],
   "source": [
    "from tqdm import tqdm\n",
    "from sklearn.metrics import mean_squared_error\n",
    "\n",
    "best_model = None\n",
    "best_rmse=np.inf\n",
    "best_param = {}\n",
    "for this_param in tqdm(grid):\n",
    "    this_model = RandomForestRegressor(**this_param, random_state=42)\n",
    "    this_model.fit(X_train, y_train)\n",
    "    forest_mse = mean_squared_error(y_valid, this_model.predict(X_valid))\n",
    "    forest_rmse = np.sqrt(forest_mse)\n",
    "    if best_rmse > forest_rmse:\n",
    "        best_model = this_model\n",
    "        best_rmse = forest_rmse\n",
    "        best_param = this_param"
   ]
  },
  {
   "cell_type": "code",
   "execution_count": null,
   "metadata": {},
   "outputs": [],
   "source": [
    "print(best_param)"
   ]
  },
  {
   "cell_type": "markdown",
   "metadata": {},
   "source": [
    "## RMSE Values"
   ]
  },
  {
   "cell_type": "markdown",
   "metadata": {},
   "source": [
    "### Training Dataset"
   ]
  },
  {
   "cell_type": "code",
   "execution_count": null,
   "metadata": {},
   "outputs": [],
   "source": [
    "y_train_pred = best_model.predict(X_train)\n",
    "\n",
    "forest_mse = mean_squared_error(y_train, y_train_pred)\n",
    "forest_rmse = np.sqrt(forest_mse)\n",
    "forest_rmse"
   ]
  },
  {
   "cell_type": "markdown",
   "metadata": {},
   "source": [
    "### Validation Dataset "
   ]
  },
  {
   "cell_type": "code",
   "execution_count": null,
   "metadata": {},
   "outputs": [],
   "source": [
    "y_valid_pred =best_model.predict(X_valid)\n",
    "\n",
    "forest_mse = mean_squared_error(y_valid, y_valid_pred)\n",
    "forest_rmse = np.sqrt(forest_mse)\n",
    "forest_rmse"
   ]
  },
  {
   "cell_type": "markdown",
   "metadata": {},
   "source": [
    "### Test Dataset "
   ]
  },
  {
   "cell_type": "code",
   "execution_count": null,
   "metadata": {},
   "outputs": [],
   "source": [
    "y_test_pred = best_model.predict(X_test)\n",
    "\n",
    "forest_mse = mean_squared_error(y_test, y_test_pred)\n",
    "forest_rmse = np.sqrt(forest_mse)\n",
    "forest_rmse"
   ]
  },
  {
   "cell_type": "markdown",
   "metadata": {},
   "source": [
    "# Random Forest Regression with Default Parameters and Descriptors"
   ]
  },
  {
   "cell_type": "markdown",
   "metadata": {},
   "source": [
    "## Split and Preprocess the Data "
   ]
  },
  {
   "cell_type": "code",
   "execution_count": null,
   "metadata": {},
   "outputs": [],
   "source": [
    "X = logp.drop([\"SMILES\",\"Kow\", \"Molecule\", \"MorgFP\", \"Descriptors\"], axis = 1).values\n",
    "y = logp[\"Kow\"].values"
   ]
  },
  {
   "cell_type": "code",
   "execution_count": null,
   "metadata": {},
   "outputs": [],
   "source": [
    "from sklearn.model_selection import ShuffleSplit\n",
    "from sklearn.model_selection import train_test_split\n",
    "\n",
    "split = ShuffleSplit(n_splits=1, test_size=0.2, random_state=42)\n",
    "\n",
    "for train_index, test_index in split.split(X, y):\n",
    "    X_train, X_test = X[train_index], X[test_index]\n",
    "    y_train, y_test = y[train_index], y[test_index]\n",
    "    \n",
    "X_remaining, X_valid, y_remaining, y_valid = train_test_split(X, y, test_size=0.2, random_state=42)"
   ]
  },
  {
   "cell_type": "code",
   "execution_count": null,
   "metadata": {},
   "outputs": [],
   "source": [
    "X_train = np.array(X_train)\n",
    "X_test = np.array(X_test)\n",
    "X_valid = np.array(X_valid)"
   ]
  },
  {
   "cell_type": "code",
   "execution_count": null,
   "metadata": {},
   "outputs": [],
   "source": [
    "print(type(X_train))\n",
    "print(type(y_train))\n",
    "print(type(X_test))\n",
    "print(type(y_test))\n",
    "print(type(X_valid))\n",
    "print(type(y_valid))"
   ]
  },
  {
   "cell_type": "code",
   "execution_count": null,
   "metadata": {},
   "outputs": [],
   "source": [
    "from sklearn.preprocessing import StandardScaler\n",
    "\n",
    "sc = StandardScaler()\n",
    "X_train = sc.fit_transform(X_train)\n",
    "X_test = sc.transform(X_test)"
   ]
  },
  {
   "cell_type": "markdown",
   "metadata": {},
   "source": [
    "## Random Forest Regression"
   ]
  },
  {
   "cell_type": "code",
   "execution_count": null,
   "metadata": {},
   "outputs": [],
   "source": [
    "from sklearn.ensemble import RandomForestRegressor\n",
    "from sklearn.model_selection import cross_val_predict\n",
    "\n",
    "forest_reg = RandomForestRegressor(random_state=42)\n",
    "forest_reg.fit(X_train, y_train)"
   ]
  },
  {
   "cell_type": "code",
   "execution_count": null,
   "metadata": {},
   "outputs": [],
   "source": [
    "forest_reg.get_params()"
   ]
  },
  {
   "cell_type": "markdown",
   "metadata": {},
   "source": [
    "## RMSE Values "
   ]
  },
  {
   "cell_type": "markdown",
   "metadata": {},
   "source": [
    "### Training Dataset"
   ]
  },
  {
   "cell_type": "code",
   "execution_count": null,
   "metadata": {},
   "outputs": [],
   "source": [
    "from sklearn.metrics import mean_squared_error\n",
    "\n",
    "y_train_pred = forest_reg.predict(X_train)\n",
    "forest_mse = mean_squared_error(y_train, y_train_pred)\n",
    "forest_rmse = np.sqrt(forest_mse)\n",
    "forest_rmse"
   ]
  },
  {
   "cell_type": "markdown",
   "metadata": {},
   "source": [
    "### Validation Dataset "
   ]
  },
  {
   "cell_type": "code",
   "execution_count": null,
   "metadata": {},
   "outputs": [],
   "source": [
    "from sklearn.metrics import mean_squared_error\n",
    "\n",
    "y_valid_pred = forest_reg.predict(X_valid)\n",
    "forest_mse = mean_squared_error(y_valid, y_valid_pred)\n",
    "forest_rmse = np.sqrt(forest_mse)\n",
    "forest_rmse"
   ]
  },
  {
   "cell_type": "markdown",
   "metadata": {},
   "source": [
    "### Test Dataset "
   ]
  },
  {
   "cell_type": "code",
   "execution_count": null,
   "metadata": {},
   "outputs": [],
   "source": [
    "from sklearn.metrics import mean_squared_error\n",
    "\n",
    "y_test_pred = forest_reg.predict(X_test)\n",
    "forest_mse = mean_squared_error(y_test, y_test_pred)\n",
    "forest_rmse = np.sqrt(forest_mse)\n",
    "forest_rmse"
   ]
  },
  {
   "cell_type": "markdown",
   "metadata": {},
   "source": [
    "# Random Forest Regression with Grid Search and Descriptors"
   ]
  },
  {
   "cell_type": "code",
   "execution_count": null,
   "metadata": {},
   "outputs": [],
   "source": [
    "from sklearn.ensemble import RandomForestRegressor\n",
    "from sklearn.model_selection import cross_val_predict\n",
    "from sklearn.model_selection import GridSearchCV\n",
    "\n",
    "param_grid = {\n",
    "        'n_estimators': [10, 50, 100, 200, 300, 400, 500, 1000],  \n",
    "        'max_depth': range(3, 12),\n",
    "        'min_samples_leaf': [1, 3, 5, 10, 20, 50],\n",
    "        'min_impurity_decrease': [0, 0.01] ,\n",
    "        'max_features':  ['sqrt', 'log2', 0.7, 0.8, 0.9]\n",
    "        }\n",
    "\n",
    "from sklearn.model_selection import ParameterGrid\n",
    "grid = ParameterGrid(param_grid)\n",
    "len(grid)"
   ]
  },
  {
   "cell_type": "code",
   "execution_count": null,
   "metadata": {},
   "outputs": [],
   "source": [
    "from tqdm import tqdm\n",
    "from sklearn.metrics import mean_squared_error\n",
    "\n",
    "best_model = None\n",
    "best_rmse=np.inf\n",
    "best_param = {}\n",
    "for this_param in tqdm(grid):\n",
    "    this_model = RandomForestRegressor(**this_param, random_state=42)\n",
    "    this_model.fit(X_train, y_train)\n",
    "    forest_mse = mean_squared_error(y_valid, this_model.predict(X_valid))\n",
    "    forest_rmse = np.sqrt(forest_mse)\n",
    "    if best_rmse > forest_rmse:\n",
    "        best_model = this_model\n",
    "        best_rmse = forest_rmse\n",
    "        best_param = this_param"
   ]
  },
  {
   "cell_type": "code",
   "execution_count": null,
   "metadata": {},
   "outputs": [],
   "source": [
    "print(best_param)"
   ]
  },
  {
   "cell_type": "markdown",
   "metadata": {},
   "source": [
    "## RMSE Values "
   ]
  },
  {
   "cell_type": "markdown",
   "metadata": {},
   "source": [
    "### Training Dataset "
   ]
  },
  {
   "cell_type": "code",
   "execution_count": null,
   "metadata": {},
   "outputs": [],
   "source": [
    "y_train_pred = best_model.predict(X_train)\n",
    "\n",
    "forest_mse = mean_squared_error(y_train, y_train_pred)\n",
    "forest_rmse = np.sqrt(forest_mse)\n",
    "forest_rmse"
   ]
  },
  {
   "cell_type": "markdown",
   "metadata": {},
   "source": [
    "### Validation Dataset "
   ]
  },
  {
   "cell_type": "code",
   "execution_count": null,
   "metadata": {},
   "outputs": [],
   "source": [
    "y_valid_pred =best_model.predict(X_valid)\n",
    "\n",
    "forest_mse = mean_squared_error(y_valid, y_valid_pred)\n",
    "forest_rmse = np.sqrt(forest_mse)\n",
    "forest_rmse"
   ]
  },
  {
   "cell_type": "markdown",
   "metadata": {},
   "source": [
    "### Test Dataset "
   ]
  },
  {
   "cell_type": "code",
   "execution_count": null,
   "metadata": {},
   "outputs": [],
   "source": [
    "y_valid_pred =best_model.predict(X_test)\n",
    "\n",
    "forest_mse = mean_squared_error(y_test, y_test_pred)\n",
    "forest_rmse = np.sqrt(forest_mse)\n",
    "forest_rmse"
   ]
  },
  {
   "cell_type": "code",
   "execution_count": null,
   "metadata": {},
   "outputs": [],
   "source": [
    "|<div align=\"center\">Model name</div>||<div align=\"center\">Training RMSE</div>||<div align=\"center\">Validation RMSE</div>||<div align=\"center\">Test RMSE</div>|\n",
    "|---||---||---||---|\n",
    "|<div align=\"center\">Random Forest Model with Default Parameters Using Morgan fingerprints</div>||<div align=\"center\">0.417</div>||<div align=\"center\">0.776</div>||<div align=\"center\">0.846</div>|\n",
    "|<div align=\"center\">Random Forest Model with GridSearch Using Morgan fingerprints)</div>||<div align=\"center\">0.555</div>||<div align=\"center\">0.981</div>||<div align=\"center\">1.040</div>|\n",
    "|<div align=\"center\">Random Forest Model with Default Parameters Using Descriptors</div>||<div align=\"center\">0.242</div>||<div align=\"center\">0.638</div>||<div align=\"center\">0.610</div>|\n",
    "|<div align=\"center\">Random Forest Model with GridSearch Using Descriptors)</div>||<div align=\"center\">0.298</div>||<div align=\"center\">0.648</div>||<div align=\"center\">0.577</div>|\n",
    "<br>"
   ]
  }
 ],
 "metadata": {
  "kernelspec": {
   "display_name": "Python (tf2)",
   "language": "python",
   "name": "tf2"
  },
  "language_info": {
   "codemirror_mode": {
    "name": "ipython",
    "version": 3
   },
   "file_extension": ".py",
   "mimetype": "text/x-python",
   "name": "python",
   "nbconvert_exporter": "python",
   "pygments_lexer": "ipython3",
   "version": "3.7.9"
  }
 },
 "nbformat": 4,
 "nbformat_minor": 5
}
